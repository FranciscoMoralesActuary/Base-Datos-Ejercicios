{
 "cells": [
  {
   "cell_type": "markdown",
   "id": "young-november",
   "metadata": {},
   "source": [
    "## Dependencias"
   ]
  },
  {
   "cell_type": "code",
   "execution_count": null,
   "id": "hybrid-strap",
   "metadata": {},
   "outputs": [],
   "source": []
  },
  {
   "cell_type": "code",
   "execution_count": 1,
   "id": "powered-automation",
   "metadata": {
    "ExecuteTime": {
     "end_time": "2022-03-17T00:31:39.697910Z",
     "start_time": "2022-03-17T00:31:33.632707Z"
    }
   },
   "outputs": [],
   "source": [
    "import pandas as pd\n",
    "import json #JSON = Java Script Object Notation\n",
    "from sqlalchemy import create_engine\n",
    "from sqlalchemy.types import VARCHAR,FLOAT,INTEGER,DATE,CHAR,DATETIME\n",
    "import os\n",
    "\n",
    "pd.set_option('display.max_columns',None)"
   ]
  },
  {
   "cell_type": "markdown",
   "id": "religious-platform",
   "metadata": {},
   "source": [
    "## Credenciales"
   ]
  },
  {
   "cell_type": "code",
   "execution_count": 2,
   "id": "dense-wallet",
   "metadata": {
    "ExecuteTime": {
     "end_time": "2022-03-17T00:31:40.790506Z",
     "start_time": "2022-03-17T00:31:40.787746Z"
    }
   },
   "outputs": [],
   "source": [
    "creds = json.load(open('credenciales_local.json','rb'))"
   ]
  },
  {
   "cell_type": "markdown",
   "id": "junior-thinking",
   "metadata": {},
   "source": [
    "## Crear conexión a base de datos"
   ]
  },
  {
   "cell_type": "code",
   "execution_count": 4,
   "id": "exotic-roller",
   "metadata": {
    "ExecuteTime": {
     "end_time": "2022-03-17T00:32:28.619124Z",
     "start_time": "2022-03-17T00:32:28.612834Z"
    }
   },
   "outputs": [],
   "source": [
    "url = f\"mysql+pymysql://{creds['user']}:{creds['password']}@{creds['servidor']}/retail\"\n",
    "cnx = create_engine(url,encoding='utf8')\n",
    "cnx = cnx.connect()"
   ]
  },
  {
   "cell_type": "code",
   "execution_count": 5,
   "id": "graphic-glass",
   "metadata": {
    "ExecuteTime": {
     "end_time": "2022-03-17T00:32:29.396631Z",
     "start_time": "2022-03-17T00:32:29.376833Z"
    }
   },
   "outputs": [
    {
     "data": {
      "text/plain": [
       "False"
      ]
     },
     "execution_count": 5,
     "metadata": {},
     "output_type": "execute_result"
    }
   ],
   "source": [
    "cnx.closed"
   ]
  },
  {
   "cell_type": "markdown",
   "id": "featured-elimination",
   "metadata": {},
   "source": [
    "## Lectura y limpieza de datos"
   ]
  },
  {
   "cell_type": "code",
   "execution_count": 9,
   "id": "collect-child",
   "metadata": {
    "ExecuteTime": {
     "end_time": "2022-03-17T00:34:13.467044Z",
     "start_time": "2022-03-17T00:33:13.527554Z"
    }
   },
   "outputs": [],
   "source": [
    "datos = pd.read_excel('/home/jose/Documentos/bd/retail/Online Retail.xlsx')"
   ]
  },
  {
   "cell_type": "code",
   "execution_count": 11,
   "id": "opposed-miller",
   "metadata": {
    "ExecuteTime": {
     "end_time": "2022-03-17T00:34:16.843252Z",
     "start_time": "2022-03-17T00:34:16.839066Z"
    }
   },
   "outputs": [
    {
     "data": {
      "text/plain": [
       "(541909, 8)"
      ]
     },
     "execution_count": 11,
     "metadata": {},
     "output_type": "execute_result"
    }
   ],
   "source": [
    "datos.shape"
   ]
  },
  {
   "cell_type": "code",
   "execution_count": 12,
   "id": "designing-pleasure",
   "metadata": {
    "ExecuteTime": {
     "end_time": "2022-03-17T00:34:18.530587Z",
     "start_time": "2022-03-17T00:34:18.263609Z"
    }
   },
   "outputs": [
    {
     "data": {
      "text/html": [
       "<div>\n",
       "<style scoped>\n",
       "    .dataframe tbody tr th:only-of-type {\n",
       "        vertical-align: middle;\n",
       "    }\n",
       "\n",
       "    .dataframe tbody tr th {\n",
       "        vertical-align: top;\n",
       "    }\n",
       "\n",
       "    .dataframe thead th {\n",
       "        text-align: right;\n",
       "    }\n",
       "</style>\n",
       "<table border=\"1\" class=\"dataframe\">\n",
       "  <thead>\n",
       "    <tr style=\"text-align: right;\">\n",
       "      <th></th>\n",
       "      <th>InvoiceNo</th>\n",
       "      <th>StockCode</th>\n",
       "      <th>Description</th>\n",
       "      <th>Quantity</th>\n",
       "      <th>InvoiceDate</th>\n",
       "      <th>UnitPrice</th>\n",
       "      <th>CustomerID</th>\n",
       "      <th>Country</th>\n",
       "    </tr>\n",
       "  </thead>\n",
       "  <tbody>\n",
       "    <tr>\n",
       "      <th>0</th>\n",
       "      <td>536365</td>\n",
       "      <td>85123A</td>\n",
       "      <td>WHITE HANGING HEART T-LIGHT HOLDER</td>\n",
       "      <td>6</td>\n",
       "      <td>2010-12-01 08:26:00</td>\n",
       "      <td>2.55</td>\n",
       "      <td>17850.0</td>\n",
       "      <td>United Kingdom</td>\n",
       "    </tr>\n",
       "    <tr>\n",
       "      <th>1</th>\n",
       "      <td>536365</td>\n",
       "      <td>71053</td>\n",
       "      <td>WHITE METAL LANTERN</td>\n",
       "      <td>6</td>\n",
       "      <td>2010-12-01 08:26:00</td>\n",
       "      <td>3.39</td>\n",
       "      <td>17850.0</td>\n",
       "      <td>United Kingdom</td>\n",
       "    </tr>\n",
       "    <tr>\n",
       "      <th>2</th>\n",
       "      <td>536365</td>\n",
       "      <td>84406B</td>\n",
       "      <td>CREAM CUPID HEARTS COAT HANGER</td>\n",
       "      <td>8</td>\n",
       "      <td>2010-12-01 08:26:00</td>\n",
       "      <td>2.75</td>\n",
       "      <td>17850.0</td>\n",
       "      <td>United Kingdom</td>\n",
       "    </tr>\n",
       "    <tr>\n",
       "      <th>3</th>\n",
       "      <td>536365</td>\n",
       "      <td>84029G</td>\n",
       "      <td>KNITTED UNION FLAG HOT WATER BOTTLE</td>\n",
       "      <td>6</td>\n",
       "      <td>2010-12-01 08:26:00</td>\n",
       "      <td>3.39</td>\n",
       "      <td>17850.0</td>\n",
       "      <td>United Kingdom</td>\n",
       "    </tr>\n",
       "    <tr>\n",
       "      <th>4</th>\n",
       "      <td>536365</td>\n",
       "      <td>84029E</td>\n",
       "      <td>RED WOOLLY HOTTIE WHITE HEART.</td>\n",
       "      <td>6</td>\n",
       "      <td>2010-12-01 08:26:00</td>\n",
       "      <td>3.39</td>\n",
       "      <td>17850.0</td>\n",
       "      <td>United Kingdom</td>\n",
       "    </tr>\n",
       "  </tbody>\n",
       "</table>\n",
       "</div>"
      ],
      "text/plain": [
       "  InvoiceNo StockCode                          Description  Quantity  \\\n",
       "0    536365    85123A   WHITE HANGING HEART T-LIGHT HOLDER         6   \n",
       "1    536365     71053                  WHITE METAL LANTERN         6   \n",
       "2    536365    84406B       CREAM CUPID HEARTS COAT HANGER         8   \n",
       "3    536365    84029G  KNITTED UNION FLAG HOT WATER BOTTLE         6   \n",
       "4    536365    84029E       RED WOOLLY HOTTIE WHITE HEART.         6   \n",
       "\n",
       "          InvoiceDate  UnitPrice  CustomerID         Country  \n",
       "0 2010-12-01 08:26:00       2.55     17850.0  United Kingdom  \n",
       "1 2010-12-01 08:26:00       3.39     17850.0  United Kingdom  \n",
       "2 2010-12-01 08:26:00       2.75     17850.0  United Kingdom  \n",
       "3 2010-12-01 08:26:00       3.39     17850.0  United Kingdom  \n",
       "4 2010-12-01 08:26:00       3.39     17850.0  United Kingdom  "
      ]
     },
     "execution_count": 12,
     "metadata": {},
     "output_type": "execute_result"
    }
   ],
   "source": [
    "datos.head()"
   ]
  },
  {
   "cell_type": "markdown",
   "id": "bearing-chassis",
   "metadata": {},
   "source": [
    "## Separación de Entidades"
   ]
  },
  {
   "cell_type": "markdown",
   "id": "linear-petite",
   "metadata": {},
   "source": [
    "### Entidad Customer"
   ]
  },
  {
   "cell_type": "code",
   "execution_count": 98,
   "id": "grave-gossip",
   "metadata": {
    "ExecuteTime": {
     "end_time": "2022-03-17T01:14:44.952570Z",
     "start_time": "2022-03-17T01:14:44.928628Z"
    }
   },
   "outputs": [],
   "source": [
    "entCustomer = datos[['CustomerID']].drop_duplicates().dropna().reset_index(drop=True)\n",
    "entCustomer['CustomerID'] = entCustomer['CustomerID'].astype(int)"
   ]
  },
  {
   "cell_type": "code",
   "execution_count": 99,
   "id": "supreme-exclusion",
   "metadata": {
    "ExecuteTime": {
     "end_time": "2022-03-17T01:14:45.225490Z",
     "start_time": "2022-03-17T01:14:44.953800Z"
    }
   },
   "outputs": [
    {
     "data": {
      "text/plain": [
       "4372"
      ]
     },
     "execution_count": 99,
     "metadata": {},
     "output_type": "execute_result"
    }
   ],
   "source": [
    "entCustomer.to_sql(con=cnx,\n",
    "                   name='Customer',\n",
    "                   if_exists='replace',\n",
    "                   index=False,\n",
    "                   chunksize=10000,\n",
    "                   dtype={'CustomerID':INTEGER})"
   ]
  },
  {
   "cell_type": "markdown",
   "id": "signed-richardson",
   "metadata": {},
   "source": [
    "### Entidad Product"
   ]
  },
  {
   "cell_type": "code",
   "execution_count": 94,
   "id": "civilian-adaptation",
   "metadata": {
    "ExecuteTime": {
     "end_time": "2022-03-17T01:14:28.641969Z",
     "start_time": "2022-03-17T01:14:28.345401Z"
    }
   },
   "outputs": [
    {
     "data": {
      "text/plain": [
       "3848"
      ]
     },
     "execution_count": 94,
     "metadata": {},
     "output_type": "execute_result"
    }
   ],
   "source": [
    "entProducto = datos[['StockCode','Description']].drop_duplicates().dropna().reset_index(drop=True).astype(str)\n",
    "entProducto['StockCode'] = entProducto['StockCode'].map(str.upper)\n",
    "entProducto = entProducto.groupby('StockCode').first().reset_index()\n",
    "entProducto.to_sql(con=cnx,\n",
    "                   name='Product',\n",
    "                   if_exists='replace',\n",
    "                   index=False,\n",
    "                   chunksize=10000,\n",
    "                   dtype={'StockCode':VARCHAR(12),'Description':VARCHAR(35)})"
   ]
  },
  {
   "cell_type": "code",
   "execution_count": 95,
   "id": "resistant-alabama",
   "metadata": {
    "ExecuteTime": {
     "end_time": "2022-03-17T01:14:29.124486Z",
     "start_time": "2022-03-17T01:14:29.113535Z"
    }
   },
   "outputs": [
    {
     "data": {
      "text/html": [
       "<div>\n",
       "<style scoped>\n",
       "    .dataframe tbody tr th:only-of-type {\n",
       "        vertical-align: middle;\n",
       "    }\n",
       "\n",
       "    .dataframe tbody tr th {\n",
       "        vertical-align: top;\n",
       "    }\n",
       "\n",
       "    .dataframe thead th {\n",
       "        text-align: right;\n",
       "    }\n",
       "</style>\n",
       "<table border=\"1\" class=\"dataframe\">\n",
       "  <thead>\n",
       "    <tr style=\"text-align: right;\">\n",
       "      <th></th>\n",
       "      <th>StockCode</th>\n",
       "      <th>Description</th>\n",
       "    </tr>\n",
       "  </thead>\n",
       "  <tbody>\n",
       "    <tr>\n",
       "      <th>2957</th>\n",
       "      <td>84509A</td>\n",
       "      <td>SET OF 4 ENGLISH ROSE PLACEMATS</td>\n",
       "    </tr>\n",
       "  </tbody>\n",
       "</table>\n",
       "</div>"
      ],
      "text/plain": [
       "     StockCode                      Description\n",
       "2957    84509A  SET OF 4 ENGLISH ROSE PLACEMATS"
      ]
     },
     "execution_count": 95,
     "metadata": {},
     "output_type": "execute_result"
    }
   ],
   "source": [
    "entProducto.loc[entProducto['StockCode']=='84509A']"
   ]
  },
  {
   "cell_type": "markdown",
   "id": "successful-submission",
   "metadata": {},
   "source": [
    "### Entidad Invoice"
   ]
  },
  {
   "cell_type": "code",
   "execution_count": 96,
   "id": "divided-riding",
   "metadata": {
    "ExecuteTime": {
     "end_time": "2022-03-17T01:14:30.758821Z",
     "start_time": "2022-03-17T01:14:29.938684Z"
    }
   },
   "outputs": [
    {
     "data": {
      "text/plain": [
       "22190"
      ]
     },
     "execution_count": 96,
     "metadata": {},
     "output_type": "execute_result"
    }
   ],
   "source": [
    "entInvoice = datos[['InvoiceNo','InvoiceDate','CustomerID']].drop_duplicates().dropna().copy().reset_index(drop=True)\n",
    "entInvoice = entInvoice.sort_values(by=['InvoiceNo','InvoiceDate']).groupby('InvoiceNo').first().reset_index()\n",
    "entInvoice.to_sql(con=cnx,\n",
    "                   name='Invoice',\n",
    "                   if_exists='replace',\n",
    "                   index=False,\n",
    "                   chunksize=10000,\n",
    "                   dtype={'InvoiceNo':CHAR(7),\n",
    "                           'InvoiceDate':DATETIME,\n",
    "                           'CustomerID':INTEGER\n",
    "                         }\n",
    "             )"
   ]
  },
  {
   "cell_type": "markdown",
   "id": "august-backup",
   "metadata": {},
   "source": [
    "### Entidad Transaction"
   ]
  },
  {
   "cell_type": "code",
   "execution_count": 149,
   "id": "confident-affair",
   "metadata": {
    "ExecuteTime": {
     "end_time": "2022-03-17T01:29:24.293036Z",
     "start_time": "2022-03-17T01:29:07.003147Z"
    }
   },
   "outputs": [
    {
     "name": "stdout",
     "output_type": "stream",
     "text": [
      "(406829, 8)\n",
      "(406829, 9)\n"
     ]
    },
    {
     "data": {
      "text/plain": [
       "406829"
      ]
     },
     "execution_count": 149,
     "metadata": {},
     "output_type": "execute_result"
    }
   ],
   "source": [
    "entTxn = datos[['InvoiceNo','StockCode','Quantity','UnitPrice','Country']].copy().dropna().reset_index(drop=True)\n",
    "entTxn.insert(0,'TxnID', entTxn.index+1) \n",
    "entTxn['StockCode'] = entTxn['StockCode'].map(str).map(str.upper)\n",
    "entTxn = entTxn.merge(entInvoice,on='InvoiceNo',how='inner')\n",
    "print(entTxn.shape)\n",
    "entTxn = entTxn.merge(entProducto,on='StockCode',how='inner')\n",
    "print(entTxn.shape)\n",
    "entTxn.dropna().to_sql(con=cnx,\n",
    "                   name='Transaction',\n",
    "                   if_exists='replace',\n",
    "                   index=False,\n",
    "                   chunksize=10000,\n",
    "                   dtype={'TxnID':INTEGER,\n",
    "                           'InvoiceNo':CHAR(7),\n",
    "                           'StockCode':VARCHAR(12),\n",
    "                           'Quantity':INTEGER,\n",
    "                          'UnitPrice':FLOAT,\n",
    "                          'Country':VARCHAR(20)\n",
    "                         }\n",
    "             )"
   ]
  },
  {
   "cell_type": "code",
   "execution_count": 147,
   "id": "smart-animation",
   "metadata": {
    "ExecuteTime": {
     "end_time": "2022-03-17T01:26:14.695958Z",
     "start_time": "2022-03-17T01:26:14.685165Z"
    }
   },
   "outputs": [
    {
     "data": {
      "text/html": [
       "<div>\n",
       "<style scoped>\n",
       "    .dataframe tbody tr th:only-of-type {\n",
       "        vertical-align: middle;\n",
       "    }\n",
       "\n",
       "    .dataframe tbody tr th {\n",
       "        vertical-align: top;\n",
       "    }\n",
       "\n",
       "    .dataframe thead th {\n",
       "        text-align: right;\n",
       "    }\n",
       "</style>\n",
       "<table border=\"1\" class=\"dataframe\">\n",
       "  <thead>\n",
       "    <tr style=\"text-align: right;\">\n",
       "      <th></th>\n",
       "      <th>InvoiceNo</th>\n",
       "      <th>InvoiceDate</th>\n",
       "      <th>CustomerID</th>\n",
       "    </tr>\n",
       "  </thead>\n",
       "  <tbody>\n",
       "  </tbody>\n",
       "</table>\n",
       "</div>"
      ],
      "text/plain": [
       "Empty DataFrame\n",
       "Columns: [InvoiceNo, InvoiceDate, CustomerID]\n",
       "Index: []"
      ]
     },
     "execution_count": 147,
     "metadata": {},
     "output_type": "execute_result"
    }
   ],
   "source": [
    "entInvoice.loc[entInvoice['InvoiceNo']=='536414']"
   ]
  },
  {
   "cell_type": "code",
   "execution_count": null,
   "id": "unlikely-antibody",
   "metadata": {},
   "outputs": [],
   "source": []
  }
 ],
 "metadata": {
  "kernelspec": {
   "display_name": "bd",
   "language": "python",
   "name": "bd"
  },
  "language_info": {
   "codemirror_mode": {
    "name": "ipython",
    "version": 3
   },
   "file_extension": ".py",
   "mimetype": "text/x-python",
   "name": "python",
   "nbconvert_exporter": "python",
   "pygments_lexer": "ipython3",
   "version": "3.9.1"
  },
  "toc": {
   "base_numbering": 1,
   "nav_menu": {},
   "number_sections": true,
   "sideBar": true,
   "skip_h1_title": false,
   "title_cell": "Table of Contents",
   "title_sidebar": "Contents",
   "toc_cell": false,
   "toc_position": {},
   "toc_section_display": true,
   "toc_window_display": false
  }
 },
 "nbformat": 4,
 "nbformat_minor": 5
}
