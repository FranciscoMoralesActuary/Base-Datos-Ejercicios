{
 "cells": [
  {
   "cell_type": "markdown",
   "id": "young-november",
   "metadata": {},
   "source": [
    "## Dependencias"
   ]
  },
  {
   "cell_type": "code",
   "execution_count": 1,
   "id": "powered-automation",
   "metadata": {
    "ExecuteTime": {
     "end_time": "2022-03-19T00:07:51.332471Z",
     "start_time": "2022-03-19T00:07:44.885602Z"
    }
   },
   "outputs": [],
   "source": [
    "import pandas as pd\n",
    "import json #JSON = Java Script Object Notation\n",
    "from sqlalchemy import create_engine\n",
    "from sqlalchemy.types import VARCHAR,FLOAT,INTEGER,DATE,CHAR,DATETIME\n",
    "import os\n",
    "\n",
    "pd.set_option('display.max_columns',None)"
   ]
  },
  {
   "cell_type": "markdown",
   "id": "religious-platform",
   "metadata": {},
   "source": [
    "## Credenciales"
   ]
  },
  {
   "cell_type": "code",
   "execution_count": 2,
   "id": "dense-wallet",
   "metadata": {
    "ExecuteTime": {
     "end_time": "2022-03-19T00:07:51.336621Z",
     "start_time": "2022-03-19T00:07:51.333797Z"
    }
   },
   "outputs": [],
   "source": [
    "creds = json.load(open('credenciales_local.json','rb'))"
   ]
  },
  {
   "cell_type": "markdown",
   "id": "junior-thinking",
   "metadata": {},
   "source": [
    "## Crear conexión a base de datos"
   ]
  },
  {
   "cell_type": "code",
   "execution_count": 4,
   "id": "exotic-roller",
   "metadata": {
    "ExecuteTime": {
     "end_time": "2022-03-19T00:08:33.552634Z",
     "start_time": "2022-03-19T00:08:33.541943Z"
    }
   },
   "outputs": [],
   "source": [
    "url = f\"mysql+pymysql://{creds['user']}:{creds['password']}@{creds['servidor']}/ecobici\"\n",
    "cnx = create_engine(url,encoding='utf8')\n",
    "cnx = cnx.connect()"
   ]
  },
  {
   "cell_type": "code",
   "execution_count": 5,
   "id": "graphic-glass",
   "metadata": {
    "ExecuteTime": {
     "end_time": "2022-03-19T00:08:34.186946Z",
     "start_time": "2022-03-19T00:08:34.173454Z"
    }
   },
   "outputs": [
    {
     "data": {
      "text/plain": [
       "False"
      ]
     },
     "execution_count": 5,
     "metadata": {},
     "output_type": "execute_result"
    }
   ],
   "source": [
    "cnx.closed"
   ]
  },
  {
   "cell_type": "markdown",
   "id": "featured-elimination",
   "metadata": {},
   "source": [
    "## Lectura y limpieza de datos"
   ]
  },
  {
   "cell_type": "code",
   "execution_count": 7,
   "id": "useful-flexibility",
   "metadata": {
    "ExecuteTime": {
     "end_time": "2022-03-19T00:08:39.555796Z",
     "start_time": "2022-03-19T00:08:39.553385Z"
    }
   },
   "outputs": [],
   "source": [
    "ruta = '/home/jose/Documentos/bd/ecobici/'"
   ]
  },
  {
   "cell_type": "code",
   "execution_count": 12,
   "id": "later-apache",
   "metadata": {
    "ExecuteTime": {
     "end_time": "2022-03-19T00:09:58.196342Z",
     "start_time": "2022-03-19T00:09:58.191394Z"
    }
   },
   "outputs": [],
   "source": [
    "listaArchivos = sorted([os.path.join(ruta,arch) for arch in os.listdir(ruta) if '20' in arch])"
   ]
  },
  {
   "cell_type": "code",
   "execution_count": 13,
   "id": "conventional-profession",
   "metadata": {
    "ExecuteTime": {
     "end_time": "2022-03-19T00:10:02.916966Z",
     "start_time": "2022-03-19T00:10:02.913820Z"
    }
   },
   "outputs": [
    {
     "data": {
      "text/plain": [
       "62"
      ]
     },
     "execution_count": 13,
     "metadata": {},
     "output_type": "execute_result"
    }
   ],
   "source": [
    "len(listaArchivos)"
   ]
  },
  {
   "cell_type": "code",
   "execution_count": 14,
   "id": "collect-child",
   "metadata": {
    "ExecuteTime": {
     "end_time": "2022-03-19T00:10:20.299080Z",
     "start_time": "2022-03-19T00:10:18.670439Z"
    }
   },
   "outputs": [],
   "source": [
    "datos = pd.read_csv(listaArchivos[0])"
   ]
  },
  {
   "cell_type": "code",
   "execution_count": 15,
   "id": "opposed-miller",
   "metadata": {
    "ExecuteTime": {
     "end_time": "2022-03-19T00:10:20.303589Z",
     "start_time": "2022-03-19T00:10:20.300384Z"
    }
   },
   "outputs": [
    {
     "data": {
      "text/plain": [
       "(810626, 9)"
      ]
     },
     "execution_count": 15,
     "metadata": {},
     "output_type": "execute_result"
    }
   ],
   "source": [
    "datos.shape"
   ]
  },
  {
   "cell_type": "code",
   "execution_count": 16,
   "id": "designing-pleasure",
   "metadata": {
    "ExecuteTime": {
     "end_time": "2022-03-19T00:10:21.016113Z",
     "start_time": "2022-03-19T00:10:20.305671Z"
    }
   },
   "outputs": [
    {
     "data": {
      "text/html": [
       "<div>\n",
       "<style scoped>\n",
       "    .dataframe tbody tr th:only-of-type {\n",
       "        vertical-align: middle;\n",
       "    }\n",
       "\n",
       "    .dataframe tbody tr th {\n",
       "        vertical-align: top;\n",
       "    }\n",
       "\n",
       "    .dataframe thead th {\n",
       "        text-align: right;\n",
       "    }\n",
       "</style>\n",
       "<table border=\"1\" class=\"dataframe\">\n",
       "  <thead>\n",
       "    <tr style=\"text-align: right;\">\n",
       "      <th></th>\n",
       "      <th>Genero_Usuario</th>\n",
       "      <th>Edad_Usuario</th>\n",
       "      <th>Bici</th>\n",
       "      <th>Ciclo_Estacion_Retiro</th>\n",
       "      <th>Fecha_Retiro</th>\n",
       "      <th>Hora_Retiro</th>\n",
       "      <th>Ciclo_Estacion_Arribo</th>\n",
       "      <th>Fecha_Arribo</th>\n",
       "      <th>Hora_Arribo</th>\n",
       "    </tr>\n",
       "  </thead>\n",
       "  <tbody>\n",
       "    <tr>\n",
       "      <th>0</th>\n",
       "      <td>M</td>\n",
       "      <td>42</td>\n",
       "      <td>1570</td>\n",
       "      <td>33</td>\n",
       "      <td>01/01/2017</td>\n",
       "      <td>0:05:06</td>\n",
       "      <td>1</td>\n",
       "      <td>01/01/2017</td>\n",
       "      <td>0:16:49</td>\n",
       "    </tr>\n",
       "    <tr>\n",
       "      <th>1</th>\n",
       "      <td>M</td>\n",
       "      <td>36</td>\n",
       "      <td>7083</td>\n",
       "      <td>27</td>\n",
       "      <td>01/01/2017</td>\n",
       "      <td>0:10:13</td>\n",
       "      <td>123</td>\n",
       "      <td>01/01/2017</td>\n",
       "      <td>0:18:28</td>\n",
       "    </tr>\n",
       "    <tr>\n",
       "      <th>2</th>\n",
       "      <td>M</td>\n",
       "      <td>18</td>\n",
       "      <td>4093</td>\n",
       "      <td>157</td>\n",
       "      <td>01/01/2017</td>\n",
       "      <td>0:14:06</td>\n",
       "      <td>157</td>\n",
       "      <td>01/01/2017</td>\n",
       "      <td>1:05:31</td>\n",
       "    </tr>\n",
       "    <tr>\n",
       "      <th>3</th>\n",
       "      <td>M</td>\n",
       "      <td>20</td>\n",
       "      <td>7704</td>\n",
       "      <td>87</td>\n",
       "      <td>01/01/2017</td>\n",
       "      <td>0:14:35</td>\n",
       "      <td>43</td>\n",
       "      <td>01/01/2017</td>\n",
       "      <td>0:18:27</td>\n",
       "    </tr>\n",
       "    <tr>\n",
       "      <th>4</th>\n",
       "      <td>M</td>\n",
       "      <td>34</td>\n",
       "      <td>7176</td>\n",
       "      <td>47</td>\n",
       "      <td>01/01/2017</td>\n",
       "      <td>0:16:54</td>\n",
       "      <td>123</td>\n",
       "      <td>01/01/2017</td>\n",
       "      <td>0:26:08</td>\n",
       "    </tr>\n",
       "  </tbody>\n",
       "</table>\n",
       "</div>"
      ],
      "text/plain": [
       "  Genero_Usuario  Edad_Usuario  Bici  Ciclo_Estacion_Retiro Fecha_Retiro  \\\n",
       "0              M            42  1570                     33   01/01/2017   \n",
       "1              M            36  7083                     27   01/01/2017   \n",
       "2              M            18  4093                    157   01/01/2017   \n",
       "3              M            20  7704                     87   01/01/2017   \n",
       "4              M            34  7176                     47   01/01/2017   \n",
       "\n",
       "  Hora_Retiro  Ciclo_Estacion_Arribo Fecha_Arribo Hora_Arribo  \n",
       "0     0:05:06                      1   01/01/2017     0:16:49  \n",
       "1     0:10:13                    123   01/01/2017     0:18:28  \n",
       "2     0:14:06                    157   01/01/2017     1:05:31  \n",
       "3     0:14:35                     43   01/01/2017     0:18:27  \n",
       "4     0:16:54                    123   01/01/2017     0:26:08  "
      ]
     },
     "execution_count": 16,
     "metadata": {},
     "output_type": "execute_result"
    }
   ],
   "source": [
    "datos.head()"
   ]
  },
  {
   "cell_type": "markdown",
   "id": "bearing-chassis",
   "metadata": {},
   "source": [
    "## Separación de Entidades"
   ]
  },
  {
   "cell_type": "markdown",
   "id": "linear-petite",
   "metadata": {},
   "source": [
    "### Entidad Estación"
   ]
  },
  {
   "cell_type": "code",
   "execution_count": 36,
   "id": "grave-gossip",
   "metadata": {
    "ExecuteTime": {
     "end_time": "2022-03-19T00:18:40.030514Z",
     "start_time": "2022-03-19T00:18:39.971467Z"
    }
   },
   "outputs": [],
   "source": [
    "entEstacion = pd.concat([datos[[f'Ciclo_Estacion_{tipo}']].rename(columns={f'Ciclo_Estacion_{tipo}':'idEstacion'}) for tipo in ['Arribo','Retiro']],ignore_index=True).drop_duplicates().reset_index(drop=True)\n",
    "cat = pd.read_csv('/home/jose/Documentos/bd/ecobici/estaciones-de-ecobici.csv',usecols=['id','name','location_lat','location_lon','stationtype'])\n",
    "cat.columns = ['idEstacion','nombre','latitud','longitud','tipoEstacion']\n",
    "entEstacion = entEstacion.merge(cat,on='idEstacion',how='inner')"
   ]
  },
  {
   "cell_type": "code",
   "execution_count": 65,
   "id": "supreme-exclusion",
   "metadata": {
    "ExecuteTime": {
     "end_time": "2022-03-19T00:31:00.436817Z",
     "start_time": "2022-03-19T00:31:00.360061Z"
    }
   },
   "outputs": [
    {
     "data": {
      "text/plain": [
       "447"
      ]
     },
     "execution_count": 65,
     "metadata": {},
     "output_type": "execute_result"
    }
   ],
   "source": [
    "entEstacion.to_sql(con=cnx,\n",
    "                   name='estacion',\n",
    "                   if_exists='replace',\n",
    "                   index=False,\n",
    "                   chunksize=10000,\n",
    "                   dtype={'idEstacion':INTEGER,\n",
    "                          'nombre':VARCHAR(49),\n",
    "                          'latitud':FLOAT,\n",
    "                          'longitud':FLOAT,\n",
    "                          'tipoEstacion':VARCHAR(13)})"
   ]
  },
  {
   "cell_type": "markdown",
   "id": "signed-richardson",
   "metadata": {},
   "source": [
    "### Entidad Bici"
   ]
  },
  {
   "cell_type": "code",
   "execution_count": 66,
   "id": "funny-gospel",
   "metadata": {
    "ExecuteTime": {
     "end_time": "2022-03-19T00:31:01.258909Z",
     "start_time": "2022-03-19T00:31:01.210797Z"
    }
   },
   "outputs": [],
   "source": [
    "entBici = datos[['Bici']].drop_duplicates().reset_index(drop=True).rename(columns={'Bici':'idBici'})"
   ]
  },
  {
   "cell_type": "code",
   "execution_count": 67,
   "id": "every-desktop",
   "metadata": {
    "ExecuteTime": {
     "end_time": "2022-03-19T00:31:01.768221Z",
     "start_time": "2022-03-19T00:31:01.625534Z"
    }
   },
   "outputs": [
    {
     "data": {
      "text/plain": [
       "5123"
      ]
     },
     "execution_count": 67,
     "metadata": {},
     "output_type": "execute_result"
    }
   ],
   "source": [
    "entBici.to_sql(con=cnx,\n",
    "                   name='bici',\n",
    "                   if_exists='replace',\n",
    "                   index=False,\n",
    "                   chunksize=10000,\n",
    "                   dtype={'idBici':INTEGER})"
   ]
  },
  {
   "cell_type": "code",
   "execution_count": 68,
   "id": "published-suspect",
   "metadata": {
    "ExecuteTime": {
     "end_time": "2022-03-19T00:31:02.435294Z",
     "start_time": "2022-03-19T00:31:02.422864Z"
    }
   },
   "outputs": [
    {
     "data": {
      "text/html": [
       "<div>\n",
       "<style scoped>\n",
       "    .dataframe tbody tr th:only-of-type {\n",
       "        vertical-align: middle;\n",
       "    }\n",
       "\n",
       "    .dataframe tbody tr th {\n",
       "        vertical-align: top;\n",
       "    }\n",
       "\n",
       "    .dataframe thead th {\n",
       "        text-align: right;\n",
       "    }\n",
       "</style>\n",
       "<table border=\"1\" class=\"dataframe\">\n",
       "  <thead>\n",
       "    <tr style=\"text-align: right;\">\n",
       "      <th></th>\n",
       "      <th>Genero_Usuario</th>\n",
       "      <th>Edad_Usuario</th>\n",
       "      <th>Bici</th>\n",
       "      <th>Ciclo_Estacion_Retiro</th>\n",
       "      <th>Fecha_Retiro</th>\n",
       "      <th>Hora_Retiro</th>\n",
       "      <th>Ciclo_Estacion_Arribo</th>\n",
       "      <th>Fecha_Arribo</th>\n",
       "      <th>Hora_Arribo</th>\n",
       "    </tr>\n",
       "  </thead>\n",
       "  <tbody>\n",
       "    <tr>\n",
       "      <th>0</th>\n",
       "      <td>M</td>\n",
       "      <td>42</td>\n",
       "      <td>1570</td>\n",
       "      <td>33</td>\n",
       "      <td>01/01/2017</td>\n",
       "      <td>0:05:06</td>\n",
       "      <td>1</td>\n",
       "      <td>01/01/2017</td>\n",
       "      <td>0:16:49</td>\n",
       "    </tr>\n",
       "    <tr>\n",
       "      <th>1</th>\n",
       "      <td>M</td>\n",
       "      <td>36</td>\n",
       "      <td>7083</td>\n",
       "      <td>27</td>\n",
       "      <td>01/01/2017</td>\n",
       "      <td>0:10:13</td>\n",
       "      <td>123</td>\n",
       "      <td>01/01/2017</td>\n",
       "      <td>0:18:28</td>\n",
       "    </tr>\n",
       "    <tr>\n",
       "      <th>2</th>\n",
       "      <td>M</td>\n",
       "      <td>18</td>\n",
       "      <td>4093</td>\n",
       "      <td>157</td>\n",
       "      <td>01/01/2017</td>\n",
       "      <td>0:14:06</td>\n",
       "      <td>157</td>\n",
       "      <td>01/01/2017</td>\n",
       "      <td>1:05:31</td>\n",
       "    </tr>\n",
       "    <tr>\n",
       "      <th>3</th>\n",
       "      <td>M</td>\n",
       "      <td>20</td>\n",
       "      <td>7704</td>\n",
       "      <td>87</td>\n",
       "      <td>01/01/2017</td>\n",
       "      <td>0:14:35</td>\n",
       "      <td>43</td>\n",
       "      <td>01/01/2017</td>\n",
       "      <td>0:18:27</td>\n",
       "    </tr>\n",
       "    <tr>\n",
       "      <th>4</th>\n",
       "      <td>M</td>\n",
       "      <td>34</td>\n",
       "      <td>7176</td>\n",
       "      <td>47</td>\n",
       "      <td>01/01/2017</td>\n",
       "      <td>0:16:54</td>\n",
       "      <td>123</td>\n",
       "      <td>01/01/2017</td>\n",
       "      <td>0:26:08</td>\n",
       "    </tr>\n",
       "  </tbody>\n",
       "</table>\n",
       "</div>"
      ],
      "text/plain": [
       "  Genero_Usuario  Edad_Usuario  Bici  Ciclo_Estacion_Retiro Fecha_Retiro  \\\n",
       "0              M            42  1570                     33   01/01/2017   \n",
       "1              M            36  7083                     27   01/01/2017   \n",
       "2              M            18  4093                    157   01/01/2017   \n",
       "3              M            20  7704                     87   01/01/2017   \n",
       "4              M            34  7176                     47   01/01/2017   \n",
       "\n",
       "  Hora_Retiro  Ciclo_Estacion_Arribo Fecha_Arribo Hora_Arribo  \n",
       "0     0:05:06                      1   01/01/2017     0:16:49  \n",
       "1     0:10:13                    123   01/01/2017     0:18:28  \n",
       "2     0:14:06                    157   01/01/2017     1:05:31  \n",
       "3     0:14:35                     43   01/01/2017     0:18:27  \n",
       "4     0:16:54                    123   01/01/2017     0:26:08  "
      ]
     },
     "execution_count": 68,
     "metadata": {},
     "output_type": "execute_result"
    }
   ],
   "source": [
    "datos.head()"
   ]
  },
  {
   "cell_type": "markdown",
   "id": "successful-submission",
   "metadata": {},
   "source": [
    "### Entidad Viaje"
   ]
  },
  {
   "cell_type": "code",
   "execution_count": 69,
   "id": "divided-riding",
   "metadata": {
    "ExecuteTime": {
     "end_time": "2022-03-19T00:31:04.825063Z",
     "start_time": "2022-03-19T00:31:04.797640Z"
    }
   },
   "outputs": [],
   "source": [
    "entViaje = datos.copy()"
   ]
  },
  {
   "cell_type": "code",
   "execution_count": 70,
   "id": "pending-customer",
   "metadata": {
    "ExecuteTime": {
     "end_time": "2022-03-19T00:31:11.751114Z",
     "start_time": "2022-03-19T00:31:05.209508Z"
    }
   },
   "outputs": [],
   "source": [
    "for tipo in ['Arribo','Retiro']:\n",
    "    entViaje[f'Hora_{tipo}'] = entViaje[f'Hora_{tipo}'].map(lambda x:f'0{x}' if len(x)==7 else x)\n",
    "    entViaje[f'Fecha_{tipo}'] = entViaje[f'Fecha_{tipo}']+' '+entViaje[f'Hora_{tipo}']\n",
    "    entViaje.drop(f'Hora_{tipo}',axis=1,inplace=True)\n",
    "    entViaje[f'Fecha_{tipo}'] = pd.to_datetime(entViaje[f'Fecha_{tipo}'],\n",
    "                                               format='%d/%m/%Y %H:%M:%S',\n",
    "                                               errors='coerce')"
   ]
  },
  {
   "cell_type": "code",
   "execution_count": 71,
   "id": "black-architect",
   "metadata": {
    "ExecuteTime": {
     "end_time": "2022-03-19T00:31:11.758314Z",
     "start_time": "2022-03-19T00:31:11.753473Z"
    }
   },
   "outputs": [],
   "source": [
    "entViaje.columns =['generoUsuario','edadUsuario','idBici','idEstacionRetiro','fechaRetiro','idEstacionArribo','fechaArribo']"
   ]
  },
  {
   "cell_type": "code",
   "execution_count": 72,
   "id": "independent-documentation",
   "metadata": {
    "ExecuteTime": {
     "end_time": "2022-03-19T00:31:11.986112Z",
     "start_time": "2022-03-19T00:31:11.760273Z"
    }
   },
   "outputs": [],
   "source": [
    "entViaje.insert(0,'idViaje',entViaje.index+1)"
   ]
  },
  {
   "cell_type": "code",
   "execution_count": 74,
   "id": "ambient-discipline",
   "metadata": {
    "ExecuteTime": {
     "end_time": "2022-03-19T00:33:32.905753Z",
     "start_time": "2022-03-19T00:33:32.899213Z"
    }
   },
   "outputs": [
    {
     "data": {
      "text/plain": [
       "Index(['idViaje', 'generoUsuario', 'edadUsuario', 'idBici', 'idEstacionRetiro',\n",
       "       'fechaRetiro', 'idEstacionArribo', 'fechaArribo'],\n",
       "      dtype='object')"
      ]
     },
     "execution_count": 74,
     "metadata": {},
     "output_type": "execute_result"
    }
   ],
   "source": [
    "entViaje.columns"
   ]
  },
  {
   "cell_type": "code",
   "execution_count": 76,
   "id": "noble-hardwood",
   "metadata": {
    "ExecuteTime": {
     "end_time": "2022-03-19T00:38:29.527785Z",
     "start_time": "2022-03-19T00:38:29.051690Z"
    }
   },
   "outputs": [],
   "source": [
    "entViaje = entViaje.merge(entEstacion,left_on='idEstacionRetiro',right_on='idEstacion',how='inner')\n",
    "entViaje = entViaje.merge(entEstacion,left_on='idEstacionArribo',right_on='idEstacion',how='inner')\n",
    "entViaje = entViaje.merge(entBici,left_on='idBici',right_on='idBici',how='inner')"
   ]
  },
  {
   "cell_type": "code",
   "execution_count": 81,
   "id": "united-terrace",
   "metadata": {
    "ExecuteTime": {
     "end_time": "2022-03-19T02:03:23.322023Z",
     "start_time": "2022-03-19T02:03:23.301475Z"
    }
   },
   "outputs": [
    {
     "data": {
      "text/html": [
       "<div>\n",
       "<style scoped>\n",
       "    .dataframe tbody tr th:only-of-type {\n",
       "        vertical-align: middle;\n",
       "    }\n",
       "\n",
       "    .dataframe tbody tr th {\n",
       "        vertical-align: top;\n",
       "    }\n",
       "\n",
       "    .dataframe thead th {\n",
       "        text-align: right;\n",
       "    }\n",
       "</style>\n",
       "<table border=\"1\" class=\"dataframe\">\n",
       "  <thead>\n",
       "    <tr style=\"text-align: right;\">\n",
       "      <th></th>\n",
       "      <th>idViaje</th>\n",
       "      <th>generoUsuario</th>\n",
       "      <th>edadUsuario</th>\n",
       "      <th>idBici</th>\n",
       "      <th>idEstacionRetiro</th>\n",
       "      <th>fechaRetiro</th>\n",
       "      <th>idEstacionArribo</th>\n",
       "      <th>fechaArribo</th>\n",
       "      <th>idEstacion_x</th>\n",
       "      <th>nombre_x</th>\n",
       "      <th>latitud_x</th>\n",
       "      <th>longitud_x</th>\n",
       "      <th>tipoEstacion_x</th>\n",
       "      <th>idEstacion_y</th>\n",
       "      <th>nombre_y</th>\n",
       "      <th>latitud_y</th>\n",
       "      <th>longitud_y</th>\n",
       "      <th>tipoEstacion_y</th>\n",
       "    </tr>\n",
       "  </thead>\n",
       "  <tbody>\n",
       "    <tr>\n",
       "      <th>0</th>\n",
       "      <td>1</td>\n",
       "      <td>M</td>\n",
       "      <td>42</td>\n",
       "      <td>1570</td>\n",
       "      <td>33</td>\n",
       "      <td>2017-01-01 00:05:06</td>\n",
       "      <td>1</td>\n",
       "      <td>2017-01-01 00:16:49</td>\n",
       "      <td>33</td>\n",
       "      <td>E33 LONDRES-FLORENCIA</td>\n",
       "      <td>19.424234</td>\n",
       "      <td>-99.166431</td>\n",
       "      <td>ELECTRIC_BIKE</td>\n",
       "      <td>1</td>\n",
       "      <td>1 RIO SENA-RIO BALSAS</td>\n",
       "      <td>19.433571</td>\n",
       "      <td>-99.167809</td>\n",
       "      <td>BIKE,TPV</td>\n",
       "    </tr>\n",
       "    <tr>\n",
       "      <th>1</th>\n",
       "      <td>771981</td>\n",
       "      <td>F</td>\n",
       "      <td>32</td>\n",
       "      <td>1570</td>\n",
       "      <td>136</td>\n",
       "      <td>2017-01-30 20:24:46</td>\n",
       "      <td>47</td>\n",
       "      <td>2017-01-30 20:28:21</td>\n",
       "      <td>136</td>\n",
       "      <td>136 ÁLVARO OBREGÓN-TONALÁ</td>\n",
       "      <td>19.417715</td>\n",
       "      <td>-99.162729</td>\n",
       "      <td>BIKE,TPV</td>\n",
       "      <td>47</td>\n",
       "      <td>47 GLORIETA CIBELES-OAXACA</td>\n",
       "      <td>19.419515</td>\n",
       "      <td>-99.166299</td>\n",
       "      <td>BIKE,TPV</td>\n",
       "    </tr>\n",
       "    <tr>\n",
       "      <th>2</th>\n",
       "      <td>20581</td>\n",
       "      <td>M</td>\n",
       "      <td>46</td>\n",
       "      <td>1570</td>\n",
       "      <td>229</td>\n",
       "      <td>2017-01-02 18:38:14</td>\n",
       "      <td>21</td>\n",
       "      <td>2017-01-02 18:53:42</td>\n",
       "      <td>229</td>\n",
       "      <td>229 DICKENS-SENECA</td>\n",
       "      <td>19.430515</td>\n",
       "      <td>-99.203331</td>\n",
       "      <td>BIKE</td>\n",
       "      <td>21</td>\n",
       "      <td>21 REFORMA-DUBLIN</td>\n",
       "      <td>19.424720</td>\n",
       "      <td>-99.172060</td>\n",
       "      <td>BIKE,TPV</td>\n",
       "    </tr>\n",
       "    <tr>\n",
       "      <th>3</th>\n",
       "      <td>52169</td>\n",
       "      <td>M</td>\n",
       "      <td>23</td>\n",
       "      <td>1570</td>\n",
       "      <td>263</td>\n",
       "      <td>2017-01-04 07:04:06</td>\n",
       "      <td>130</td>\n",
       "      <td>2017-01-04 07:11:04</td>\n",
       "      <td>263</td>\n",
       "      <td>263 SADI CARNOT-GÓMEZ FARIAS</td>\n",
       "      <td>19.436274</td>\n",
       "      <td>-99.158425</td>\n",
       "      <td>BIKE,TPV</td>\n",
       "      <td>130</td>\n",
       "      <td>130 MÉRIDA-DURANGO</td>\n",
       "      <td>19.421576</td>\n",
       "      <td>-99.158015</td>\n",
       "      <td>BIKE</td>\n",
       "    </tr>\n",
       "    <tr>\n",
       "      <th>4</th>\n",
       "      <td>352279</td>\n",
       "      <td>F</td>\n",
       "      <td>31</td>\n",
       "      <td>1570</td>\n",
       "      <td>158</td>\n",
       "      <td>2017-01-16 09:16:34</td>\n",
       "      <td>31</td>\n",
       "      <td>2017-01-16 09:29:00</td>\n",
       "      <td>158</td>\n",
       "      <td>158 HUATABAMPO-EJE 1PTE. CUAUHTÉMOC</td>\n",
       "      <td>19.407447</td>\n",
       "      <td>-99.155717</td>\n",
       "      <td>BIKE,TPV</td>\n",
       "      <td>31</td>\n",
       "      <td>31 HAMBURGO-INSURGENTES</td>\n",
       "      <td>19.427838</td>\n",
       "      <td>-99.161193</td>\n",
       "      <td>BIKE</td>\n",
       "    </tr>\n",
       "  </tbody>\n",
       "</table>\n",
       "</div>"
      ],
      "text/plain": [
       "   idViaje generoUsuario  edadUsuario  idBici  idEstacionRetiro  \\\n",
       "0        1             M           42    1570                33   \n",
       "1   771981             F           32    1570               136   \n",
       "2    20581             M           46    1570               229   \n",
       "3    52169             M           23    1570               263   \n",
       "4   352279             F           31    1570               158   \n",
       "\n",
       "          fechaRetiro  idEstacionArribo         fechaArribo  idEstacion_x  \\\n",
       "0 2017-01-01 00:05:06                 1 2017-01-01 00:16:49            33   \n",
       "1 2017-01-30 20:24:46                47 2017-01-30 20:28:21           136   \n",
       "2 2017-01-02 18:38:14                21 2017-01-02 18:53:42           229   \n",
       "3 2017-01-04 07:04:06               130 2017-01-04 07:11:04           263   \n",
       "4 2017-01-16 09:16:34                31 2017-01-16 09:29:00           158   \n",
       "\n",
       "                              nombre_x  latitud_x  longitud_x tipoEstacion_x  \\\n",
       "0                E33 LONDRES-FLORENCIA  19.424234  -99.166431  ELECTRIC_BIKE   \n",
       "1            136 ÁLVARO OBREGÓN-TONALÁ  19.417715  -99.162729       BIKE,TPV   \n",
       "2                   229 DICKENS-SENECA  19.430515  -99.203331           BIKE   \n",
       "3         263 SADI CARNOT-GÓMEZ FARIAS  19.436274  -99.158425       BIKE,TPV   \n",
       "4  158 HUATABAMPO-EJE 1PTE. CUAUHTÉMOC  19.407447  -99.155717       BIKE,TPV   \n",
       "\n",
       "   idEstacion_y                    nombre_y  latitud_y  longitud_y  \\\n",
       "0             1       1 RIO SENA-RIO BALSAS  19.433571  -99.167809   \n",
       "1            47  47 GLORIETA CIBELES-OAXACA  19.419515  -99.166299   \n",
       "2            21           21 REFORMA-DUBLIN  19.424720  -99.172060   \n",
       "3           130          130 MÉRIDA-DURANGO  19.421576  -99.158015   \n",
       "4            31     31 HAMBURGO-INSURGENTES  19.427838  -99.161193   \n",
       "\n",
       "  tipoEstacion_y  \n",
       "0       BIKE,TPV  \n",
       "1       BIKE,TPV  \n",
       "2       BIKE,TPV  \n",
       "3           BIKE  \n",
       "4           BIKE  "
      ]
     },
     "execution_count": 81,
     "metadata": {},
     "output_type": "execute_result"
    }
   ],
   "source": [
    "entViaje.head()"
   ]
  },
  {
   "cell_type": "code",
   "execution_count": 77,
   "id": "relevant-resort",
   "metadata": {
    "ExecuteTime": {
     "end_time": "2022-03-19T00:38:34.806042Z",
     "start_time": "2022-03-19T00:38:34.799470Z"
    }
   },
   "outputs": [
    {
     "data": {
      "text/plain": [
       "(810572, 18)"
      ]
     },
     "execution_count": 77,
     "metadata": {},
     "output_type": "execute_result"
    }
   ],
   "source": [
    "entViaje.shape"
   ]
  },
  {
   "cell_type": "code",
   "execution_count": 78,
   "id": "efficient-turkish",
   "metadata": {
    "ExecuteTime": {
     "end_time": "2022-03-19T00:39:35.519210Z",
     "start_time": "2022-03-19T00:38:38.213482Z"
    }
   },
   "outputs": [
    {
     "data": {
      "text/plain": [
       "810572"
      ]
     },
     "execution_count": 78,
     "metadata": {},
     "output_type": "execute_result"
    }
   ],
   "source": [
    "entViaje.to_sql(con=cnx,\n",
    "                   name='viaje',\n",
    "                   if_exists='replace',\n",
    "                   index=False,\n",
    "                   chunksize=10000,\n",
    "                   dtype=dict(zip(entViaje.columns,\n",
    "                                  [INTEGER,CHAR(1),INTEGER,INTEGER,INTEGER,DATETIME,INTEGER,DATETIME])))"
   ]
  },
  {
   "cell_type": "code",
   "execution_count": 79,
   "id": "unlikely-antibody",
   "metadata": {
    "ExecuteTime": {
     "end_time": "2022-03-19T01:20:56.919258Z",
     "start_time": "2022-03-19T01:20:56.915284Z"
    }
   },
   "outputs": [
    {
     "data": {
      "text/plain": [
       "(810572, 18)"
      ]
     },
     "execution_count": 79,
     "metadata": {},
     "output_type": "execute_result"
    }
   ],
   "source": [
    "entViaje.shape"
   ]
  },
  {
   "cell_type": "code",
   "execution_count": 80,
   "id": "rapid-probe",
   "metadata": {
    "ExecuteTime": {
     "end_time": "2022-03-19T01:21:02.323813Z",
     "start_time": "2022-03-19T01:21:02.303067Z"
    }
   },
   "outputs": [
    {
     "data": {
      "text/html": [
       "<div>\n",
       "<style scoped>\n",
       "    .dataframe tbody tr th:only-of-type {\n",
       "        vertical-align: middle;\n",
       "    }\n",
       "\n",
       "    .dataframe tbody tr th {\n",
       "        vertical-align: top;\n",
       "    }\n",
       "\n",
       "    .dataframe thead th {\n",
       "        text-align: right;\n",
       "    }\n",
       "</style>\n",
       "<table border=\"1\" class=\"dataframe\">\n",
       "  <thead>\n",
       "    <tr style=\"text-align: right;\">\n",
       "      <th></th>\n",
       "      <th>idViaje</th>\n",
       "      <th>generoUsuario</th>\n",
       "      <th>edadUsuario</th>\n",
       "      <th>idBici</th>\n",
       "      <th>idEstacionRetiro</th>\n",
       "      <th>fechaRetiro</th>\n",
       "      <th>idEstacionArribo</th>\n",
       "      <th>fechaArribo</th>\n",
       "      <th>idEstacion_x</th>\n",
       "      <th>nombre_x</th>\n",
       "      <th>latitud_x</th>\n",
       "      <th>longitud_x</th>\n",
       "      <th>tipoEstacion_x</th>\n",
       "      <th>idEstacion_y</th>\n",
       "      <th>nombre_y</th>\n",
       "      <th>latitud_y</th>\n",
       "      <th>longitud_y</th>\n",
       "      <th>tipoEstacion_y</th>\n",
       "    </tr>\n",
       "  </thead>\n",
       "  <tbody>\n",
       "    <tr>\n",
       "      <th>0</th>\n",
       "      <td>1</td>\n",
       "      <td>M</td>\n",
       "      <td>42</td>\n",
       "      <td>1570</td>\n",
       "      <td>33</td>\n",
       "      <td>2017-01-01 00:05:06</td>\n",
       "      <td>1</td>\n",
       "      <td>2017-01-01 00:16:49</td>\n",
       "      <td>33</td>\n",
       "      <td>E33 LONDRES-FLORENCIA</td>\n",
       "      <td>19.424234</td>\n",
       "      <td>-99.166431</td>\n",
       "      <td>ELECTRIC_BIKE</td>\n",
       "      <td>1</td>\n",
       "      <td>1 RIO SENA-RIO BALSAS</td>\n",
       "      <td>19.433571</td>\n",
       "      <td>-99.167809</td>\n",
       "      <td>BIKE,TPV</td>\n",
       "    </tr>\n",
       "    <tr>\n",
       "      <th>1</th>\n",
       "      <td>771981</td>\n",
       "      <td>F</td>\n",
       "      <td>32</td>\n",
       "      <td>1570</td>\n",
       "      <td>136</td>\n",
       "      <td>2017-01-30 20:24:46</td>\n",
       "      <td>47</td>\n",
       "      <td>2017-01-30 20:28:21</td>\n",
       "      <td>136</td>\n",
       "      <td>136 ÁLVARO OBREGÓN-TONALÁ</td>\n",
       "      <td>19.417715</td>\n",
       "      <td>-99.162729</td>\n",
       "      <td>BIKE,TPV</td>\n",
       "      <td>47</td>\n",
       "      <td>47 GLORIETA CIBELES-OAXACA</td>\n",
       "      <td>19.419515</td>\n",
       "      <td>-99.166299</td>\n",
       "      <td>BIKE,TPV</td>\n",
       "    </tr>\n",
       "    <tr>\n",
       "      <th>2</th>\n",
       "      <td>20581</td>\n",
       "      <td>M</td>\n",
       "      <td>46</td>\n",
       "      <td>1570</td>\n",
       "      <td>229</td>\n",
       "      <td>2017-01-02 18:38:14</td>\n",
       "      <td>21</td>\n",
       "      <td>2017-01-02 18:53:42</td>\n",
       "      <td>229</td>\n",
       "      <td>229 DICKENS-SENECA</td>\n",
       "      <td>19.430515</td>\n",
       "      <td>-99.203331</td>\n",
       "      <td>BIKE</td>\n",
       "      <td>21</td>\n",
       "      <td>21 REFORMA-DUBLIN</td>\n",
       "      <td>19.424720</td>\n",
       "      <td>-99.172060</td>\n",
       "      <td>BIKE,TPV</td>\n",
       "    </tr>\n",
       "    <tr>\n",
       "      <th>3</th>\n",
       "      <td>52169</td>\n",
       "      <td>M</td>\n",
       "      <td>23</td>\n",
       "      <td>1570</td>\n",
       "      <td>263</td>\n",
       "      <td>2017-01-04 07:04:06</td>\n",
       "      <td>130</td>\n",
       "      <td>2017-01-04 07:11:04</td>\n",
       "      <td>263</td>\n",
       "      <td>263 SADI CARNOT-GÓMEZ FARIAS</td>\n",
       "      <td>19.436274</td>\n",
       "      <td>-99.158425</td>\n",
       "      <td>BIKE,TPV</td>\n",
       "      <td>130</td>\n",
       "      <td>130 MÉRIDA-DURANGO</td>\n",
       "      <td>19.421576</td>\n",
       "      <td>-99.158015</td>\n",
       "      <td>BIKE</td>\n",
       "    </tr>\n",
       "    <tr>\n",
       "      <th>4</th>\n",
       "      <td>352279</td>\n",
       "      <td>F</td>\n",
       "      <td>31</td>\n",
       "      <td>1570</td>\n",
       "      <td>158</td>\n",
       "      <td>2017-01-16 09:16:34</td>\n",
       "      <td>31</td>\n",
       "      <td>2017-01-16 09:29:00</td>\n",
       "      <td>158</td>\n",
       "      <td>158 HUATABAMPO-EJE 1PTE. CUAUHTÉMOC</td>\n",
       "      <td>19.407447</td>\n",
       "      <td>-99.155717</td>\n",
       "      <td>BIKE,TPV</td>\n",
       "      <td>31</td>\n",
       "      <td>31 HAMBURGO-INSURGENTES</td>\n",
       "      <td>19.427838</td>\n",
       "      <td>-99.161193</td>\n",
       "      <td>BIKE</td>\n",
       "    </tr>\n",
       "  </tbody>\n",
       "</table>\n",
       "</div>"
      ],
      "text/plain": [
       "   idViaje generoUsuario  edadUsuario  idBici  idEstacionRetiro  \\\n",
       "0        1             M           42    1570                33   \n",
       "1   771981             F           32    1570               136   \n",
       "2    20581             M           46    1570               229   \n",
       "3    52169             M           23    1570               263   \n",
       "4   352279             F           31    1570               158   \n",
       "\n",
       "          fechaRetiro  idEstacionArribo         fechaArribo  idEstacion_x  \\\n",
       "0 2017-01-01 00:05:06                 1 2017-01-01 00:16:49            33   \n",
       "1 2017-01-30 20:24:46                47 2017-01-30 20:28:21           136   \n",
       "2 2017-01-02 18:38:14                21 2017-01-02 18:53:42           229   \n",
       "3 2017-01-04 07:04:06               130 2017-01-04 07:11:04           263   \n",
       "4 2017-01-16 09:16:34                31 2017-01-16 09:29:00           158   \n",
       "\n",
       "                              nombre_x  latitud_x  longitud_x tipoEstacion_x  \\\n",
       "0                E33 LONDRES-FLORENCIA  19.424234  -99.166431  ELECTRIC_BIKE   \n",
       "1            136 ÁLVARO OBREGÓN-TONALÁ  19.417715  -99.162729       BIKE,TPV   \n",
       "2                   229 DICKENS-SENECA  19.430515  -99.203331           BIKE   \n",
       "3         263 SADI CARNOT-GÓMEZ FARIAS  19.436274  -99.158425       BIKE,TPV   \n",
       "4  158 HUATABAMPO-EJE 1PTE. CUAUHTÉMOC  19.407447  -99.155717       BIKE,TPV   \n",
       "\n",
       "   idEstacion_y                    nombre_y  latitud_y  longitud_y  \\\n",
       "0             1       1 RIO SENA-RIO BALSAS  19.433571  -99.167809   \n",
       "1            47  47 GLORIETA CIBELES-OAXACA  19.419515  -99.166299   \n",
       "2            21           21 REFORMA-DUBLIN  19.424720  -99.172060   \n",
       "3           130          130 MÉRIDA-DURANGO  19.421576  -99.158015   \n",
       "4            31     31 HAMBURGO-INSURGENTES  19.427838  -99.161193   \n",
       "\n",
       "  tipoEstacion_y  \n",
       "0       BIKE,TPV  \n",
       "1       BIKE,TPV  \n",
       "2       BIKE,TPV  \n",
       "3           BIKE  \n",
       "4           BIKE  "
      ]
     },
     "execution_count": 80,
     "metadata": {},
     "output_type": "execute_result"
    }
   ],
   "source": [
    "entViaje.head()"
   ]
  },
  {
   "cell_type": "code",
   "execution_count": null,
   "id": "metric-medication",
   "metadata": {},
   "outputs": [],
   "source": []
  }
 ],
 "metadata": {
  "kernelspec": {
   "display_name": "bd",
   "language": "python",
   "name": "bd"
  },
  "language_info": {
   "codemirror_mode": {
    "name": "ipython",
    "version": 3
   },
   "file_extension": ".py",
   "mimetype": "text/x-python",
   "name": "python",
   "nbconvert_exporter": "python",
   "pygments_lexer": "ipython3",
   "version": "3.9.1"
  },
  "toc": {
   "base_numbering": 1,
   "nav_menu": {},
   "number_sections": true,
   "sideBar": true,
   "skip_h1_title": false,
   "title_cell": "Table of Contents",
   "title_sidebar": "Contents",
   "toc_cell": false,
   "toc_position": {},
   "toc_section_display": true,
   "toc_window_display": false
  }
 },
 "nbformat": 4,
 "nbformat_minor": 5
}
