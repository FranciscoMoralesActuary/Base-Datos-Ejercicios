{
 "cells": [
  {
   "cell_type": "markdown",
   "id": "young-november",
   "metadata": {},
   "source": [
    "## Dependencias"
   ]
  },
  {
   "cell_type": "code",
   "execution_count": 45,
   "id": "powered-automation",
   "metadata": {
    "ExecuteTime": {
     "end_time": "2022-03-29T22:51:18.752180Z",
     "start_time": "2022-03-29T22:51:18.747990Z"
    }
   },
   "outputs": [],
   "source": [
    "import numpy as np\n",
    "import pandas as pd\n",
    "import json #JSON = Java Script Object Notation\n",
    "from sqlalchemy import create_engine\n",
    "from sqlalchemy.types import VARCHAR,FLOAT,INTEGER,DATE,CHAR,DATETIME\n",
    "import os\n",
    "\n",
    "pd.set_option('display.max_columns',None)"
   ]
  },
  {
   "cell_type": "markdown",
   "id": "religious-platform",
   "metadata": {},
   "source": [
    "## Credenciales"
   ]
  },
  {
   "cell_type": "code",
   "execution_count": 46,
   "id": "dense-wallet",
   "metadata": {
    "ExecuteTime": {
     "end_time": "2022-03-29T22:51:19.043093Z",
     "start_time": "2022-03-29T22:51:18.754386Z"
    }
   },
   "outputs": [],
   "source": [
    "creds = json.load(open('credenciales_local.json','rb'))"
   ]
  },
  {
   "cell_type": "markdown",
   "id": "junior-thinking",
   "metadata": {},
   "source": [
    "## Crear conexión a base de datos"
   ]
  },
  {
   "cell_type": "code",
   "execution_count": 47,
   "id": "exotic-roller",
   "metadata": {
    "ExecuteTime": {
     "end_time": "2022-03-29T22:51:19.237154Z",
     "start_time": "2022-03-29T22:51:19.044417Z"
    }
   },
   "outputs": [],
   "source": [
    "url = f\"mysql+pymysql://{creds['user']}:{creds['password']}@{creds['servidor']}/vg\"\n",
    "cnx = create_engine(url,encoding='utf8')\n",
    "cnx = cnx.connect()"
   ]
  },
  {
   "cell_type": "code",
   "execution_count": 48,
   "id": "graphic-glass",
   "metadata": {
    "ExecuteTime": {
     "end_time": "2022-03-29T22:51:19.358060Z",
     "start_time": "2022-03-29T22:51:19.239227Z"
    }
   },
   "outputs": [
    {
     "data": {
      "text/plain": [
       "False"
      ]
     },
     "execution_count": 48,
     "metadata": {},
     "output_type": "execute_result"
    }
   ],
   "source": [
    "cnx.closed"
   ]
  },
  {
   "cell_type": "markdown",
   "id": "featured-elimination",
   "metadata": {},
   "source": [
    "## Lectura y limpieza de datos"
   ]
  },
  {
   "cell_type": "code",
   "execution_count": 49,
   "id": "forty-frontier",
   "metadata": {
    "ExecuteTime": {
     "end_time": "2022-03-29T22:51:19.456017Z",
     "start_time": "2022-03-29T22:51:19.359584Z"
    }
   },
   "outputs": [],
   "source": [
    "ruta = '/home/jose/Documentos/bd/video juegos/vgsales.csv'"
   ]
  },
  {
   "cell_type": "code",
   "execution_count": 50,
   "id": "collect-child",
   "metadata": {
    "ExecuteTime": {
     "end_time": "2022-03-29T22:51:19.578375Z",
     "start_time": "2022-03-29T22:51:19.457436Z"
    }
   },
   "outputs": [],
   "source": [
    "datos = pd.read_csv(ruta)"
   ]
  },
  {
   "cell_type": "code",
   "execution_count": 51,
   "id": "opposed-miller",
   "metadata": {
    "ExecuteTime": {
     "end_time": "2022-03-29T22:51:19.654408Z",
     "start_time": "2022-03-29T22:51:19.580214Z"
    }
   },
   "outputs": [
    {
     "data": {
      "text/plain": [
       "(16598, 11)"
      ]
     },
     "execution_count": 51,
     "metadata": {},
     "output_type": "execute_result"
    }
   ],
   "source": [
    "datos.shape"
   ]
  },
  {
   "cell_type": "code",
   "execution_count": 52,
   "id": "designing-pleasure",
   "metadata": {
    "ExecuteTime": {
     "end_time": "2022-03-29T22:51:19.762880Z",
     "start_time": "2022-03-29T22:51:19.655589Z"
    }
   },
   "outputs": [
    {
     "data": {
      "text/html": [
       "<div>\n",
       "<style scoped>\n",
       "    .dataframe tbody tr th:only-of-type {\n",
       "        vertical-align: middle;\n",
       "    }\n",
       "\n",
       "    .dataframe tbody tr th {\n",
       "        vertical-align: top;\n",
       "    }\n",
       "\n",
       "    .dataframe thead th {\n",
       "        text-align: right;\n",
       "    }\n",
       "</style>\n",
       "<table border=\"1\" class=\"dataframe\">\n",
       "  <thead>\n",
       "    <tr style=\"text-align: right;\">\n",
       "      <th></th>\n",
       "      <th>Rank</th>\n",
       "      <th>Name</th>\n",
       "      <th>Platform</th>\n",
       "      <th>Year</th>\n",
       "      <th>Genre</th>\n",
       "      <th>Publisher</th>\n",
       "      <th>NA_Sales</th>\n",
       "      <th>EU_Sales</th>\n",
       "      <th>JP_Sales</th>\n",
       "      <th>Other_Sales</th>\n",
       "      <th>Global_Sales</th>\n",
       "    </tr>\n",
       "  </thead>\n",
       "  <tbody>\n",
       "    <tr>\n",
       "      <th>0</th>\n",
       "      <td>1</td>\n",
       "      <td>Wii Sports</td>\n",
       "      <td>Wii</td>\n",
       "      <td>2006.0</td>\n",
       "      <td>Sports</td>\n",
       "      <td>Nintendo</td>\n",
       "      <td>41.49</td>\n",
       "      <td>29.02</td>\n",
       "      <td>3.77</td>\n",
       "      <td>8.46</td>\n",
       "      <td>82.74</td>\n",
       "    </tr>\n",
       "    <tr>\n",
       "      <th>1</th>\n",
       "      <td>2</td>\n",
       "      <td>Super Mario Bros.</td>\n",
       "      <td>NES</td>\n",
       "      <td>1985.0</td>\n",
       "      <td>Platform</td>\n",
       "      <td>Nintendo</td>\n",
       "      <td>29.08</td>\n",
       "      <td>3.58</td>\n",
       "      <td>6.81</td>\n",
       "      <td>0.77</td>\n",
       "      <td>40.24</td>\n",
       "    </tr>\n",
       "    <tr>\n",
       "      <th>2</th>\n",
       "      <td>3</td>\n",
       "      <td>Mario Kart Wii</td>\n",
       "      <td>Wii</td>\n",
       "      <td>2008.0</td>\n",
       "      <td>Racing</td>\n",
       "      <td>Nintendo</td>\n",
       "      <td>15.85</td>\n",
       "      <td>12.88</td>\n",
       "      <td>3.79</td>\n",
       "      <td>3.31</td>\n",
       "      <td>35.82</td>\n",
       "    </tr>\n",
       "    <tr>\n",
       "      <th>3</th>\n",
       "      <td>4</td>\n",
       "      <td>Wii Sports Resort</td>\n",
       "      <td>Wii</td>\n",
       "      <td>2009.0</td>\n",
       "      <td>Sports</td>\n",
       "      <td>Nintendo</td>\n",
       "      <td>15.75</td>\n",
       "      <td>11.01</td>\n",
       "      <td>3.28</td>\n",
       "      <td>2.96</td>\n",
       "      <td>33.00</td>\n",
       "    </tr>\n",
       "    <tr>\n",
       "      <th>4</th>\n",
       "      <td>5</td>\n",
       "      <td>Pokemon Red/Pokemon Blue</td>\n",
       "      <td>GB</td>\n",
       "      <td>1996.0</td>\n",
       "      <td>Role-Playing</td>\n",
       "      <td>Nintendo</td>\n",
       "      <td>11.27</td>\n",
       "      <td>8.89</td>\n",
       "      <td>10.22</td>\n",
       "      <td>1.00</td>\n",
       "      <td>31.37</td>\n",
       "    </tr>\n",
       "  </tbody>\n",
       "</table>\n",
       "</div>"
      ],
      "text/plain": [
       "   Rank                      Name Platform    Year         Genre Publisher  \\\n",
       "0     1                Wii Sports      Wii  2006.0        Sports  Nintendo   \n",
       "1     2         Super Mario Bros.      NES  1985.0      Platform  Nintendo   \n",
       "2     3            Mario Kart Wii      Wii  2008.0        Racing  Nintendo   \n",
       "3     4         Wii Sports Resort      Wii  2009.0        Sports  Nintendo   \n",
       "4     5  Pokemon Red/Pokemon Blue       GB  1996.0  Role-Playing  Nintendo   \n",
       "\n",
       "   NA_Sales  EU_Sales  JP_Sales  Other_Sales  Global_Sales  \n",
       "0     41.49     29.02      3.77         8.46         82.74  \n",
       "1     29.08      3.58      6.81         0.77         40.24  \n",
       "2     15.85     12.88      3.79         3.31         35.82  \n",
       "3     15.75     11.01      3.28         2.96         33.00  \n",
       "4     11.27      8.89     10.22         1.00         31.37  "
      ]
     },
     "execution_count": 52,
     "metadata": {},
     "output_type": "execute_result"
    }
   ],
   "source": [
    "datos.head()"
   ]
  },
  {
   "cell_type": "code",
   "execution_count": 53,
   "id": "bacterial-review",
   "metadata": {
    "ExecuteTime": {
     "end_time": "2022-03-29T22:51:19.904936Z",
     "start_time": "2022-03-29T22:51:19.766212Z"
    }
   },
   "outputs": [],
   "source": [
    "datos = datos.groupby(['Name','Platform','Genre','Publisher']).agg({'Year':'max',\n",
    "                                        'NA_Sales':'sum',\n",
    "                                        'EU_Sales':'sum',\n",
    "                                        'JP_Sales':'sum',\n",
    "                                        'Other_Sales':'sum'\n",
    "                                       }).reset_index()\n"
   ]
  },
  {
   "cell_type": "markdown",
   "id": "bearing-chassis",
   "metadata": {},
   "source": [
    "## Separación de Entidades"
   ]
  },
  {
   "cell_type": "markdown",
   "id": "signed-richardson",
   "metadata": {},
   "source": [
    "### Entidad Plataforma"
   ]
  },
  {
   "cell_type": "code",
   "execution_count": 54,
   "id": "aging-shoot",
   "metadata": {
    "ExecuteTime": {
     "end_time": "2022-03-29T22:51:19.975935Z",
     "start_time": "2022-03-29T22:51:19.906255Z"
    }
   },
   "outputs": [
    {
     "data": {
      "text/html": [
       "<div>\n",
       "<style scoped>\n",
       "    .dataframe tbody tr th:only-of-type {\n",
       "        vertical-align: middle;\n",
       "    }\n",
       "\n",
       "    .dataframe tbody tr th {\n",
       "        vertical-align: top;\n",
       "    }\n",
       "\n",
       "    .dataframe thead th {\n",
       "        text-align: right;\n",
       "    }\n",
       "</style>\n",
       "<table border=\"1\" class=\"dataframe\">\n",
       "  <thead>\n",
       "    <tr style=\"text-align: right;\">\n",
       "      <th></th>\n",
       "      <th>platformId</th>\n",
       "      <th>platform</th>\n",
       "    </tr>\n",
       "  </thead>\n",
       "  <tbody>\n",
       "    <tr>\n",
       "      <th>0</th>\n",
       "      <td>1</td>\n",
       "      <td>PS</td>\n",
       "    </tr>\n",
       "    <tr>\n",
       "      <th>1</th>\n",
       "      <td>2</td>\n",
       "      <td>PS2</td>\n",
       "    </tr>\n",
       "    <tr>\n",
       "      <th>2</th>\n",
       "      <td>3</td>\n",
       "      <td>PSP</td>\n",
       "    </tr>\n",
       "    <tr>\n",
       "      <th>3</th>\n",
       "      <td>4</td>\n",
       "      <td>PS3</td>\n",
       "    </tr>\n",
       "    <tr>\n",
       "      <th>4</th>\n",
       "      <td>5</td>\n",
       "      <td>DS</td>\n",
       "    </tr>\n",
       "    <tr>\n",
       "      <th>5</th>\n",
       "      <td>6</td>\n",
       "      <td>PC</td>\n",
       "    </tr>\n",
       "    <tr>\n",
       "      <th>6</th>\n",
       "      <td>7</td>\n",
       "      <td>Wii</td>\n",
       "    </tr>\n",
       "    <tr>\n",
       "      <th>7</th>\n",
       "      <td>8</td>\n",
       "      <td>X360</td>\n",
       "    </tr>\n",
       "    <tr>\n",
       "      <th>8</th>\n",
       "      <td>9</td>\n",
       "      <td>N64</td>\n",
       "    </tr>\n",
       "    <tr>\n",
       "      <th>9</th>\n",
       "      <td>10</td>\n",
       "      <td>3DS</td>\n",
       "    </tr>\n",
       "    <tr>\n",
       "      <th>10</th>\n",
       "      <td>11</td>\n",
       "      <td>GC</td>\n",
       "    </tr>\n",
       "    <tr>\n",
       "      <th>11</th>\n",
       "      <td>12</td>\n",
       "      <td>XB</td>\n",
       "    </tr>\n",
       "    <tr>\n",
       "      <th>12</th>\n",
       "      <td>13</td>\n",
       "      <td>NES</td>\n",
       "    </tr>\n",
       "    <tr>\n",
       "      <th>13</th>\n",
       "      <td>14</td>\n",
       "      <td>GBA</td>\n",
       "    </tr>\n",
       "    <tr>\n",
       "      <th>14</th>\n",
       "      <td>15</td>\n",
       "      <td>PSV</td>\n",
       "    </tr>\n",
       "    <tr>\n",
       "      <th>15</th>\n",
       "      <td>16</td>\n",
       "      <td>PS4</td>\n",
       "    </tr>\n",
       "    <tr>\n",
       "      <th>16</th>\n",
       "      <td>17</td>\n",
       "      <td>XOne</td>\n",
       "    </tr>\n",
       "    <tr>\n",
       "      <th>17</th>\n",
       "      <td>18</td>\n",
       "      <td>SNES</td>\n",
       "    </tr>\n",
       "    <tr>\n",
       "      <th>18</th>\n",
       "      <td>19</td>\n",
       "      <td>2600</td>\n",
       "    </tr>\n",
       "    <tr>\n",
       "      <th>19</th>\n",
       "      <td>20</td>\n",
       "      <td>WiiU</td>\n",
       "    </tr>\n",
       "    <tr>\n",
       "      <th>20</th>\n",
       "      <td>21</td>\n",
       "      <td>SAT</td>\n",
       "    </tr>\n",
       "    <tr>\n",
       "      <th>21</th>\n",
       "      <td>22</td>\n",
       "      <td>GB</td>\n",
       "    </tr>\n",
       "    <tr>\n",
       "      <th>22</th>\n",
       "      <td>23</td>\n",
       "      <td>NG</td>\n",
       "    </tr>\n",
       "    <tr>\n",
       "      <th>23</th>\n",
       "      <td>24</td>\n",
       "      <td>GEN</td>\n",
       "    </tr>\n",
       "    <tr>\n",
       "      <th>24</th>\n",
       "      <td>25</td>\n",
       "      <td>PCFX</td>\n",
       "    </tr>\n",
       "    <tr>\n",
       "      <th>25</th>\n",
       "      <td>26</td>\n",
       "      <td>DC</td>\n",
       "    </tr>\n",
       "    <tr>\n",
       "      <th>26</th>\n",
       "      <td>27</td>\n",
       "      <td>3DO</td>\n",
       "    </tr>\n",
       "    <tr>\n",
       "      <th>27</th>\n",
       "      <td>28</td>\n",
       "      <td>WS</td>\n",
       "    </tr>\n",
       "    <tr>\n",
       "      <th>28</th>\n",
       "      <td>29</td>\n",
       "      <td>TG16</td>\n",
       "    </tr>\n",
       "    <tr>\n",
       "      <th>29</th>\n",
       "      <td>30</td>\n",
       "      <td>SCD</td>\n",
       "    </tr>\n",
       "    <tr>\n",
       "      <th>30</th>\n",
       "      <td>31</td>\n",
       "      <td>GG</td>\n",
       "    </tr>\n",
       "  </tbody>\n",
       "</table>\n",
       "</div>"
      ],
      "text/plain": [
       "    platformId platform\n",
       "0            1       PS\n",
       "1            2      PS2\n",
       "2            3      PSP\n",
       "3            4      PS3\n",
       "4            5       DS\n",
       "5            6       PC\n",
       "6            7      Wii\n",
       "7            8     X360\n",
       "8            9      N64\n",
       "9           10      3DS\n",
       "10          11       GC\n",
       "11          12       XB\n",
       "12          13      NES\n",
       "13          14      GBA\n",
       "14          15      PSV\n",
       "15          16      PS4\n",
       "16          17     XOne\n",
       "17          18     SNES\n",
       "18          19     2600\n",
       "19          20     WiiU\n",
       "20          21      SAT\n",
       "21          22       GB\n",
       "22          23       NG\n",
       "23          24      GEN\n",
       "24          25     PCFX\n",
       "25          26       DC\n",
       "26          27      3DO\n",
       "27          28       WS\n",
       "28          29     TG16\n",
       "29          30      SCD\n",
       "30          31       GG"
      ]
     },
     "execution_count": 54,
     "metadata": {},
     "output_type": "execute_result"
    }
   ],
   "source": [
    "entPlataforma = datos[['Platform']].drop_duplicates().reset_index(drop=True)\n",
    "entPlataforma.columns = ['platform']\n",
    "entPlataforma.insert(0,'platformId',entPlataforma.index+1)\n",
    "entPlataforma"
   ]
  },
  {
   "cell_type": "code",
   "execution_count": 55,
   "id": "parental-literacy",
   "metadata": {
    "ExecuteTime": {
     "end_time": "2022-03-29T22:51:20.071826Z",
     "start_time": "2022-03-29T22:51:19.978014Z"
    }
   },
   "outputs": [
    {
     "data": {
      "text/plain": [
       "4"
      ]
     },
     "execution_count": 55,
     "metadata": {},
     "output_type": "execute_result"
    }
   ],
   "source": [
    "entPlataforma['platform'].map(len).max()"
   ]
  },
  {
   "cell_type": "code",
   "execution_count": 56,
   "id": "academic-confidentiality",
   "metadata": {
    "ExecuteTime": {
     "end_time": "2022-03-29T22:51:20.250992Z",
     "start_time": "2022-03-29T22:51:20.073208Z"
    }
   },
   "outputs": [
    {
     "data": {
      "text/plain": [
       "31"
      ]
     },
     "execution_count": 56,
     "metadata": {},
     "output_type": "execute_result"
    }
   ],
   "source": [
    "entPlataforma.to_sql(con=cnx,\n",
    "                   name='platform',\n",
    "                   if_exists='replace',\n",
    "                   index=False,\n",
    "                   chunksize=10000,\n",
    "                   dtype={'platformId':INTEGER,\n",
    "                          'platform':VARCHAR(4)})"
   ]
  },
  {
   "cell_type": "markdown",
   "id": "successful-submission",
   "metadata": {},
   "source": [
    "### Entidad Género"
   ]
  },
  {
   "cell_type": "code",
   "execution_count": 57,
   "id": "divided-riding",
   "metadata": {
    "ExecuteTime": {
     "end_time": "2022-03-29T22:51:20.276953Z",
     "start_time": "2022-03-29T22:51:20.252481Z"
    }
   },
   "outputs": [
    {
     "data": {
      "text/html": [
       "<div>\n",
       "<style scoped>\n",
       "    .dataframe tbody tr th:only-of-type {\n",
       "        vertical-align: middle;\n",
       "    }\n",
       "\n",
       "    .dataframe tbody tr th {\n",
       "        vertical-align: top;\n",
       "    }\n",
       "\n",
       "    .dataframe thead th {\n",
       "        text-align: right;\n",
       "    }\n",
       "</style>\n",
       "<table border=\"1\" class=\"dataframe\">\n",
       "  <thead>\n",
       "    <tr style=\"text-align: right;\">\n",
       "      <th></th>\n",
       "      <th>genreId</th>\n",
       "      <th>genre</th>\n",
       "    </tr>\n",
       "  </thead>\n",
       "  <tbody>\n",
       "    <tr>\n",
       "      <th>0</th>\n",
       "      <td>1</td>\n",
       "      <td>Sports</td>\n",
       "    </tr>\n",
       "    <tr>\n",
       "      <th>1</th>\n",
       "      <td>2</td>\n",
       "      <td>Role-Playing</td>\n",
       "    </tr>\n",
       "    <tr>\n",
       "      <th>2</th>\n",
       "      <td>3</td>\n",
       "      <td>Action</td>\n",
       "    </tr>\n",
       "    <tr>\n",
       "      <th>3</th>\n",
       "      <td>4</td>\n",
       "      <td>Racing</td>\n",
       "    </tr>\n",
       "    <tr>\n",
       "      <th>4</th>\n",
       "      <td>5</td>\n",
       "      <td>Shooter</td>\n",
       "    </tr>\n",
       "    <tr>\n",
       "      <th>5</th>\n",
       "      <td>6</td>\n",
       "      <td>Misc</td>\n",
       "    </tr>\n",
       "    <tr>\n",
       "      <th>6</th>\n",
       "      <td>7</td>\n",
       "      <td>Adventure</td>\n",
       "    </tr>\n",
       "    <tr>\n",
       "      <th>7</th>\n",
       "      <td>8</td>\n",
       "      <td>Puzzle</td>\n",
       "    </tr>\n",
       "    <tr>\n",
       "      <th>8</th>\n",
       "      <td>9</td>\n",
       "      <td>Simulation</td>\n",
       "    </tr>\n",
       "    <tr>\n",
       "      <th>9</th>\n",
       "      <td>10</td>\n",
       "      <td>Platform</td>\n",
       "    </tr>\n",
       "    <tr>\n",
       "      <th>10</th>\n",
       "      <td>11</td>\n",
       "      <td>Strategy</td>\n",
       "    </tr>\n",
       "    <tr>\n",
       "      <th>11</th>\n",
       "      <td>12</td>\n",
       "      <td>Fighting</td>\n",
       "    </tr>\n",
       "  </tbody>\n",
       "</table>\n",
       "</div>"
      ],
      "text/plain": [
       "    genreId         genre\n",
       "0         1        Sports\n",
       "1         2  Role-Playing\n",
       "2         3        Action\n",
       "3         4        Racing\n",
       "4         5       Shooter\n",
       "5         6          Misc\n",
       "6         7     Adventure\n",
       "7         8        Puzzle\n",
       "8         9    Simulation\n",
       "9        10      Platform\n",
       "10       11      Strategy\n",
       "11       12      Fighting"
      ]
     },
     "execution_count": 57,
     "metadata": {},
     "output_type": "execute_result"
    }
   ],
   "source": [
    "entGenero = datos[['Genre']].drop_duplicates().reset_index(drop=True)\n",
    "entGenero.columns = ['genre']\n",
    "entGenero.insert(0,'genreId',entGenero.index+1)\n",
    "entGenero"
   ]
  },
  {
   "cell_type": "code",
   "execution_count": 58,
   "id": "several-error",
   "metadata": {
    "ExecuteTime": {
     "end_time": "2022-03-29T22:51:20.368068Z",
     "start_time": "2022-03-29T22:51:20.278486Z"
    }
   },
   "outputs": [
    {
     "data": {
      "text/plain": [
       "12"
      ]
     },
     "execution_count": 58,
     "metadata": {},
     "output_type": "execute_result"
    }
   ],
   "source": [
    "entGenero['genre'].map(len).max()"
   ]
  },
  {
   "cell_type": "code",
   "execution_count": 59,
   "id": "future-python",
   "metadata": {
    "ExecuteTime": {
     "end_time": "2022-03-29T22:51:20.584308Z",
     "start_time": "2022-03-29T22:51:20.369152Z"
    }
   },
   "outputs": [
    {
     "data": {
      "text/plain": [
       "12"
      ]
     },
     "execution_count": 59,
     "metadata": {},
     "output_type": "execute_result"
    }
   ],
   "source": [
    "entGenero.to_sql(con=cnx,\n",
    "                   name='genre',\n",
    "                   if_exists='replace',\n",
    "                   index=False,\n",
    "                   chunksize=10000,\n",
    "                   dtype={'genreId':INTEGER,\n",
    "                          'genre':VARCHAR(12)})"
   ]
  },
  {
   "cell_type": "markdown",
   "id": "insured-stick",
   "metadata": {},
   "source": [
    "### Entidad Editor"
   ]
  },
  {
   "cell_type": "code",
   "execution_count": 60,
   "id": "respective-tours",
   "metadata": {
    "ExecuteTime": {
     "end_time": "2022-03-29T22:51:20.600755Z",
     "start_time": "2022-03-29T22:51:20.586099Z"
    }
   },
   "outputs": [
    {
     "data": {
      "text/html": [
       "<div>\n",
       "<style scoped>\n",
       "    .dataframe tbody tr th:only-of-type {\n",
       "        vertical-align: middle;\n",
       "    }\n",
       "\n",
       "    .dataframe tbody tr th {\n",
       "        vertical-align: top;\n",
       "    }\n",
       "\n",
       "    .dataframe thead th {\n",
       "        text-align: right;\n",
       "    }\n",
       "</style>\n",
       "<table border=\"1\" class=\"dataframe\">\n",
       "  <thead>\n",
       "    <tr style=\"text-align: right;\">\n",
       "      <th></th>\n",
       "      <th>publisherId</th>\n",
       "      <th>publisher</th>\n",
       "    </tr>\n",
       "  </thead>\n",
       "  <tbody>\n",
       "    <tr>\n",
       "      <th>0</th>\n",
       "      <td>1</td>\n",
       "      <td>Magical Company</td>\n",
       "    </tr>\n",
       "    <tr>\n",
       "      <th>1</th>\n",
       "      <td>2</td>\n",
       "      <td>Namco Bandai Games</td>\n",
       "    </tr>\n",
       "    <tr>\n",
       "      <th>2</th>\n",
       "      <td>3</td>\n",
       "      <td>Atari</td>\n",
       "    </tr>\n",
       "    <tr>\n",
       "      <th>3</th>\n",
       "      <td>4</td>\n",
       "      <td>Electronic Arts</td>\n",
       "    </tr>\n",
       "    <tr>\n",
       "      <th>4</th>\n",
       "      <td>5</td>\n",
       "      <td>Activision</td>\n",
       "    </tr>\n",
       "    <tr>\n",
       "      <th>...</th>\n",
       "      <td>...</td>\n",
       "      <td>...</td>\n",
       "    </tr>\n",
       "    <tr>\n",
       "      <th>573</th>\n",
       "      <td>574</td>\n",
       "      <td>Aria</td>\n",
       "    </tr>\n",
       "    <tr>\n",
       "      <th>574</th>\n",
       "      <td>575</td>\n",
       "      <td>responDESIGN</td>\n",
       "    </tr>\n",
       "    <tr>\n",
       "      <th>575</th>\n",
       "      <td>576</td>\n",
       "      <td>Karin Entertainment</td>\n",
       "    </tr>\n",
       "    <tr>\n",
       "      <th>576</th>\n",
       "      <td>577</td>\n",
       "      <td>Rebellion Developments</td>\n",
       "    </tr>\n",
       "    <tr>\n",
       "      <th>577</th>\n",
       "      <td>578</td>\n",
       "      <td>MediaQuest</td>\n",
       "    </tr>\n",
       "  </tbody>\n",
       "</table>\n",
       "<p>578 rows × 2 columns</p>\n",
       "</div>"
      ],
      "text/plain": [
       "     publisherId               publisher\n",
       "0              1         Magical Company\n",
       "1              2      Namco Bandai Games\n",
       "2              3                   Atari\n",
       "3              4         Electronic Arts\n",
       "4              5              Activision\n",
       "..           ...                     ...\n",
       "573          574                    Aria\n",
       "574          575            responDESIGN\n",
       "575          576     Karin Entertainment\n",
       "576          577  Rebellion Developments\n",
       "577          578              MediaQuest\n",
       "\n",
       "[578 rows x 2 columns]"
      ]
     },
     "execution_count": 60,
     "metadata": {},
     "output_type": "execute_result"
    }
   ],
   "source": [
    "entEditor = datos[['Publisher']].drop_duplicates().reset_index(drop=True)\n",
    "entEditor.columns = ['publisher']\n",
    "entEditor.insert(0,'publisherId',entEditor.index+1)\n",
    "entEditor"
   ]
  },
  {
   "cell_type": "code",
   "execution_count": 61,
   "id": "nervous-invitation",
   "metadata": {
    "ExecuteTime": {
     "end_time": "2022-03-29T22:51:20.697846Z",
     "start_time": "2022-03-29T22:51:20.602354Z"
    }
   },
   "outputs": [
    {
     "data": {
      "text/plain": [
       "38"
      ]
     },
     "execution_count": 61,
     "metadata": {},
     "output_type": "execute_result"
    }
   ],
   "source": [
    "entEditor['publisher'].map(len).max()"
   ]
  },
  {
   "cell_type": "code",
   "execution_count": 62,
   "id": "recovered-client",
   "metadata": {
    "ExecuteTime": {
     "end_time": "2022-03-29T22:51:20.892290Z",
     "start_time": "2022-03-29T22:51:20.699112Z"
    }
   },
   "outputs": [
    {
     "data": {
      "text/plain": [
       "578"
      ]
     },
     "execution_count": 62,
     "metadata": {},
     "output_type": "execute_result"
    }
   ],
   "source": [
    "entEditor.to_sql(con=cnx,\n",
    "                   name='publisher',\n",
    "                   if_exists='replace',\n",
    "                   index=False,\n",
    "                   chunksize=10000,\n",
    "                   dtype={'publisherId':INTEGER,\n",
    "                          'publisher':VARCHAR(38)})"
   ]
  },
  {
   "cell_type": "markdown",
   "id": "figured-mention",
   "metadata": {},
   "source": [
    "### Entidad Región"
   ]
  },
  {
   "cell_type": "code",
   "execution_count": 63,
   "id": "cross-campus",
   "metadata": {
    "ExecuteTime": {
     "end_time": "2022-03-29T22:51:20.923028Z",
     "start_time": "2022-03-29T22:51:20.893468Z"
    }
   },
   "outputs": [
    {
     "data": {
      "text/html": [
       "<div>\n",
       "<style scoped>\n",
       "    .dataframe tbody tr th:only-of-type {\n",
       "        vertical-align: middle;\n",
       "    }\n",
       "\n",
       "    .dataframe tbody tr th {\n",
       "        vertical-align: top;\n",
       "    }\n",
       "\n",
       "    .dataframe thead th {\n",
       "        text-align: right;\n",
       "    }\n",
       "</style>\n",
       "<table border=\"1\" class=\"dataframe\">\n",
       "  <thead>\n",
       "    <tr style=\"text-align: right;\">\n",
       "      <th></th>\n",
       "      <th>regionId</th>\n",
       "      <th>region</th>\n",
       "    </tr>\n",
       "  </thead>\n",
       "  <tbody>\n",
       "    <tr>\n",
       "      <th>1</th>\n",
       "      <td>1</td>\n",
       "      <td>NA</td>\n",
       "    </tr>\n",
       "    <tr>\n",
       "      <th>2</th>\n",
       "      <td>2</td>\n",
       "      <td>EU</td>\n",
       "    </tr>\n",
       "    <tr>\n",
       "      <th>3</th>\n",
       "      <td>3</td>\n",
       "      <td>JP</td>\n",
       "    </tr>\n",
       "    <tr>\n",
       "      <th>4</th>\n",
       "      <td>4</td>\n",
       "      <td>OT</td>\n",
       "    </tr>\n",
       "  </tbody>\n",
       "</table>\n",
       "</div>"
      ],
      "text/plain": [
       "   regionId region\n",
       "1         1     NA\n",
       "2         2     EU\n",
       "3         3     JP\n",
       "4         4     OT"
      ]
     },
     "execution_count": 63,
     "metadata": {},
     "output_type": "execute_result"
    }
   ],
   "source": [
    "entRegion = pd.Series(dict(zip(range(1,5),['NA','EU','JP','OT']))).to_frame()\n",
    "entRegion.columns = ['region']\n",
    "entRegion.insert(0,'regionId',entRegion.index)\n",
    "entRegion"
   ]
  },
  {
   "cell_type": "code",
   "execution_count": 64,
   "id": "interstate-buffer",
   "metadata": {
    "ExecuteTime": {
     "end_time": "2022-03-29T22:51:21.105265Z",
     "start_time": "2022-03-29T22:51:20.924737Z"
    }
   },
   "outputs": [
    {
     "data": {
      "text/plain": [
       "4"
      ]
     },
     "execution_count": 64,
     "metadata": {},
     "output_type": "execute_result"
    }
   ],
   "source": [
    "entRegion.to_sql(con=cnx,\n",
    "                   name='region',\n",
    "                   if_exists='replace',\n",
    "                   index=False,\n",
    "                   chunksize=10000,\n",
    "                   dtype={'regionId':INTEGER,\n",
    "                          'region':CHAR(2)})"
   ]
  },
  {
   "cell_type": "code",
   "execution_count": 65,
   "id": "protective-white",
   "metadata": {
    "ExecuteTime": {
     "end_time": "2022-03-29T22:51:21.138570Z",
     "start_time": "2022-03-29T22:51:21.107863Z"
    }
   },
   "outputs": [
    {
     "data": {
      "text/html": [
       "<div>\n",
       "<style scoped>\n",
       "    .dataframe tbody tr th:only-of-type {\n",
       "        vertical-align: middle;\n",
       "    }\n",
       "\n",
       "    .dataframe tbody tr th {\n",
       "        vertical-align: top;\n",
       "    }\n",
       "\n",
       "    .dataframe thead th {\n",
       "        text-align: right;\n",
       "    }\n",
       "</style>\n",
       "<table border=\"1\" class=\"dataframe\">\n",
       "  <thead>\n",
       "    <tr style=\"text-align: right;\">\n",
       "      <th></th>\n",
       "      <th>Name</th>\n",
       "      <th>Platform</th>\n",
       "      <th>Genre</th>\n",
       "      <th>Publisher</th>\n",
       "      <th>Year</th>\n",
       "      <th>NA_Sales</th>\n",
       "      <th>EU_Sales</th>\n",
       "      <th>JP_Sales</th>\n",
       "      <th>Other_Sales</th>\n",
       "    </tr>\n",
       "  </thead>\n",
       "  <tbody>\n",
       "    <tr>\n",
       "      <th>0</th>\n",
       "      <td>'98 Koshien</td>\n",
       "      <td>PS</td>\n",
       "      <td>Sports</td>\n",
       "      <td>Magical Company</td>\n",
       "      <td>1998.0</td>\n",
       "      <td>0.15</td>\n",
       "      <td>0.10</td>\n",
       "      <td>0.12</td>\n",
       "      <td>0.03</td>\n",
       "    </tr>\n",
       "    <tr>\n",
       "      <th>1</th>\n",
       "      <td>.hack//G.U. Vol.1//Rebirth</td>\n",
       "      <td>PS2</td>\n",
       "      <td>Role-Playing</td>\n",
       "      <td>Namco Bandai Games</td>\n",
       "      <td>2006.0</td>\n",
       "      <td>0.00</td>\n",
       "      <td>0.00</td>\n",
       "      <td>0.17</td>\n",
       "      <td>0.00</td>\n",
       "    </tr>\n",
       "    <tr>\n",
       "      <th>2</th>\n",
       "      <td>.hack//G.U. Vol.2//Reminisce</td>\n",
       "      <td>PS2</td>\n",
       "      <td>Role-Playing</td>\n",
       "      <td>Namco Bandai Games</td>\n",
       "      <td>2006.0</td>\n",
       "      <td>0.11</td>\n",
       "      <td>0.09</td>\n",
       "      <td>0.00</td>\n",
       "      <td>0.03</td>\n",
       "    </tr>\n",
       "    <tr>\n",
       "      <th>3</th>\n",
       "      <td>.hack//G.U. Vol.2//Reminisce (jp sales)</td>\n",
       "      <td>PS2</td>\n",
       "      <td>Role-Playing</td>\n",
       "      <td>Namco Bandai Games</td>\n",
       "      <td>2006.0</td>\n",
       "      <td>0.00</td>\n",
       "      <td>0.00</td>\n",
       "      <td>0.16</td>\n",
       "      <td>0.00</td>\n",
       "    </tr>\n",
       "    <tr>\n",
       "      <th>4</th>\n",
       "      <td>.hack//G.U. Vol.3//Redemption</td>\n",
       "      <td>PS2</td>\n",
       "      <td>Role-Playing</td>\n",
       "      <td>Namco Bandai Games</td>\n",
       "      <td>2007.0</td>\n",
       "      <td>0.00</td>\n",
       "      <td>0.00</td>\n",
       "      <td>0.17</td>\n",
       "      <td>0.00</td>\n",
       "    </tr>\n",
       "  </tbody>\n",
       "</table>\n",
       "</div>"
      ],
      "text/plain": [
       "                                      Name Platform         Genre  \\\n",
       "0                              '98 Koshien       PS        Sports   \n",
       "1               .hack//G.U. Vol.1//Rebirth      PS2  Role-Playing   \n",
       "2             .hack//G.U. Vol.2//Reminisce      PS2  Role-Playing   \n",
       "3  .hack//G.U. Vol.2//Reminisce (jp sales)      PS2  Role-Playing   \n",
       "4            .hack//G.U. Vol.3//Redemption      PS2  Role-Playing   \n",
       "\n",
       "            Publisher    Year  NA_Sales  EU_Sales  JP_Sales  Other_Sales  \n",
       "0     Magical Company  1998.0      0.15      0.10      0.12         0.03  \n",
       "1  Namco Bandai Games  2006.0      0.00      0.00      0.17         0.00  \n",
       "2  Namco Bandai Games  2006.0      0.11      0.09      0.00         0.03  \n",
       "3  Namco Bandai Games  2006.0      0.00      0.00      0.16         0.00  \n",
       "4  Namco Bandai Games  2007.0      0.00      0.00      0.17         0.00  "
      ]
     },
     "execution_count": 65,
     "metadata": {},
     "output_type": "execute_result"
    }
   ],
   "source": [
    "datos.head()"
   ]
  },
  {
   "cell_type": "markdown",
   "id": "expensive-particle",
   "metadata": {},
   "source": [
    "### Entidad Juego"
   ]
  },
  {
   "cell_type": "code",
   "execution_count": 66,
   "id": "governmental-oliver",
   "metadata": {
    "ExecuteTime": {
     "end_time": "2022-03-29T22:51:21.268056Z",
     "start_time": "2022-03-29T22:51:21.140325Z"
    }
   },
   "outputs": [
    {
     "data": {
      "text/html": [
       "<div>\n",
       "<style scoped>\n",
       "    .dataframe tbody tr th:only-of-type {\n",
       "        vertical-align: middle;\n",
       "    }\n",
       "\n",
       "    .dataframe tbody tr th {\n",
       "        vertical-align: top;\n",
       "    }\n",
       "\n",
       "    .dataframe thead th {\n",
       "        text-align: right;\n",
       "    }\n",
       "</style>\n",
       "<table border=\"1\" class=\"dataframe\">\n",
       "  <thead>\n",
       "    <tr style=\"text-align: right;\">\n",
       "      <th></th>\n",
       "      <th>gameId</th>\n",
       "      <th>name</th>\n",
       "      <th>platformId</th>\n",
       "      <th>genreId</th>\n",
       "      <th>publisherId</th>\n",
       "    </tr>\n",
       "  </thead>\n",
       "  <tbody>\n",
       "    <tr>\n",
       "      <th>0</th>\n",
       "      <td>1</td>\n",
       "      <td>'98 Koshien</td>\n",
       "      <td>1</td>\n",
       "      <td>1</td>\n",
       "      <td>1</td>\n",
       "    </tr>\n",
       "    <tr>\n",
       "      <th>1</th>\n",
       "      <td>2</td>\n",
       "      <td>2Xtreme</td>\n",
       "      <td>1</td>\n",
       "      <td>1</td>\n",
       "      <td>22</td>\n",
       "    </tr>\n",
       "    <tr>\n",
       "      <th>2</th>\n",
       "      <td>3</td>\n",
       "      <td>Cool Boarders</td>\n",
       "      <td>1</td>\n",
       "      <td>1</td>\n",
       "      <td>22</td>\n",
       "    </tr>\n",
       "    <tr>\n",
       "      <th>3</th>\n",
       "      <td>4</td>\n",
       "      <td>Cool Boarders 2001</td>\n",
       "      <td>1</td>\n",
       "      <td>1</td>\n",
       "      <td>22</td>\n",
       "    </tr>\n",
       "    <tr>\n",
       "      <th>4</th>\n",
       "      <td>5</td>\n",
       "      <td>ESPN Extreme Games</td>\n",
       "      <td>1</td>\n",
       "      <td>1</td>\n",
       "      <td>22</td>\n",
       "    </tr>\n",
       "    <tr>\n",
       "      <th>...</th>\n",
       "      <td>...</td>\n",
       "      <td>...</td>\n",
       "      <td>...</td>\n",
       "      <td>...</td>\n",
       "      <td>...</td>\n",
       "    </tr>\n",
       "    <tr>\n",
       "      <th>16531</th>\n",
       "      <td>16532</td>\n",
       "      <td>Wrestle Angels: Survivor 2</td>\n",
       "      <td>2</td>\n",
       "      <td>12</td>\n",
       "      <td>571</td>\n",
       "    </tr>\n",
       "    <tr>\n",
       "      <th>16532</th>\n",
       "      <td>16533</td>\n",
       "      <td>Hajime no Ippo Portable: Victorious Spirits</td>\n",
       "      <td>3</td>\n",
       "      <td>12</td>\n",
       "      <td>364</td>\n",
       "    </tr>\n",
       "    <tr>\n",
       "      <th>16533</th>\n",
       "      <td>16534</td>\n",
       "      <td>Deadliest Warrior: Ancient Combat</td>\n",
       "      <td>4</td>\n",
       "      <td>12</td>\n",
       "      <td>281</td>\n",
       "    </tr>\n",
       "    <tr>\n",
       "      <th>16534</th>\n",
       "      <td>16535</td>\n",
       "      <td>Deadliest Warrior: Ancient Combat</td>\n",
       "      <td>8</td>\n",
       "      <td>12</td>\n",
       "      <td>281</td>\n",
       "    </tr>\n",
       "    <tr>\n",
       "      <th>16535</th>\n",
       "      <td>16536</td>\n",
       "      <td>Karate</td>\n",
       "      <td>19</td>\n",
       "      <td>12</td>\n",
       "      <td>398</td>\n",
       "    </tr>\n",
       "  </tbody>\n",
       "</table>\n",
       "<p>16536 rows × 5 columns</p>\n",
       "</div>"
      ],
      "text/plain": [
       "       gameId                                         name  platformId  \\\n",
       "0           1                                  '98 Koshien           1   \n",
       "1           2                                      2Xtreme           1   \n",
       "2           3                                Cool Boarders           1   \n",
       "3           4                           Cool Boarders 2001           1   \n",
       "4           5                           ESPN Extreme Games           1   \n",
       "...       ...                                          ...         ...   \n",
       "16531   16532                   Wrestle Angels: Survivor 2           2   \n",
       "16532   16533  Hajime no Ippo Portable: Victorious Spirits           3   \n",
       "16533   16534            Deadliest Warrior: Ancient Combat           4   \n",
       "16534   16535            Deadliest Warrior: Ancient Combat           8   \n",
       "16535   16536                                       Karate          19   \n",
       "\n",
       "       genreId  publisherId  \n",
       "0            1            1  \n",
       "1            1           22  \n",
       "2            1           22  \n",
       "3            1           22  \n",
       "4            1           22  \n",
       "...        ...          ...  \n",
       "16531       12          571  \n",
       "16532       12          364  \n",
       "16533       12          281  \n",
       "16534       12          281  \n",
       "16535       12          398  \n",
       "\n",
       "[16536 rows x 5 columns]"
      ]
     },
     "execution_count": 66,
     "metadata": {},
     "output_type": "execute_result"
    }
   ],
   "source": [
    "entJuego = datos[['Name','Platform','Genre','Publisher']].drop_duplicates().reset_index(drop=True)\n",
    "entJuego = entJuego.merge(entPlataforma,left_on='Platform',right_on='platform',how='inner')\n",
    "entJuego = entJuego.merge(entGenero,left_on='Genre',right_on='genre',how='inner')\n",
    "entJuego = entJuego.merge(entEditor,left_on='Publisher',right_on='publisher',how='inner')\n",
    "entJuego.drop(['Platform','Genre','Publisher','genre','platform','publisher'],axis=1,inplace=True)\n",
    "entJuego.insert(0,'gameId',entJuego.index+1)\n",
    "entJuego.rename(columns={'Name':'name'},inplace=True)\n",
    "entJuego"
   ]
  },
  {
   "cell_type": "code",
   "execution_count": 67,
   "id": "greenhouse-polyester",
   "metadata": {
    "ExecuteTime": {
     "end_time": "2022-03-29T22:51:21.352272Z",
     "start_time": "2022-03-29T22:51:21.269111Z"
    }
   },
   "outputs": [
    {
     "data": {
      "text/plain": [
       "132"
      ]
     },
     "execution_count": 67,
     "metadata": {},
     "output_type": "execute_result"
    }
   ],
   "source": [
    "entJuego['name'].map(len).max()"
   ]
  },
  {
   "cell_type": "code",
   "execution_count": 68,
   "id": "expanded-problem",
   "metadata": {
    "ExecuteTime": {
     "end_time": "2022-03-29T22:51:22.072859Z",
     "start_time": "2022-03-29T22:51:21.355029Z"
    }
   },
   "outputs": [
    {
     "data": {
      "text/plain": [
       "16536"
      ]
     },
     "execution_count": 68,
     "metadata": {},
     "output_type": "execute_result"
    }
   ],
   "source": [
    "entJuego.to_sql(con=cnx,\n",
    "                   name='game',\n",
    "                   if_exists='replace',\n",
    "                   index=False,\n",
    "                   chunksize=10000,\n",
    "                   dtype={'gameId':INTEGER,\n",
    "                          'name':VARCHAR(132),\n",
    "                          'platformId':INTEGER,\n",
    "                          'genreId':INTEGER,\n",
    "                          'publisherId':INTEGER\n",
    "                         })"
   ]
  },
  {
   "cell_type": "markdown",
   "id": "italian-wings",
   "metadata": {},
   "source": [
    "### Entidad Ventas"
   ]
  },
  {
   "cell_type": "code",
   "execution_count": 84,
   "id": "bibliographic-metadata",
   "metadata": {
    "ExecuteTime": {
     "end_time": "2022-03-29T22:59:52.765755Z",
     "start_time": "2022-03-29T22:59:52.654879Z"
    }
   },
   "outputs": [
    {
     "data": {
      "text/html": [
       "<div>\n",
       "<style scoped>\n",
       "    .dataframe tbody tr th:only-of-type {\n",
       "        vertical-align: middle;\n",
       "    }\n",
       "\n",
       "    .dataframe tbody tr th {\n",
       "        vertical-align: top;\n",
       "    }\n",
       "\n",
       "    .dataframe thead th {\n",
       "        text-align: right;\n",
       "    }\n",
       "</style>\n",
       "<table border=\"1\" class=\"dataframe\">\n",
       "  <thead>\n",
       "    <tr style=\"text-align: right;\">\n",
       "      <th></th>\n",
       "      <th>salesId</th>\n",
       "      <th>gameId</th>\n",
       "      <th>regionId</th>\n",
       "      <th>sales</th>\n",
       "    </tr>\n",
       "  </thead>\n",
       "  <tbody>\n",
       "    <tr>\n",
       "      <th>0</th>\n",
       "      <td>1</td>\n",
       "      <td>1</td>\n",
       "      <td>1</td>\n",
       "      <td>0.15</td>\n",
       "    </tr>\n",
       "    <tr>\n",
       "      <th>1</th>\n",
       "      <td>2</td>\n",
       "      <td>1921</td>\n",
       "      <td>1</td>\n",
       "      <td>0.00</td>\n",
       "    </tr>\n",
       "    <tr>\n",
       "      <th>2</th>\n",
       "      <td>3</td>\n",
       "      <td>1922</td>\n",
       "      <td>1</td>\n",
       "      <td>0.11</td>\n",
       "    </tr>\n",
       "    <tr>\n",
       "      <th>3</th>\n",
       "      <td>4</td>\n",
       "      <td>1923</td>\n",
       "      <td>1</td>\n",
       "      <td>0.00</td>\n",
       "    </tr>\n",
       "    <tr>\n",
       "      <th>4</th>\n",
       "      <td>5</td>\n",
       "      <td>1924</td>\n",
       "      <td>1</td>\n",
       "      <td>0.00</td>\n",
       "    </tr>\n",
       "    <tr>\n",
       "      <th>...</th>\n",
       "      <td>...</td>\n",
       "      <td>...</td>\n",
       "      <td>...</td>\n",
       "      <td>...</td>\n",
       "    </tr>\n",
       "    <tr>\n",
       "      <th>140363</th>\n",
       "      <td>140364</td>\n",
       "      <td>3922</td>\n",
       "      <td>4</td>\n",
       "      <td>0.02</td>\n",
       "    </tr>\n",
       "    <tr>\n",
       "      <th>140364</th>\n",
       "      <td>140365</td>\n",
       "      <td>3928</td>\n",
       "      <td>4</td>\n",
       "      <td>0.02</td>\n",
       "    </tr>\n",
       "    <tr>\n",
       "      <th>140365</th>\n",
       "      <td>140366</td>\n",
       "      <td>3922</td>\n",
       "      <td>4</td>\n",
       "      <td>0.00</td>\n",
       "    </tr>\n",
       "    <tr>\n",
       "      <th>140366</th>\n",
       "      <td>140367</td>\n",
       "      <td>3928</td>\n",
       "      <td>4</td>\n",
       "      <td>0.00</td>\n",
       "    </tr>\n",
       "    <tr>\n",
       "      <th>140367</th>\n",
       "      <td>140368</td>\n",
       "      <td>9569</td>\n",
       "      <td>4</td>\n",
       "      <td>0.00</td>\n",
       "    </tr>\n",
       "  </tbody>\n",
       "</table>\n",
       "<p>140368 rows × 4 columns</p>\n",
       "</div>"
      ],
      "text/plain": [
       "        salesId  gameId  regionId  sales\n",
       "0             1       1         1   0.15\n",
       "1             2    1921         1   0.00\n",
       "2             3    1922         1   0.11\n",
       "3             4    1923         1   0.00\n",
       "4             5    1924         1   0.00\n",
       "...         ...     ...       ...    ...\n",
       "140363   140364    3922         4   0.02\n",
       "140364   140365    3928         4   0.02\n",
       "140365   140366    3922         4   0.00\n",
       "140366   140367    3928         4   0.00\n",
       "140367   140368    9569         4   0.00\n",
       "\n",
       "[140368 rows x 4 columns]"
      ]
     },
     "execution_count": 84,
     "metadata": {},
     "output_type": "execute_result"
    }
   ],
   "source": [
    "entVentas = datos.merge(entJuego[['name','gameId']],left_on='Name',right_on='name')\n",
    "entVentas = entVentas[['gameId','NA_Sales','EU_Sales','JP_Sales','Other_Sales']]\n",
    "entVentas = entVentas.melt(value_vars=['NA_Sales','EU_Sales','JP_Sales','Other_Sales'],id_vars='gameId')\n",
    "entVentas['region'] = entVentas['variable'].map(lambda x:x[:2].upper())\n",
    "entVentas = entVentas.merge(entRegion,on='region',how='inner')\n",
    "entVentas = entVentas[['gameId','regionId','value']].rename(columns={'value':'sales'})\n",
    "entVentas.insert(0,'salesId',entVentas.index+1)\n",
    "entVentas"
   ]
  },
  {
   "cell_type": "code",
   "execution_count": 85,
   "id": "graduate-details",
   "metadata": {
    "ExecuteTime": {
     "end_time": "2022-03-29T23:00:06.046875Z",
     "start_time": "2022-03-29T23:00:02.890165Z"
    }
   },
   "outputs": [
    {
     "data": {
      "text/plain": [
       "140368"
      ]
     },
     "execution_count": 85,
     "metadata": {},
     "output_type": "execute_result"
    }
   ],
   "source": [
    "entVentas.to_sql(con=cnx,\n",
    "                   name='sales',\n",
    "                   if_exists='replace',\n",
    "                   index=False,\n",
    "                   chunksize=10000,\n",
    "                   dtype={'salesId':INTEGER,\n",
    "                           'gameId':INTEGER,\n",
    "                          'regionId':INTEGER,\n",
    "                          'sales':FLOAT\n",
    "                         })"
   ]
  },
  {
   "cell_type": "code",
   "execution_count": null,
   "id": "sunrise-composite",
   "metadata": {},
   "outputs": [],
   "source": []
  }
 ],
 "metadata": {
  "kernelspec": {
   "display_name": "bd",
   "language": "python",
   "name": "bd"
  },
  "language_info": {
   "codemirror_mode": {
    "name": "ipython",
    "version": 3
   },
   "file_extension": ".py",
   "mimetype": "text/x-python",
   "name": "python",
   "nbconvert_exporter": "python",
   "pygments_lexer": "ipython3",
   "version": "3.9.1"
  },
  "toc": {
   "base_numbering": 1,
   "nav_menu": {},
   "number_sections": true,
   "sideBar": true,
   "skip_h1_title": false,
   "title_cell": "Table of Contents",
   "title_sidebar": "Contents",
   "toc_cell": false,
   "toc_position": {},
   "toc_section_display": true,
   "toc_window_display": true
  }
 },
 "nbformat": 4,
 "nbformat_minor": 5
}
