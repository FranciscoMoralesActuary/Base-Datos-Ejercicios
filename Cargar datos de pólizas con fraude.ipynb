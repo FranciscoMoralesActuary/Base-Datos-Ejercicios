{
 "cells": [
  {
   "cell_type": "markdown",
   "id": "young-november",
   "metadata": {},
   "source": [
    "## Dependencias"
   ]
  },
  {
   "cell_type": "code",
   "execution_count": 1,
   "id": "powered-automation",
   "metadata": {
    "ExecuteTime": {
     "end_time": "2022-05-13T23:07:38.301431Z",
     "start_time": "2022-05-13T23:07:31.432104Z"
    }
   },
   "outputs": [],
   "source": [
    "import pandas as pd\n",
    "import json #JSON = Java Script Object Notation\n",
    "from sqlalchemy import create_engine\n",
    "from sqlalchemy.types import VARCHAR,FLOAT,INTEGER,DATE,CHAR,DATETIME\n",
    "import os\n",
    "\n",
    "pd.set_option('display.max_columns',None)"
   ]
  },
  {
   "cell_type": "markdown",
   "id": "religious-platform",
   "metadata": {},
   "source": [
    "## Credenciales"
   ]
  },
  {
   "cell_type": "code",
   "execution_count": 47,
   "id": "dense-wallet",
   "metadata": {
    "ExecuteTime": {
     "end_time": "2022-05-13T23:07:38.307467Z",
     "start_time": "2022-05-13T23:07:38.303452Z"
    }
   },
   "outputs": [],
   "source": [
    "creds = json.load(open('credenciales_carga_nube.json','rb'))"
   ]
  },
  {
   "cell_type": "code",
   "execution_count": 48,
   "id": "094e8190",
   "metadata": {},
   "outputs": [
    {
     "data": {
      "text/plain": [
       "dict_keys(['user', 'password', 'servidor', 'bd'])"
      ]
     },
     "execution_count": 48,
     "metadata": {},
     "output_type": "execute_result"
    }
   ],
   "source": [
    "creds.keys()"
   ]
  },
  {
   "cell_type": "markdown",
   "id": "junior-thinking",
   "metadata": {},
   "source": [
    "## Crear conexión a base de datos"
   ]
  },
  {
   "cell_type": "code",
   "execution_count": 49,
   "id": "exotic-roller",
   "metadata": {
    "ExecuteTime": {
     "end_time": "2022-05-13T23:07:41.477783Z",
     "start_time": "2022-05-13T23:07:38.308848Z"
    }
   },
   "outputs": [],
   "source": [
    "url = f\"mysql+pymysql://{creds['user']}:{creds['password']}@{creds['servidor']}/{creds['bd']}\"\n",
    "cnx = create_engine(url,encoding='utf8')\n",
    "cnx = cnx.connect()"
   ]
  },
  {
   "cell_type": "code",
   "execution_count": 50,
   "id": "graphic-glass",
   "metadata": {
    "ExecuteTime": {
     "end_time": "2022-05-11T23:48:27.467036Z",
     "start_time": "2022-05-11T23:48:27.371415Z"
    }
   },
   "outputs": [
    {
     "data": {
      "text/plain": [
       "False"
      ]
     },
     "execution_count": 50,
     "metadata": {},
     "output_type": "execute_result"
    }
   ],
   "source": [
    "cnx.closed"
   ]
  },
  {
   "cell_type": "markdown",
   "id": "featured-elimination",
   "metadata": {},
   "source": [
    "## Lectura y limpieza de datos"
   ]
  },
  {
   "cell_type": "code",
   "execution_count": 51,
   "id": "collect-child",
   "metadata": {
    "ExecuteTime": {
     "end_time": "2022-05-11T23:48:27.565005Z",
     "start_time": "2022-05-11T23:48:27.468399Z"
    }
   },
   "outputs": [],
   "source": [
    "ruta = \"~/Documentos/bd/Insurance claim fraud/insurancefraud.csv\""
   ]
  },
  {
   "cell_type": "code",
   "execution_count": 52,
   "id": "needed-orleans",
   "metadata": {
    "ExecuteTime": {
     "end_time": "2022-05-12T00:02:45.981047Z",
     "start_time": "2022-05-12T00:02:45.828370Z"
    }
   },
   "outputs": [],
   "source": [
    "df = pd.read_csv(ruta)"
   ]
  },
  {
   "cell_type": "code",
   "execution_count": 53,
   "id": "vietnamese-repository",
   "metadata": {
    "ExecuteTime": {
     "end_time": "2022-05-11T23:48:27.882990Z",
     "start_time": "2022-05-11T23:48:27.821938Z"
    }
   },
   "outputs": [
    {
     "data": {
      "text/plain": [
       "(15420, 33)"
      ]
     },
     "execution_count": 53,
     "metadata": {},
     "output_type": "execute_result"
    }
   ],
   "source": [
    "df.shape"
   ]
  },
  {
   "cell_type": "code",
   "execution_count": 54,
   "id": "minute-essence",
   "metadata": {
    "ExecuteTime": {
     "end_time": "2022-05-11T23:48:28.236216Z",
     "start_time": "2022-05-11T23:48:27.884232Z"
    }
   },
   "outputs": [
    {
     "data": {
      "text/html": [
       "<div>\n",
       "<style scoped>\n",
       "    .dataframe tbody tr th:only-of-type {\n",
       "        vertical-align: middle;\n",
       "    }\n",
       "\n",
       "    .dataframe tbody tr th {\n",
       "        vertical-align: top;\n",
       "    }\n",
       "\n",
       "    .dataframe thead th {\n",
       "        text-align: right;\n",
       "    }\n",
       "</style>\n",
       "<table border=\"1\" class=\"dataframe\">\n",
       "  <thead>\n",
       "    <tr style=\"text-align: right;\">\n",
       "      <th></th>\n",
       "      <th>Month</th>\n",
       "      <th>WeekOfMonth</th>\n",
       "      <th>DayOfWeek</th>\n",
       "      <th>Make</th>\n",
       "      <th>AccidentArea</th>\n",
       "      <th>DayOfWeekClaimed</th>\n",
       "      <th>MonthClaimed</th>\n",
       "      <th>WeekOfMonthClaimed</th>\n",
       "      <th>Sex</th>\n",
       "      <th>MaritalStatus</th>\n",
       "      <th>Age</th>\n",
       "      <th>Fault</th>\n",
       "      <th>PolicyType</th>\n",
       "      <th>VehicleCategory</th>\n",
       "      <th>VehiclePrice</th>\n",
       "      <th>FraudFound_P</th>\n",
       "      <th>PolicyNumber</th>\n",
       "      <th>RepNumber</th>\n",
       "      <th>Deductible</th>\n",
       "      <th>DriverRating</th>\n",
       "      <th>Days_Policy_Accident</th>\n",
       "      <th>Days_Policy_Claim</th>\n",
       "      <th>PastNumberOfClaims</th>\n",
       "      <th>AgeOfVehicle</th>\n",
       "      <th>AgeOfPolicyHolder</th>\n",
       "      <th>PoliceReportFiled</th>\n",
       "      <th>WitnessPresent</th>\n",
       "      <th>AgentType</th>\n",
       "      <th>NumberOfSuppliments</th>\n",
       "      <th>AddressChange_Claim</th>\n",
       "      <th>NumberOfCars</th>\n",
       "      <th>Year</th>\n",
       "      <th>BasePolicy</th>\n",
       "    </tr>\n",
       "  </thead>\n",
       "  <tbody>\n",
       "    <tr>\n",
       "      <th>0</th>\n",
       "      <td>Dec</td>\n",
       "      <td>5</td>\n",
       "      <td>Wednesday</td>\n",
       "      <td>Honda</td>\n",
       "      <td>Urban</td>\n",
       "      <td>Tuesday</td>\n",
       "      <td>Jan</td>\n",
       "      <td>1</td>\n",
       "      <td>Female</td>\n",
       "      <td>Single</td>\n",
       "      <td>21</td>\n",
       "      <td>Policy Holder</td>\n",
       "      <td>Sport - Liability</td>\n",
       "      <td>Sport</td>\n",
       "      <td>more than 69000</td>\n",
       "      <td>0</td>\n",
       "      <td>1</td>\n",
       "      <td>12</td>\n",
       "      <td>300</td>\n",
       "      <td>1</td>\n",
       "      <td>more than 30</td>\n",
       "      <td>more than 30</td>\n",
       "      <td>none</td>\n",
       "      <td>3 years</td>\n",
       "      <td>26 to 30</td>\n",
       "      <td>No</td>\n",
       "      <td>No</td>\n",
       "      <td>External</td>\n",
       "      <td>none</td>\n",
       "      <td>1 year</td>\n",
       "      <td>3 to 4</td>\n",
       "      <td>1994</td>\n",
       "      <td>Liability</td>\n",
       "    </tr>\n",
       "    <tr>\n",
       "      <th>1</th>\n",
       "      <td>Jan</td>\n",
       "      <td>3</td>\n",
       "      <td>Wednesday</td>\n",
       "      <td>Honda</td>\n",
       "      <td>Urban</td>\n",
       "      <td>Monday</td>\n",
       "      <td>Jan</td>\n",
       "      <td>4</td>\n",
       "      <td>Male</td>\n",
       "      <td>Single</td>\n",
       "      <td>34</td>\n",
       "      <td>Policy Holder</td>\n",
       "      <td>Sport - Collision</td>\n",
       "      <td>Sport</td>\n",
       "      <td>more than 69000</td>\n",
       "      <td>0</td>\n",
       "      <td>2</td>\n",
       "      <td>15</td>\n",
       "      <td>400</td>\n",
       "      <td>4</td>\n",
       "      <td>more than 30</td>\n",
       "      <td>more than 30</td>\n",
       "      <td>none</td>\n",
       "      <td>6 years</td>\n",
       "      <td>31 to 35</td>\n",
       "      <td>Yes</td>\n",
       "      <td>No</td>\n",
       "      <td>External</td>\n",
       "      <td>none</td>\n",
       "      <td>no change</td>\n",
       "      <td>1 vehicle</td>\n",
       "      <td>1994</td>\n",
       "      <td>Collision</td>\n",
       "    </tr>\n",
       "    <tr>\n",
       "      <th>2</th>\n",
       "      <td>Oct</td>\n",
       "      <td>5</td>\n",
       "      <td>Friday</td>\n",
       "      <td>Honda</td>\n",
       "      <td>Urban</td>\n",
       "      <td>Thursday</td>\n",
       "      <td>Nov</td>\n",
       "      <td>2</td>\n",
       "      <td>Male</td>\n",
       "      <td>Married</td>\n",
       "      <td>47</td>\n",
       "      <td>Policy Holder</td>\n",
       "      <td>Sport - Collision</td>\n",
       "      <td>Sport</td>\n",
       "      <td>more than 69000</td>\n",
       "      <td>0</td>\n",
       "      <td>3</td>\n",
       "      <td>7</td>\n",
       "      <td>400</td>\n",
       "      <td>3</td>\n",
       "      <td>more than 30</td>\n",
       "      <td>more than 30</td>\n",
       "      <td>1</td>\n",
       "      <td>7 years</td>\n",
       "      <td>41 to 50</td>\n",
       "      <td>No</td>\n",
       "      <td>No</td>\n",
       "      <td>External</td>\n",
       "      <td>none</td>\n",
       "      <td>no change</td>\n",
       "      <td>1 vehicle</td>\n",
       "      <td>1994</td>\n",
       "      <td>Collision</td>\n",
       "    </tr>\n",
       "    <tr>\n",
       "      <th>3</th>\n",
       "      <td>Jun</td>\n",
       "      <td>2</td>\n",
       "      <td>Saturday</td>\n",
       "      <td>Toyota</td>\n",
       "      <td>Rural</td>\n",
       "      <td>Friday</td>\n",
       "      <td>Jul</td>\n",
       "      <td>1</td>\n",
       "      <td>Male</td>\n",
       "      <td>Married</td>\n",
       "      <td>65</td>\n",
       "      <td>Third Party</td>\n",
       "      <td>Sedan - Liability</td>\n",
       "      <td>Sport</td>\n",
       "      <td>20000 to 29000</td>\n",
       "      <td>0</td>\n",
       "      <td>4</td>\n",
       "      <td>4</td>\n",
       "      <td>400</td>\n",
       "      <td>2</td>\n",
       "      <td>more than 30</td>\n",
       "      <td>more than 30</td>\n",
       "      <td>1</td>\n",
       "      <td>more than 7</td>\n",
       "      <td>51 to 65</td>\n",
       "      <td>Yes</td>\n",
       "      <td>No</td>\n",
       "      <td>External</td>\n",
       "      <td>more than 5</td>\n",
       "      <td>no change</td>\n",
       "      <td>1 vehicle</td>\n",
       "      <td>1994</td>\n",
       "      <td>Liability</td>\n",
       "    </tr>\n",
       "    <tr>\n",
       "      <th>4</th>\n",
       "      <td>Jan</td>\n",
       "      <td>5</td>\n",
       "      <td>Monday</td>\n",
       "      <td>Honda</td>\n",
       "      <td>Urban</td>\n",
       "      <td>Tuesday</td>\n",
       "      <td>Feb</td>\n",
       "      <td>2</td>\n",
       "      <td>Female</td>\n",
       "      <td>Single</td>\n",
       "      <td>27</td>\n",
       "      <td>Third Party</td>\n",
       "      <td>Sport - Collision</td>\n",
       "      <td>Sport</td>\n",
       "      <td>more than 69000</td>\n",
       "      <td>0</td>\n",
       "      <td>5</td>\n",
       "      <td>3</td>\n",
       "      <td>400</td>\n",
       "      <td>1</td>\n",
       "      <td>more than 30</td>\n",
       "      <td>more than 30</td>\n",
       "      <td>none</td>\n",
       "      <td>5 years</td>\n",
       "      <td>31 to 35</td>\n",
       "      <td>No</td>\n",
       "      <td>No</td>\n",
       "      <td>External</td>\n",
       "      <td>none</td>\n",
       "      <td>no change</td>\n",
       "      <td>1 vehicle</td>\n",
       "      <td>1994</td>\n",
       "      <td>Collision</td>\n",
       "    </tr>\n",
       "  </tbody>\n",
       "</table>\n",
       "</div>"
      ],
      "text/plain": [
       "  Month  WeekOfMonth  DayOfWeek    Make AccidentArea DayOfWeekClaimed  \\\n",
       "0   Dec            5  Wednesday   Honda        Urban          Tuesday   \n",
       "1   Jan            3  Wednesday   Honda        Urban           Monday   \n",
       "2   Oct            5     Friday   Honda        Urban         Thursday   \n",
       "3   Jun            2   Saturday  Toyota        Rural           Friday   \n",
       "4   Jan            5     Monday   Honda        Urban          Tuesday   \n",
       "\n",
       "  MonthClaimed  WeekOfMonthClaimed     Sex MaritalStatus  Age          Fault  \\\n",
       "0          Jan                   1  Female        Single   21  Policy Holder   \n",
       "1          Jan                   4    Male        Single   34  Policy Holder   \n",
       "2          Nov                   2    Male       Married   47  Policy Holder   \n",
       "3          Jul                   1    Male       Married   65    Third Party   \n",
       "4          Feb                   2  Female        Single   27    Third Party   \n",
       "\n",
       "          PolicyType VehicleCategory     VehiclePrice  FraudFound_P  \\\n",
       "0  Sport - Liability           Sport  more than 69000             0   \n",
       "1  Sport - Collision           Sport  more than 69000             0   \n",
       "2  Sport - Collision           Sport  more than 69000             0   \n",
       "3  Sedan - Liability           Sport   20000 to 29000             0   \n",
       "4  Sport - Collision           Sport  more than 69000             0   \n",
       "\n",
       "   PolicyNumber  RepNumber  Deductible  DriverRating Days_Policy_Accident  \\\n",
       "0             1         12         300             1         more than 30   \n",
       "1             2         15         400             4         more than 30   \n",
       "2             3          7         400             3         more than 30   \n",
       "3             4          4         400             2         more than 30   \n",
       "4             5          3         400             1         more than 30   \n",
       "\n",
       "  Days_Policy_Claim PastNumberOfClaims AgeOfVehicle AgeOfPolicyHolder  \\\n",
       "0      more than 30               none      3 years          26 to 30   \n",
       "1      more than 30               none      6 years          31 to 35   \n",
       "2      more than 30                  1      7 years          41 to 50   \n",
       "3      more than 30                  1  more than 7          51 to 65   \n",
       "4      more than 30               none      5 years          31 to 35   \n",
       "\n",
       "  PoliceReportFiled WitnessPresent AgentType NumberOfSuppliments  \\\n",
       "0                No             No  External                none   \n",
       "1               Yes             No  External                none   \n",
       "2                No             No  External                none   \n",
       "3               Yes             No  External         more than 5   \n",
       "4                No             No  External                none   \n",
       "\n",
       "  AddressChange_Claim NumberOfCars  Year BasePolicy  \n",
       "0              1 year       3 to 4  1994  Liability  \n",
       "1           no change    1 vehicle  1994  Collision  \n",
       "2           no change    1 vehicle  1994  Collision  \n",
       "3           no change    1 vehicle  1994  Liability  \n",
       "4           no change    1 vehicle  1994  Collision  "
      ]
     },
     "execution_count": 54,
     "metadata": {},
     "output_type": "execute_result"
    }
   ],
   "source": [
    "df.head()"
   ]
  },
  {
   "cell_type": "code",
   "execution_count": 55,
   "id": "f2bdc151",
   "metadata": {},
   "outputs": [],
   "source": [
    "tiposDeDato = [CHAR(3),INTEGER,VARCHAR(9),VARCHAR(9),CHAR(5),VARCHAR(9),VARCHAR(3),INTEGER,VARCHAR(6),VARCHAR(8),INTEGER,\n",
    "VARCHAR(13),VARCHAR(20),VARCHAR(7),VARCHAR(15),INTEGER,VARCHAR(5),INTEGER,INTEGER,INTEGER,VARCHAR(12),\n",
    "VARCHAR(12),VARCHAR(11),VARCHAR(11),VARCHAR(8),VARCHAR(3),VARCHAR(3),CHAR(8),VARCHAR(11),VARCHAR(14),VARCHAR(11),INTEGER,VARCHAR(10)\n",
    "]"
   ]
  },
  {
   "cell_type": "code",
   "execution_count": 58,
   "id": "fdf49a74",
   "metadata": {},
   "outputs": [
    {
     "data": {
      "text/plain": [
       "15420"
      ]
     },
     "execution_count": 58,
     "metadata": {},
     "output_type": "execute_result"
    }
   ],
   "source": [
    "df.to_sql(con=cnx,name='fraud',dtype=dict(zip(df.columns,tiposDeDato)),index=False,if_exists='replace',chunksize=1000)"
   ]
  },
  {
   "cell_type": "code",
   "execution_count": null,
   "id": "af6f47de",
   "metadata": {},
   "outputs": [],
   "source": []
  }
 ],
 "metadata": {
  "kernelspec": {
   "display_name": "bd",
   "language": "python",
   "name": "bd"
  },
  "language_info": {
   "codemirror_mode": {
    "name": "ipython",
    "version": 3
   },
   "file_extension": ".py",
   "mimetype": "text/x-python",
   "name": "python",
   "nbconvert_exporter": "python",
   "pygments_lexer": "ipython3",
   "version": "3.9.1"
  },
  "toc": {
   "base_numbering": 1,
   "nav_menu": {},
   "number_sections": true,
   "sideBar": true,
   "skip_h1_title": false,
   "title_cell": "Table of Contents",
   "title_sidebar": "Contents",
   "toc_cell": false,
   "toc_position": {},
   "toc_section_display": true,
   "toc_window_display": true
  }
 },
 "nbformat": 4,
 "nbformat_minor": 5
}
