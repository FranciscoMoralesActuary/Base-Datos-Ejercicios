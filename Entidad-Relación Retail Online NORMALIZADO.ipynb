{
 "cells": [
  {
   "cell_type": "markdown",
   "id": "young-november",
   "metadata": {},
   "source": [
    "## Dependencias"
   ]
  },
  {
   "cell_type": "code",
   "execution_count": 32,
   "id": "powered-automation",
   "metadata": {
    "ExecuteTime": {
     "end_time": "2022-03-17T00:31:39.697910Z",
     "start_time": "2022-03-17T00:31:33.632707Z"
    }
   },
   "outputs": [],
   "source": [
    "import pandas as pd\n",
    "import json #JSON = Java Script Object Notation\n",
    "from sqlalchemy import create_engine\n",
    "from sqlalchemy.types import VARCHAR,FLOAT,INTEGER,DATE,CHAR,DATETIME, TIME\n",
    "import os\n",
    "\n",
    "pd.set_option('display.max_columns',None)"
   ]
  },
  {
   "cell_type": "markdown",
   "id": "religious-platform",
   "metadata": {},
   "source": [
    "## Credenciales"
   ]
  },
  {
   "cell_type": "code",
   "execution_count": 33,
   "id": "dense-wallet",
   "metadata": {
    "ExecuteTime": {
     "end_time": "2022-03-17T00:31:40.790506Z",
     "start_time": "2022-03-17T00:31:40.787746Z"
    }
   },
   "outputs": [],
   "source": [
    "creds = json.load(open('credenciales1.json','rb'))"
   ]
  },
  {
   "cell_type": "markdown",
   "id": "junior-thinking",
   "metadata": {},
   "source": [
    "## Crear conexión a base de datos"
   ]
  },
  {
   "cell_type": "code",
   "execution_count": 34,
   "id": "exotic-roller",
   "metadata": {
    "ExecuteTime": {
     "end_time": "2022-03-17T00:32:28.619124Z",
     "start_time": "2022-03-17T00:32:28.612834Z"
    }
   },
   "outputs": [],
   "source": [
    "url = f\"mysql+pymysql://{creds['user']}:{creds['password']}@{creds['servidor']}/retail\"\n",
    "cnx = create_engine(url,encoding='utf8')\n",
    "cnx = cnx.connect()"
   ]
  },
  {
   "cell_type": "code",
   "execution_count": 35,
   "id": "graphic-glass",
   "metadata": {
    "ExecuteTime": {
     "end_time": "2022-03-17T00:32:29.396631Z",
     "start_time": "2022-03-17T00:32:29.376833Z"
    }
   },
   "outputs": [
    {
     "data": {
      "text/plain": [
       "False"
      ]
     },
     "execution_count": 35,
     "metadata": {},
     "output_type": "execute_result"
    }
   ],
   "source": [
    "cnx.closed"
   ]
  },
  {
   "cell_type": "markdown",
   "id": "featured-elimination",
   "metadata": {},
   "source": [
    "## Lectura y limpieza de datos"
   ]
  },
  {
   "cell_type": "code",
   "execution_count": 36,
   "id": "collect-child",
   "metadata": {
    "ExecuteTime": {
     "end_time": "2022-03-17T00:34:13.467044Z",
     "start_time": "2022-03-17T00:33:13.527554Z"
    }
   },
   "outputs": [],
   "source": [
    "datos = pd.read_excel('Online Retail.xlsx')"
   ]
  },
  {
   "cell_type": "code",
   "execution_count": 37,
   "id": "opposed-miller",
   "metadata": {
    "ExecuteTime": {
     "end_time": "2022-03-17T00:34:16.843252Z",
     "start_time": "2022-03-17T00:34:16.839066Z"
    }
   },
   "outputs": [
    {
     "data": {
      "text/plain": [
       "(541909, 8)"
      ]
     },
     "execution_count": 37,
     "metadata": {},
     "output_type": "execute_result"
    }
   ],
   "source": [
    "datos.shape"
   ]
  },
  {
   "cell_type": "code",
   "execution_count": 38,
   "id": "designing-pleasure",
   "metadata": {
    "ExecuteTime": {
     "end_time": "2022-03-17T00:34:18.530587Z",
     "start_time": "2022-03-17T00:34:18.263609Z"
    }
   },
   "outputs": [
    {
     "data": {
      "text/html": [
       "<div>\n",
       "<style scoped>\n",
       "    .dataframe tbody tr th:only-of-type {\n",
       "        vertical-align: middle;\n",
       "    }\n",
       "\n",
       "    .dataframe tbody tr th {\n",
       "        vertical-align: top;\n",
       "    }\n",
       "\n",
       "    .dataframe thead th {\n",
       "        text-align: right;\n",
       "    }\n",
       "</style>\n",
       "<table border=\"1\" class=\"dataframe\">\n",
       "  <thead>\n",
       "    <tr style=\"text-align: right;\">\n",
       "      <th></th>\n",
       "      <th>InvoiceNo</th>\n",
       "      <th>StockCode</th>\n",
       "      <th>Description</th>\n",
       "      <th>Quantity</th>\n",
       "      <th>InvoiceDate</th>\n",
       "      <th>UnitPrice</th>\n",
       "      <th>CustomerID</th>\n",
       "      <th>Country</th>\n",
       "    </tr>\n",
       "  </thead>\n",
       "  <tbody>\n",
       "    <tr>\n",
       "      <th>0</th>\n",
       "      <td>536365</td>\n",
       "      <td>85123A</td>\n",
       "      <td>WHITE HANGING HEART T-LIGHT HOLDER</td>\n",
       "      <td>6</td>\n",
       "      <td>2010-12-01 08:26:00</td>\n",
       "      <td>2.55</td>\n",
       "      <td>17850.0</td>\n",
       "      <td>United Kingdom</td>\n",
       "    </tr>\n",
       "    <tr>\n",
       "      <th>1</th>\n",
       "      <td>536365</td>\n",
       "      <td>71053</td>\n",
       "      <td>WHITE METAL LANTERN</td>\n",
       "      <td>6</td>\n",
       "      <td>2010-12-01 08:26:00</td>\n",
       "      <td>3.39</td>\n",
       "      <td>17850.0</td>\n",
       "      <td>United Kingdom</td>\n",
       "    </tr>\n",
       "    <tr>\n",
       "      <th>2</th>\n",
       "      <td>536365</td>\n",
       "      <td>84406B</td>\n",
       "      <td>CREAM CUPID HEARTS COAT HANGER</td>\n",
       "      <td>8</td>\n",
       "      <td>2010-12-01 08:26:00</td>\n",
       "      <td>2.75</td>\n",
       "      <td>17850.0</td>\n",
       "      <td>United Kingdom</td>\n",
       "    </tr>\n",
       "    <tr>\n",
       "      <th>3</th>\n",
       "      <td>536365</td>\n",
       "      <td>84029G</td>\n",
       "      <td>KNITTED UNION FLAG HOT WATER BOTTLE</td>\n",
       "      <td>6</td>\n",
       "      <td>2010-12-01 08:26:00</td>\n",
       "      <td>3.39</td>\n",
       "      <td>17850.0</td>\n",
       "      <td>United Kingdom</td>\n",
       "    </tr>\n",
       "    <tr>\n",
       "      <th>4</th>\n",
       "      <td>536365</td>\n",
       "      <td>84029E</td>\n",
       "      <td>RED WOOLLY HOTTIE WHITE HEART.</td>\n",
       "      <td>6</td>\n",
       "      <td>2010-12-01 08:26:00</td>\n",
       "      <td>3.39</td>\n",
       "      <td>17850.0</td>\n",
       "      <td>United Kingdom</td>\n",
       "    </tr>\n",
       "  </tbody>\n",
       "</table>\n",
       "</div>"
      ],
      "text/plain": [
       "  InvoiceNo StockCode                          Description  Quantity  \\\n",
       "0    536365    85123A   WHITE HANGING HEART T-LIGHT HOLDER         6   \n",
       "1    536365     71053                  WHITE METAL LANTERN         6   \n",
       "2    536365    84406B       CREAM CUPID HEARTS COAT HANGER         8   \n",
       "3    536365    84029G  KNITTED UNION FLAG HOT WATER BOTTLE         6   \n",
       "4    536365    84029E       RED WOOLLY HOTTIE WHITE HEART.         6   \n",
       "\n",
       "          InvoiceDate  UnitPrice  CustomerID         Country  \n",
       "0 2010-12-01 08:26:00       2.55     17850.0  United Kingdom  \n",
       "1 2010-12-01 08:26:00       3.39     17850.0  United Kingdom  \n",
       "2 2010-12-01 08:26:00       2.75     17850.0  United Kingdom  \n",
       "3 2010-12-01 08:26:00       3.39     17850.0  United Kingdom  \n",
       "4 2010-12-01 08:26:00       3.39     17850.0  United Kingdom  "
      ]
     },
     "execution_count": 38,
     "metadata": {},
     "output_type": "execute_result"
    }
   ],
   "source": [
    "datos.head()"
   ]
  },
  {
   "cell_type": "markdown",
   "id": "bearing-chassis",
   "metadata": {},
   "source": [
    "## Separación de Entidades"
   ]
  },
  {
   "cell_type": "markdown",
   "id": "linear-petite",
   "metadata": {},
   "source": [
    "### Entidad Customer"
   ]
  },
  {
   "cell_type": "code",
   "execution_count": 95,
   "id": "grave-gossip",
   "metadata": {
    "ExecuteTime": {
     "end_time": "2022-03-17T01:14:44.952570Z",
     "start_time": "2022-03-17T01:14:44.928628Z"
    }
   },
   "outputs": [
    {
     "data": {
      "text/html": [
       "<div>\n",
       "<style scoped>\n",
       "    .dataframe tbody tr th:only-of-type {\n",
       "        vertical-align: middle;\n",
       "    }\n",
       "\n",
       "    .dataframe tbody tr th {\n",
       "        vertical-align: top;\n",
       "    }\n",
       "\n",
       "    .dataframe thead th {\n",
       "        text-align: right;\n",
       "    }\n",
       "</style>\n",
       "<table border=\"1\" class=\"dataframe\">\n",
       "  <thead>\n",
       "    <tr style=\"text-align: right;\">\n",
       "      <th></th>\n",
       "      <th>CustomerID</th>\n",
       "    </tr>\n",
       "  </thead>\n",
       "  <tbody>\n",
       "    <tr>\n",
       "      <th>0</th>\n",
       "      <td>17850</td>\n",
       "    </tr>\n",
       "    <tr>\n",
       "      <th>1</th>\n",
       "      <td>13047</td>\n",
       "    </tr>\n",
       "    <tr>\n",
       "      <th>2</th>\n",
       "      <td>12583</td>\n",
       "    </tr>\n",
       "    <tr>\n",
       "      <th>3</th>\n",
       "      <td>13748</td>\n",
       "    </tr>\n",
       "    <tr>\n",
       "      <th>4</th>\n",
       "      <td>15100</td>\n",
       "    </tr>\n",
       "    <tr>\n",
       "      <th>...</th>\n",
       "      <td>...</td>\n",
       "    </tr>\n",
       "    <tr>\n",
       "      <th>4367</th>\n",
       "      <td>13436</td>\n",
       "    </tr>\n",
       "    <tr>\n",
       "      <th>4368</th>\n",
       "      <td>15520</td>\n",
       "    </tr>\n",
       "    <tr>\n",
       "      <th>4369</th>\n",
       "      <td>13298</td>\n",
       "    </tr>\n",
       "    <tr>\n",
       "      <th>4370</th>\n",
       "      <td>14569</td>\n",
       "    </tr>\n",
       "    <tr>\n",
       "      <th>4371</th>\n",
       "      <td>12713</td>\n",
       "    </tr>\n",
       "  </tbody>\n",
       "</table>\n",
       "<p>4372 rows × 1 columns</p>\n",
       "</div>"
      ],
      "text/plain": [
       "      CustomerID\n",
       "0          17850\n",
       "1          13047\n",
       "2          12583\n",
       "3          13748\n",
       "4          15100\n",
       "...          ...\n",
       "4367       13436\n",
       "4368       15520\n",
       "4369       13298\n",
       "4370       14569\n",
       "4371       12713\n",
       "\n",
       "[4372 rows x 1 columns]"
      ]
     },
     "execution_count": 95,
     "metadata": {},
     "output_type": "execute_result"
    }
   ],
   "source": [
    "entCustomer = datos[['CustomerID']].drop_duplicates().dropna().reset_index(drop=True)\n",
    "entCustomer['CustomerID'] = entCustomer['CustomerID'].astype(int)\n",
    "entCustomer"
   ]
  },
  {
   "cell_type": "code",
   "execution_count": 96,
   "id": "supreme-exclusion",
   "metadata": {
    "ExecuteTime": {
     "end_time": "2022-03-17T01:14:45.225490Z",
     "start_time": "2022-03-17T01:14:44.953800Z"
    }
   },
   "outputs": [
    {
     "data": {
      "text/plain": [
       "4372"
      ]
     },
     "execution_count": 96,
     "metadata": {},
     "output_type": "execute_result"
    }
   ],
   "source": [
    "entCustomer.to_sql(con=cnx,\n",
    "                   name='Customer',\n",
    "                   if_exists='replace',\n",
    "                   index=False,\n",
    "                   chunksize=10000,\n",
    "                   dtype={'CustomerID':INTEGER})"
   ]
  },
  {
   "cell_type": "markdown",
   "id": "signed-richardson",
   "metadata": {},
   "source": [
    "### Entidad Product"
   ]
  },
  {
   "cell_type": "code",
   "execution_count": 97,
   "id": "civilian-adaptation",
   "metadata": {
    "ExecuteTime": {
     "end_time": "2022-03-17T01:14:28.641969Z",
     "start_time": "2022-03-17T01:14:28.345401Z"
    }
   },
   "outputs": [
    {
     "data": {
      "text/plain": [
       "3848"
      ]
     },
     "execution_count": 97,
     "metadata": {},
     "output_type": "execute_result"
    }
   ],
   "source": [
    "entProducto = datos[['StockCode','Description']].drop_duplicates().dropna().reset_index(drop=True).astype(str)\n",
    "entProducto['StockCode'] = entProducto['StockCode'].map(str.upper)\n",
    "entProducto = entProducto.groupby('StockCode').first().reset_index()\n",
    "entProducto.to_sql(con=cnx,\n",
    "                   name='Product',\n",
    "                   if_exists='replace',\n",
    "                   index=False,\n",
    "                   chunksize=10000,\n",
    "                   dtype={'StockCode':VARCHAR(12),'Description':VARCHAR(35)})"
   ]
  },
  {
   "cell_type": "code",
   "execution_count": 98,
   "id": "3b96391e",
   "metadata": {},
   "outputs": [
    {
     "data": {
      "text/html": [
       "<div>\n",
       "<style scoped>\n",
       "    .dataframe tbody tr th:only-of-type {\n",
       "        vertical-align: middle;\n",
       "    }\n",
       "\n",
       "    .dataframe tbody tr th {\n",
       "        vertical-align: top;\n",
       "    }\n",
       "\n",
       "    .dataframe thead th {\n",
       "        text-align: right;\n",
       "    }\n",
       "</style>\n",
       "<table border=\"1\" class=\"dataframe\">\n",
       "  <thead>\n",
       "    <tr style=\"text-align: right;\">\n",
       "      <th></th>\n",
       "      <th>StockCode</th>\n",
       "      <th>Description</th>\n",
       "    </tr>\n",
       "  </thead>\n",
       "  <tbody>\n",
       "    <tr>\n",
       "      <th>0</th>\n",
       "      <td>10002</td>\n",
       "      <td>INFLATABLE POLITICAL GLOBE</td>\n",
       "    </tr>\n",
       "    <tr>\n",
       "      <th>1</th>\n",
       "      <td>10080</td>\n",
       "      <td>GROOVY CACTUS INFLATABLE</td>\n",
       "    </tr>\n",
       "    <tr>\n",
       "      <th>2</th>\n",
       "      <td>10120</td>\n",
       "      <td>DOGGY RUBBER</td>\n",
       "    </tr>\n",
       "    <tr>\n",
       "      <th>3</th>\n",
       "      <td>10123C</td>\n",
       "      <td>HEARTS WRAPPING TAPE</td>\n",
       "    </tr>\n",
       "    <tr>\n",
       "      <th>4</th>\n",
       "      <td>10124A</td>\n",
       "      <td>SPOTS ON RED BOOKCOVER TAPE</td>\n",
       "    </tr>\n",
       "    <tr>\n",
       "      <th>...</th>\n",
       "      <td>...</td>\n",
       "      <td>...</td>\n",
       "    </tr>\n",
       "    <tr>\n",
       "      <th>3843</th>\n",
       "      <td>GIFT_0001_50</td>\n",
       "      <td>Dotcomgiftshop Gift Voucher £50.00</td>\n",
       "    </tr>\n",
       "    <tr>\n",
       "      <th>3844</th>\n",
       "      <td>M</td>\n",
       "      <td>Manual</td>\n",
       "    </tr>\n",
       "    <tr>\n",
       "      <th>3845</th>\n",
       "      <td>PADS</td>\n",
       "      <td>PADS TO MATCH ALL CUSHIONS</td>\n",
       "    </tr>\n",
       "    <tr>\n",
       "      <th>3846</th>\n",
       "      <td>POST</td>\n",
       "      <td>POSTAGE</td>\n",
       "    </tr>\n",
       "    <tr>\n",
       "      <th>3847</th>\n",
       "      <td>S</td>\n",
       "      <td>SAMPLES</td>\n",
       "    </tr>\n",
       "  </tbody>\n",
       "</table>\n",
       "<p>3848 rows × 2 columns</p>\n",
       "</div>"
      ],
      "text/plain": [
       "         StockCode                         Description\n",
       "0            10002         INFLATABLE POLITICAL GLOBE \n",
       "1            10080            GROOVY CACTUS INFLATABLE\n",
       "2            10120                        DOGGY RUBBER\n",
       "3           10123C               HEARTS WRAPPING TAPE \n",
       "4           10124A         SPOTS ON RED BOOKCOVER TAPE\n",
       "...            ...                                 ...\n",
       "3843  GIFT_0001_50  Dotcomgiftshop Gift Voucher £50.00\n",
       "3844             M                              Manual\n",
       "3845          PADS          PADS TO MATCH ALL CUSHIONS\n",
       "3846          POST                             POSTAGE\n",
       "3847             S                             SAMPLES\n",
       "\n",
       "[3848 rows x 2 columns]"
      ]
     },
     "execution_count": 98,
     "metadata": {},
     "output_type": "execute_result"
    }
   ],
   "source": [
    "entProducto"
   ]
  },
  {
   "cell_type": "code",
   "execution_count": 99,
   "id": "06ef546c",
   "metadata": {},
   "outputs": [
    {
     "data": {
      "text/plain": [
       "3848"
      ]
     },
     "execution_count": 99,
     "metadata": {},
     "output_type": "execute_result"
    }
   ],
   "source": [
    "len(entProducto['StockCode'].unique())"
   ]
  },
  {
   "cell_type": "code",
   "execution_count": 100,
   "id": "resistant-alabama",
   "metadata": {
    "ExecuteTime": {
     "end_time": "2022-03-17T01:14:29.124486Z",
     "start_time": "2022-03-17T01:14:29.113535Z"
    }
   },
   "outputs": [
    {
     "data": {
      "text/html": [
       "<div>\n",
       "<style scoped>\n",
       "    .dataframe tbody tr th:only-of-type {\n",
       "        vertical-align: middle;\n",
       "    }\n",
       "\n",
       "    .dataframe tbody tr th {\n",
       "        vertical-align: top;\n",
       "    }\n",
       "\n",
       "    .dataframe thead th {\n",
       "        text-align: right;\n",
       "    }\n",
       "</style>\n",
       "<table border=\"1\" class=\"dataframe\">\n",
       "  <thead>\n",
       "    <tr style=\"text-align: right;\">\n",
       "      <th></th>\n",
       "      <th>StockCode</th>\n",
       "      <th>Description</th>\n",
       "    </tr>\n",
       "  </thead>\n",
       "  <tbody>\n",
       "    <tr>\n",
       "      <th>2957</th>\n",
       "      <td>84509A</td>\n",
       "      <td>SET OF 4 ENGLISH ROSE PLACEMATS</td>\n",
       "    </tr>\n",
       "  </tbody>\n",
       "</table>\n",
       "</div>"
      ],
      "text/plain": [
       "     StockCode                      Description\n",
       "2957    84509A  SET OF 4 ENGLISH ROSE PLACEMATS"
      ]
     },
     "execution_count": 100,
     "metadata": {},
     "output_type": "execute_result"
    }
   ],
   "source": [
    "entProducto.loc[entProducto['StockCode']=='84509A']"
   ]
  },
  {
   "cell_type": "markdown",
   "id": "successful-submission",
   "metadata": {},
   "source": [
    "### Entidad Invoice"
   ]
  },
  {
   "cell_type": "code",
   "execution_count": 101,
   "id": "83e155c9",
   "metadata": {
    "ExecuteTime": {
     "end_time": "2022-03-17T01:14:30.758821Z",
     "start_time": "2022-03-17T01:14:29.938684Z"
    }
   },
   "outputs": [
    {
     "data": {
      "text/html": [
       "<div>\n",
       "<style scoped>\n",
       "    .dataframe tbody tr th:only-of-type {\n",
       "        vertical-align: middle;\n",
       "    }\n",
       "\n",
       "    .dataframe tbody tr th {\n",
       "        vertical-align: top;\n",
       "    }\n",
       "\n",
       "    .dataframe thead th {\n",
       "        text-align: right;\n",
       "    }\n",
       "</style>\n",
       "<table border=\"1\" class=\"dataframe\">\n",
       "  <thead>\n",
       "    <tr style=\"text-align: right;\">\n",
       "      <th></th>\n",
       "      <th>InvoiceNo</th>\n",
       "      <th>InvoiceDate</th>\n",
       "      <th>CustomerID</th>\n",
       "    </tr>\n",
       "  </thead>\n",
       "  <tbody>\n",
       "    <tr>\n",
       "      <th>0</th>\n",
       "      <td>536365</td>\n",
       "      <td>2010-12-01 08:26:00</td>\n",
       "      <td>17850.0</td>\n",
       "    </tr>\n",
       "    <tr>\n",
       "      <th>1</th>\n",
       "      <td>536366</td>\n",
       "      <td>2010-12-01 08:28:00</td>\n",
       "      <td>17850.0</td>\n",
       "    </tr>\n",
       "    <tr>\n",
       "      <th>2</th>\n",
       "      <td>536367</td>\n",
       "      <td>2010-12-01 08:34:00</td>\n",
       "      <td>13047.0</td>\n",
       "    </tr>\n",
       "    <tr>\n",
       "      <th>3</th>\n",
       "      <td>536368</td>\n",
       "      <td>2010-12-01 08:34:00</td>\n",
       "      <td>13047.0</td>\n",
       "    </tr>\n",
       "    <tr>\n",
       "      <th>4</th>\n",
       "      <td>536369</td>\n",
       "      <td>2010-12-01 08:35:00</td>\n",
       "      <td>13047.0</td>\n",
       "    </tr>\n",
       "    <tr>\n",
       "      <th>...</th>\n",
       "      <td>...</td>\n",
       "      <td>...</td>\n",
       "      <td>...</td>\n",
       "    </tr>\n",
       "    <tr>\n",
       "      <th>22185</th>\n",
       "      <td>C581484</td>\n",
       "      <td>2011-12-09 09:27:00</td>\n",
       "      <td>16446.0</td>\n",
       "    </tr>\n",
       "    <tr>\n",
       "      <th>22186</th>\n",
       "      <td>C581490</td>\n",
       "      <td>2011-12-09 09:57:00</td>\n",
       "      <td>14397.0</td>\n",
       "    </tr>\n",
       "    <tr>\n",
       "      <th>22187</th>\n",
       "      <td>C581499</td>\n",
       "      <td>2011-12-09 10:28:00</td>\n",
       "      <td>15498.0</td>\n",
       "    </tr>\n",
       "    <tr>\n",
       "      <th>22188</th>\n",
       "      <td>C581568</td>\n",
       "      <td>2011-12-09 11:57:00</td>\n",
       "      <td>15311.0</td>\n",
       "    </tr>\n",
       "    <tr>\n",
       "      <th>22189</th>\n",
       "      <td>C581569</td>\n",
       "      <td>2011-12-09 11:58:00</td>\n",
       "      <td>17315.0</td>\n",
       "    </tr>\n",
       "  </tbody>\n",
       "</table>\n",
       "<p>22190 rows × 3 columns</p>\n",
       "</div>"
      ],
      "text/plain": [
       "      InvoiceNo         InvoiceDate  CustomerID\n",
       "0        536365 2010-12-01 08:26:00     17850.0\n",
       "1        536366 2010-12-01 08:28:00     17850.0\n",
       "2        536367 2010-12-01 08:34:00     13047.0\n",
       "3        536368 2010-12-01 08:34:00     13047.0\n",
       "4        536369 2010-12-01 08:35:00     13047.0\n",
       "...         ...                 ...         ...\n",
       "22185   C581484 2011-12-09 09:27:00     16446.0\n",
       "22186   C581490 2011-12-09 09:57:00     14397.0\n",
       "22187   C581499 2011-12-09 10:28:00     15498.0\n",
       "22188   C581568 2011-12-09 11:57:00     15311.0\n",
       "22189   C581569 2011-12-09 11:58:00     17315.0\n",
       "\n",
       "[22190 rows x 3 columns]"
      ]
     },
     "execution_count": 101,
     "metadata": {},
     "output_type": "execute_result"
    }
   ],
   "source": [
    "entInvoice = datos[['InvoiceNo','InvoiceDate','CustomerID']].drop_duplicates().dropna().copy().reset_index(drop=True)\n",
    "entInvoice = entInvoice.sort_values(by=['InvoiceNo','InvoiceDate']).groupby('InvoiceNo').first().reset_index()\n",
    "entInvoice"
   ]
  },
  {
   "cell_type": "code",
   "execution_count": 102,
   "id": "e66d7eb2",
   "metadata": {
    "ExecuteTime": {
     "end_time": "2022-03-17T01:14:30.758821Z",
     "start_time": "2022-03-17T01:14:29.938684Z"
    }
   },
   "outputs": [
    {
     "data": {
      "text/html": [
       "<div>\n",
       "<style scoped>\n",
       "    .dataframe tbody tr th:only-of-type {\n",
       "        vertical-align: middle;\n",
       "    }\n",
       "\n",
       "    .dataframe tbody tr th {\n",
       "        vertical-align: top;\n",
       "    }\n",
       "\n",
       "    .dataframe thead th {\n",
       "        text-align: right;\n",
       "    }\n",
       "</style>\n",
       "<table border=\"1\" class=\"dataframe\">\n",
       "  <thead>\n",
       "    <tr style=\"text-align: right;\">\n",
       "      <th></th>\n",
       "      <th>InvoiceNo</th>\n",
       "      <th>InvoiceDate</th>\n",
       "      <th>CustomerID</th>\n",
       "      <th>InvoiceDate_fecha</th>\n",
       "      <th>InvoiceDate_hora</th>\n",
       "    </tr>\n",
       "  </thead>\n",
       "  <tbody>\n",
       "    <tr>\n",
       "      <th>0</th>\n",
       "      <td>536365</td>\n",
       "      <td>2010-12-01 08:26:00</td>\n",
       "      <td>17850.0</td>\n",
       "      <td>2010-12-01</td>\n",
       "      <td>08:26:00</td>\n",
       "    </tr>\n",
       "    <tr>\n",
       "      <th>1</th>\n",
       "      <td>536366</td>\n",
       "      <td>2010-12-01 08:28:00</td>\n",
       "      <td>17850.0</td>\n",
       "      <td>2010-12-01</td>\n",
       "      <td>08:28:00</td>\n",
       "    </tr>\n",
       "    <tr>\n",
       "      <th>2</th>\n",
       "      <td>536367</td>\n",
       "      <td>2010-12-01 08:34:00</td>\n",
       "      <td>13047.0</td>\n",
       "      <td>2010-12-01</td>\n",
       "      <td>08:34:00</td>\n",
       "    </tr>\n",
       "    <tr>\n",
       "      <th>3</th>\n",
       "      <td>536368</td>\n",
       "      <td>2010-12-01 08:34:00</td>\n",
       "      <td>13047.0</td>\n",
       "      <td>2010-12-01</td>\n",
       "      <td>08:34:00</td>\n",
       "    </tr>\n",
       "    <tr>\n",
       "      <th>4</th>\n",
       "      <td>536369</td>\n",
       "      <td>2010-12-01 08:35:00</td>\n",
       "      <td>13047.0</td>\n",
       "      <td>2010-12-01</td>\n",
       "      <td>08:35:00</td>\n",
       "    </tr>\n",
       "    <tr>\n",
       "      <th>...</th>\n",
       "      <td>...</td>\n",
       "      <td>...</td>\n",
       "      <td>...</td>\n",
       "      <td>...</td>\n",
       "      <td>...</td>\n",
       "    </tr>\n",
       "    <tr>\n",
       "      <th>22185</th>\n",
       "      <td>C581484</td>\n",
       "      <td>2011-12-09 09:27:00</td>\n",
       "      <td>16446.0</td>\n",
       "      <td>2011-12-09</td>\n",
       "      <td>09:27:00</td>\n",
       "    </tr>\n",
       "    <tr>\n",
       "      <th>22186</th>\n",
       "      <td>C581490</td>\n",
       "      <td>2011-12-09 09:57:00</td>\n",
       "      <td>14397.0</td>\n",
       "      <td>2011-12-09</td>\n",
       "      <td>09:57:00</td>\n",
       "    </tr>\n",
       "    <tr>\n",
       "      <th>22187</th>\n",
       "      <td>C581499</td>\n",
       "      <td>2011-12-09 10:28:00</td>\n",
       "      <td>15498.0</td>\n",
       "      <td>2011-12-09</td>\n",
       "      <td>10:28:00</td>\n",
       "    </tr>\n",
       "    <tr>\n",
       "      <th>22188</th>\n",
       "      <td>C581568</td>\n",
       "      <td>2011-12-09 11:57:00</td>\n",
       "      <td>15311.0</td>\n",
       "      <td>2011-12-09</td>\n",
       "      <td>11:57:00</td>\n",
       "    </tr>\n",
       "    <tr>\n",
       "      <th>22189</th>\n",
       "      <td>C581569</td>\n",
       "      <td>2011-12-09 11:58:00</td>\n",
       "      <td>17315.0</td>\n",
       "      <td>2011-12-09</td>\n",
       "      <td>11:58:00</td>\n",
       "    </tr>\n",
       "  </tbody>\n",
       "</table>\n",
       "<p>22190 rows × 5 columns</p>\n",
       "</div>"
      ],
      "text/plain": [
       "      InvoiceNo          InvoiceDate  CustomerID InvoiceDate_fecha  \\\n",
       "0        536365  2010-12-01 08:26:00     17850.0        2010-12-01   \n",
       "1        536366  2010-12-01 08:28:00     17850.0        2010-12-01   \n",
       "2        536367  2010-12-01 08:34:00     13047.0        2010-12-01   \n",
       "3        536368  2010-12-01 08:34:00     13047.0        2010-12-01   \n",
       "4        536369  2010-12-01 08:35:00     13047.0        2010-12-01   \n",
       "...         ...                  ...         ...               ...   \n",
       "22185   C581484  2011-12-09 09:27:00     16446.0        2011-12-09   \n",
       "22186   C581490  2011-12-09 09:57:00     14397.0        2011-12-09   \n",
       "22187   C581499  2011-12-09 10:28:00     15498.0        2011-12-09   \n",
       "22188   C581568  2011-12-09 11:57:00     15311.0        2011-12-09   \n",
       "22189   C581569  2011-12-09 11:58:00     17315.0        2011-12-09   \n",
       "\n",
       "      InvoiceDate_hora  \n",
       "0             08:26:00  \n",
       "1             08:28:00  \n",
       "2             08:34:00  \n",
       "3             08:34:00  \n",
       "4             08:35:00  \n",
       "...                ...  \n",
       "22185         09:27:00  \n",
       "22186         09:57:00  \n",
       "22187         10:28:00  \n",
       "22188         11:57:00  \n",
       "22189         11:58:00  \n",
       "\n",
       "[22190 rows x 5 columns]"
      ]
     },
     "execution_count": 102,
     "metadata": {},
     "output_type": "execute_result"
    }
   ],
   "source": [
    "entInvoice['InvoiceDate'] = entInvoice['InvoiceDate'].astype(str)\n",
    "entInvoice[['InvoiceDate_fecha', 'InvoiceDate_hora']] = entInvoice['InvoiceDate'].str.split(expand=True)\n",
    "entInvoice"
   ]
  },
  {
   "cell_type": "code",
   "execution_count": 103,
   "id": "88e5abe5",
   "metadata": {},
   "outputs": [
    {
     "data": {
      "text/html": [
       "<div>\n",
       "<style scoped>\n",
       "    .dataframe tbody tr th:only-of-type {\n",
       "        vertical-align: middle;\n",
       "    }\n",
       "\n",
       "    .dataframe tbody tr th {\n",
       "        vertical-align: top;\n",
       "    }\n",
       "\n",
       "    .dataframe thead th {\n",
       "        text-align: right;\n",
       "    }\n",
       "</style>\n",
       "<table border=\"1\" class=\"dataframe\">\n",
       "  <thead>\n",
       "    <tr style=\"text-align: right;\">\n",
       "      <th></th>\n",
       "      <th>InvoiceDate_fecha</th>\n",
       "      <th>InvoiceDate_hora</th>\n",
       "      <th>InvoiceDate</th>\n",
       "      <th>FH_id</th>\n",
       "    </tr>\n",
       "  </thead>\n",
       "  <tbody>\n",
       "    <tr>\n",
       "      <th>0</th>\n",
       "      <td>2010-12-01</td>\n",
       "      <td>08:26:00</td>\n",
       "      <td>2010-12-01 08:26:00</td>\n",
       "      <td>1</td>\n",
       "    </tr>\n",
       "    <tr>\n",
       "      <th>1</th>\n",
       "      <td>2010-12-01</td>\n",
       "      <td>08:28:00</td>\n",
       "      <td>2010-12-01 08:28:00</td>\n",
       "      <td>2</td>\n",
       "    </tr>\n",
       "    <tr>\n",
       "      <th>2</th>\n",
       "      <td>2010-12-01</td>\n",
       "      <td>08:34:00</td>\n",
       "      <td>2010-12-01 08:34:00</td>\n",
       "      <td>3</td>\n",
       "    </tr>\n",
       "    <tr>\n",
       "      <th>3</th>\n",
       "      <td>2010-12-01</td>\n",
       "      <td>08:35:00</td>\n",
       "      <td>2010-12-01 08:35:00</td>\n",
       "      <td>4</td>\n",
       "    </tr>\n",
       "    <tr>\n",
       "      <th>4</th>\n",
       "      <td>2010-12-01</td>\n",
       "      <td>08:45:00</td>\n",
       "      <td>2010-12-01 08:45:00</td>\n",
       "      <td>5</td>\n",
       "    </tr>\n",
       "    <tr>\n",
       "      <th>...</th>\n",
       "      <td>...</td>\n",
       "      <td>...</td>\n",
       "      <td>...</td>\n",
       "      <td>...</td>\n",
       "    </tr>\n",
       "    <tr>\n",
       "      <th>20429</th>\n",
       "      <td>2011-12-09</td>\n",
       "      <td>09:27:00</td>\n",
       "      <td>2011-12-09 09:27:00</td>\n",
       "      <td>20430</td>\n",
       "    </tr>\n",
       "    <tr>\n",
       "      <th>20430</th>\n",
       "      <td>2011-12-09</td>\n",
       "      <td>09:57:00</td>\n",
       "      <td>2011-12-09 09:57:00</td>\n",
       "      <td>20431</td>\n",
       "    </tr>\n",
       "    <tr>\n",
       "      <th>20431</th>\n",
       "      <td>2011-12-09</td>\n",
       "      <td>10:28:00</td>\n",
       "      <td>2011-12-09 10:28:00</td>\n",
       "      <td>20432</td>\n",
       "    </tr>\n",
       "    <tr>\n",
       "      <th>20432</th>\n",
       "      <td>2011-12-09</td>\n",
       "      <td>11:57:00</td>\n",
       "      <td>2011-12-09 11:57:00</td>\n",
       "      <td>20433</td>\n",
       "    </tr>\n",
       "    <tr>\n",
       "      <th>20433</th>\n",
       "      <td>2011-12-09</td>\n",
       "      <td>11:58:00</td>\n",
       "      <td>2011-12-09 11:58:00</td>\n",
       "      <td>20434</td>\n",
       "    </tr>\n",
       "  </tbody>\n",
       "</table>\n",
       "<p>20434 rows × 4 columns</p>\n",
       "</div>"
      ],
      "text/plain": [
       "      InvoiceDate_fecha InvoiceDate_hora          InvoiceDate  FH_id\n",
       "0            2010-12-01         08:26:00  2010-12-01 08:26:00      1\n",
       "1            2010-12-01         08:28:00  2010-12-01 08:28:00      2\n",
       "2            2010-12-01         08:34:00  2010-12-01 08:34:00      3\n",
       "3            2010-12-01         08:35:00  2010-12-01 08:35:00      4\n",
       "4            2010-12-01         08:45:00  2010-12-01 08:45:00      5\n",
       "...                 ...              ...                  ...    ...\n",
       "20429        2011-12-09         09:27:00  2011-12-09 09:27:00  20430\n",
       "20430        2011-12-09         09:57:00  2011-12-09 09:57:00  20431\n",
       "20431        2011-12-09         10:28:00  2011-12-09 10:28:00  20432\n",
       "20432        2011-12-09         11:57:00  2011-12-09 11:57:00  20433\n",
       "20433        2011-12-09         11:58:00  2011-12-09 11:58:00  20434\n",
       "\n",
       "[20434 rows x 4 columns]"
      ]
     },
     "execution_count": 103,
     "metadata": {},
     "output_type": "execute_result"
    }
   ],
   "source": [
    "entFH=entInvoice[['InvoiceDate_fecha' ,'InvoiceDate_hora', 'InvoiceDate']].copy().drop_duplicates().reset_index(drop=True)\n",
    "entFH['FH_id']=entFH.index+1\n",
    "entFH"
   ]
  },
  {
   "cell_type": "code",
   "execution_count": 104,
   "id": "e1fae261",
   "metadata": {
    "ExecuteTime": {
     "end_time": "2022-03-17T01:14:30.758821Z",
     "start_time": "2022-03-17T01:14:29.938684Z"
    }
   },
   "outputs": [
    {
     "data": {
      "text/html": [
       "<div>\n",
       "<style scoped>\n",
       "    .dataframe tbody tr th:only-of-type {\n",
       "        vertical-align: middle;\n",
       "    }\n",
       "\n",
       "    .dataframe tbody tr th {\n",
       "        vertical-align: top;\n",
       "    }\n",
       "\n",
       "    .dataframe thead th {\n",
       "        text-align: right;\n",
       "    }\n",
       "</style>\n",
       "<table border=\"1\" class=\"dataframe\">\n",
       "  <thead>\n",
       "    <tr style=\"text-align: right;\">\n",
       "      <th></th>\n",
       "      <th>InvoiceNo</th>\n",
       "      <th>CustomerID</th>\n",
       "      <th>FH_id</th>\n",
       "    </tr>\n",
       "  </thead>\n",
       "  <tbody>\n",
       "    <tr>\n",
       "      <th>0</th>\n",
       "      <td>536365</td>\n",
       "      <td>17850.0</td>\n",
       "      <td>1</td>\n",
       "    </tr>\n",
       "    <tr>\n",
       "      <th>1</th>\n",
       "      <td>536366</td>\n",
       "      <td>17850.0</td>\n",
       "      <td>2</td>\n",
       "    </tr>\n",
       "    <tr>\n",
       "      <th>2</th>\n",
       "      <td>536367</td>\n",
       "      <td>13047.0</td>\n",
       "      <td>3</td>\n",
       "    </tr>\n",
       "    <tr>\n",
       "      <th>3</th>\n",
       "      <td>536368</td>\n",
       "      <td>13047.0</td>\n",
       "      <td>3</td>\n",
       "    </tr>\n",
       "    <tr>\n",
       "      <th>4</th>\n",
       "      <td>536369</td>\n",
       "      <td>13047.0</td>\n",
       "      <td>4</td>\n",
       "    </tr>\n",
       "    <tr>\n",
       "      <th>...</th>\n",
       "      <td>...</td>\n",
       "      <td>...</td>\n",
       "      <td>...</td>\n",
       "    </tr>\n",
       "    <tr>\n",
       "      <th>22185</th>\n",
       "      <td>C581484</td>\n",
       "      <td>16446.0</td>\n",
       "      <td>20430</td>\n",
       "    </tr>\n",
       "    <tr>\n",
       "      <th>22186</th>\n",
       "      <td>C581490</td>\n",
       "      <td>14397.0</td>\n",
       "      <td>20431</td>\n",
       "    </tr>\n",
       "    <tr>\n",
       "      <th>22187</th>\n",
       "      <td>C581499</td>\n",
       "      <td>15498.0</td>\n",
       "      <td>20432</td>\n",
       "    </tr>\n",
       "    <tr>\n",
       "      <th>22188</th>\n",
       "      <td>C581568</td>\n",
       "      <td>15311.0</td>\n",
       "      <td>20433</td>\n",
       "    </tr>\n",
       "    <tr>\n",
       "      <th>22189</th>\n",
       "      <td>C581569</td>\n",
       "      <td>17315.0</td>\n",
       "      <td>20434</td>\n",
       "    </tr>\n",
       "  </tbody>\n",
       "</table>\n",
       "<p>22190 rows × 3 columns</p>\n",
       "</div>"
      ],
      "text/plain": [
       "      InvoiceNo  CustomerID  FH_id\n",
       "0        536365     17850.0      1\n",
       "1        536366     17850.0      2\n",
       "2        536367     13047.0      3\n",
       "3        536368     13047.0      3\n",
       "4        536369     13047.0      4\n",
       "...         ...         ...    ...\n",
       "22185   C581484     16446.0  20430\n",
       "22186   C581490     14397.0  20431\n",
       "22187   C581499     15498.0  20432\n",
       "22188   C581568     15311.0  20433\n",
       "22189   C581569     17315.0  20434\n",
       "\n",
       "[22190 rows x 3 columns]"
      ]
     },
     "execution_count": 104,
     "metadata": {},
     "output_type": "execute_result"
    }
   ],
   "source": [
    "entInvoice = pd.merge(entInvoice, entFH, how='left', on='InvoiceDate')\n",
    "entInvoice = entInvoice.drop(['InvoiceDate', 'InvoiceDate_fecha_x','InvoiceDate_hora_x','InvoiceDate_fecha_y','InvoiceDate_hora_y'], axis=1)\n",
    "entInvoice "
   ]
  },
  {
   "cell_type": "code",
   "execution_count": 105,
   "id": "a162f3fc",
   "metadata": {},
   "outputs": [
    {
     "data": {
      "text/html": [
       "<div>\n",
       "<style scoped>\n",
       "    .dataframe tbody tr th:only-of-type {\n",
       "        vertical-align: middle;\n",
       "    }\n",
       "\n",
       "    .dataframe tbody tr th {\n",
       "        vertical-align: top;\n",
       "    }\n",
       "\n",
       "    .dataframe thead th {\n",
       "        text-align: right;\n",
       "    }\n",
       "</style>\n",
       "<table border=\"1\" class=\"dataframe\">\n",
       "  <thead>\n",
       "    <tr style=\"text-align: right;\">\n",
       "      <th></th>\n",
       "      <th>InvoiceDate_fecha</th>\n",
       "      <th>InvoiceDate_hora</th>\n",
       "      <th>FH_id</th>\n",
       "    </tr>\n",
       "  </thead>\n",
       "  <tbody>\n",
       "    <tr>\n",
       "      <th>0</th>\n",
       "      <td>2010-12-01</td>\n",
       "      <td>08:26:00</td>\n",
       "      <td>1</td>\n",
       "    </tr>\n",
       "    <tr>\n",
       "      <th>1</th>\n",
       "      <td>2010-12-01</td>\n",
       "      <td>08:28:00</td>\n",
       "      <td>2</td>\n",
       "    </tr>\n",
       "    <tr>\n",
       "      <th>2</th>\n",
       "      <td>2010-12-01</td>\n",
       "      <td>08:34:00</td>\n",
       "      <td>3</td>\n",
       "    </tr>\n",
       "    <tr>\n",
       "      <th>3</th>\n",
       "      <td>2010-12-01</td>\n",
       "      <td>08:35:00</td>\n",
       "      <td>4</td>\n",
       "    </tr>\n",
       "    <tr>\n",
       "      <th>4</th>\n",
       "      <td>2010-12-01</td>\n",
       "      <td>08:45:00</td>\n",
       "      <td>5</td>\n",
       "    </tr>\n",
       "    <tr>\n",
       "      <th>...</th>\n",
       "      <td>...</td>\n",
       "      <td>...</td>\n",
       "      <td>...</td>\n",
       "    </tr>\n",
       "    <tr>\n",
       "      <th>20429</th>\n",
       "      <td>2011-12-09</td>\n",
       "      <td>09:27:00</td>\n",
       "      <td>20430</td>\n",
       "    </tr>\n",
       "    <tr>\n",
       "      <th>20430</th>\n",
       "      <td>2011-12-09</td>\n",
       "      <td>09:57:00</td>\n",
       "      <td>20431</td>\n",
       "    </tr>\n",
       "    <tr>\n",
       "      <th>20431</th>\n",
       "      <td>2011-12-09</td>\n",
       "      <td>10:28:00</td>\n",
       "      <td>20432</td>\n",
       "    </tr>\n",
       "    <tr>\n",
       "      <th>20432</th>\n",
       "      <td>2011-12-09</td>\n",
       "      <td>11:57:00</td>\n",
       "      <td>20433</td>\n",
       "    </tr>\n",
       "    <tr>\n",
       "      <th>20433</th>\n",
       "      <td>2011-12-09</td>\n",
       "      <td>11:58:00</td>\n",
       "      <td>20434</td>\n",
       "    </tr>\n",
       "  </tbody>\n",
       "</table>\n",
       "<p>20434 rows × 3 columns</p>\n",
       "</div>"
      ],
      "text/plain": [
       "      InvoiceDate_fecha InvoiceDate_hora  FH_id\n",
       "0            2010-12-01         08:26:00      1\n",
       "1            2010-12-01         08:28:00      2\n",
       "2            2010-12-01         08:34:00      3\n",
       "3            2010-12-01         08:35:00      4\n",
       "4            2010-12-01         08:45:00      5\n",
       "...                 ...              ...    ...\n",
       "20429        2011-12-09         09:27:00  20430\n",
       "20430        2011-12-09         09:57:00  20431\n",
       "20431        2011-12-09         10:28:00  20432\n",
       "20432        2011-12-09         11:57:00  20433\n",
       "20433        2011-12-09         11:58:00  20434\n",
       "\n",
       "[20434 rows x 3 columns]"
      ]
     },
     "execution_count": 105,
     "metadata": {},
     "output_type": "execute_result"
    }
   ],
   "source": [
    "entFH = entFH.drop(['InvoiceDate'], axis=1)\n",
    "entFH"
   ]
  },
  {
   "cell_type": "code",
   "execution_count": 106,
   "id": "divided-riding",
   "metadata": {
    "ExecuteTime": {
     "end_time": "2022-03-17T01:14:30.758821Z",
     "start_time": "2022-03-17T01:14:29.938684Z"
    }
   },
   "outputs": [
    {
     "data": {
      "text/plain": [
       "22190"
      ]
     },
     "execution_count": 106,
     "metadata": {},
     "output_type": "execute_result"
    }
   ],
   "source": [
    "entInvoice.to_sql(con=cnx,\n",
    "                   name='Invoice',\n",
    "                   if_exists='replace',\n",
    "                   index=False,\n",
    "                   chunksize=10000,\n",
    "                   dtype={'InvoiceNo':CHAR(7),\n",
    "                           'FH_id':INTEGER,\n",
    "                           'CustomerID':INTEGER\n",
    "                         }\n",
    "             )"
   ]
  },
  {
   "cell_type": "code",
   "execution_count": 107,
   "id": "ce40c7ee",
   "metadata": {},
   "outputs": [
    {
     "data": {
      "text/html": [
       "<div>\n",
       "<style scoped>\n",
       "    .dataframe tbody tr th:only-of-type {\n",
       "        vertical-align: middle;\n",
       "    }\n",
       "\n",
       "    .dataframe tbody tr th {\n",
       "        vertical-align: top;\n",
       "    }\n",
       "\n",
       "    .dataframe thead th {\n",
       "        text-align: right;\n",
       "    }\n",
       "</style>\n",
       "<table border=\"1\" class=\"dataframe\">\n",
       "  <thead>\n",
       "    <tr style=\"text-align: right;\">\n",
       "      <th></th>\n",
       "      <th>InvoiceNo</th>\n",
       "      <th>CustomerID</th>\n",
       "      <th>FH_id</th>\n",
       "    </tr>\n",
       "  </thead>\n",
       "  <tbody>\n",
       "    <tr>\n",
       "      <th>0</th>\n",
       "      <td>536365</td>\n",
       "      <td>17850.0</td>\n",
       "      <td>1</td>\n",
       "    </tr>\n",
       "    <tr>\n",
       "      <th>1</th>\n",
       "      <td>536366</td>\n",
       "      <td>17850.0</td>\n",
       "      <td>2</td>\n",
       "    </tr>\n",
       "    <tr>\n",
       "      <th>2</th>\n",
       "      <td>536367</td>\n",
       "      <td>13047.0</td>\n",
       "      <td>3</td>\n",
       "    </tr>\n",
       "    <tr>\n",
       "      <th>3</th>\n",
       "      <td>536368</td>\n",
       "      <td>13047.0</td>\n",
       "      <td>3</td>\n",
       "    </tr>\n",
       "    <tr>\n",
       "      <th>4</th>\n",
       "      <td>536369</td>\n",
       "      <td>13047.0</td>\n",
       "      <td>4</td>\n",
       "    </tr>\n",
       "    <tr>\n",
       "      <th>...</th>\n",
       "      <td>...</td>\n",
       "      <td>...</td>\n",
       "      <td>...</td>\n",
       "    </tr>\n",
       "    <tr>\n",
       "      <th>22185</th>\n",
       "      <td>C581484</td>\n",
       "      <td>16446.0</td>\n",
       "      <td>20430</td>\n",
       "    </tr>\n",
       "    <tr>\n",
       "      <th>22186</th>\n",
       "      <td>C581490</td>\n",
       "      <td>14397.0</td>\n",
       "      <td>20431</td>\n",
       "    </tr>\n",
       "    <tr>\n",
       "      <th>22187</th>\n",
       "      <td>C581499</td>\n",
       "      <td>15498.0</td>\n",
       "      <td>20432</td>\n",
       "    </tr>\n",
       "    <tr>\n",
       "      <th>22188</th>\n",
       "      <td>C581568</td>\n",
       "      <td>15311.0</td>\n",
       "      <td>20433</td>\n",
       "    </tr>\n",
       "    <tr>\n",
       "      <th>22189</th>\n",
       "      <td>C581569</td>\n",
       "      <td>17315.0</td>\n",
       "      <td>20434</td>\n",
       "    </tr>\n",
       "  </tbody>\n",
       "</table>\n",
       "<p>22190 rows × 3 columns</p>\n",
       "</div>"
      ],
      "text/plain": [
       "      InvoiceNo  CustomerID  FH_id\n",
       "0        536365     17850.0      1\n",
       "1        536366     17850.0      2\n",
       "2        536367     13047.0      3\n",
       "3        536368     13047.0      3\n",
       "4        536369     13047.0      4\n",
       "...         ...         ...    ...\n",
       "22185   C581484     16446.0  20430\n",
       "22186   C581490     14397.0  20431\n",
       "22187   C581499     15498.0  20432\n",
       "22188   C581568     15311.0  20433\n",
       "22189   C581569     17315.0  20434\n",
       "\n",
       "[22190 rows x 3 columns]"
      ]
     },
     "execution_count": 107,
     "metadata": {},
     "output_type": "execute_result"
    }
   ],
   "source": [
    "entInvoice"
   ]
  },
  {
   "cell_type": "code",
   "execution_count": 108,
   "id": "55e90fc9",
   "metadata": {},
   "outputs": [
    {
     "data": {
      "text/plain": [
       "20434"
      ]
     },
     "execution_count": 108,
     "metadata": {},
     "output_type": "execute_result"
    }
   ],
   "source": [
    "len(entInvoice['FH_id'].unique())"
   ]
  },
  {
   "cell_type": "code",
   "execution_count": null,
   "id": "2da9ff36",
   "metadata": {},
   "outputs": [],
   "source": []
  },
  {
   "cell_type": "markdown",
   "id": "09379c00",
   "metadata": {},
   "source": [
    "### Entidad fecha"
   ]
  },
  {
   "cell_type": "code",
   "execution_count": 109,
   "id": "3f438f19",
   "metadata": {},
   "outputs": [
    {
     "data": {
      "text/html": [
       "<div>\n",
       "<style scoped>\n",
       "    .dataframe tbody tr th:only-of-type {\n",
       "        vertical-align: middle;\n",
       "    }\n",
       "\n",
       "    .dataframe tbody tr th {\n",
       "        vertical-align: top;\n",
       "    }\n",
       "\n",
       "    .dataframe thead th {\n",
       "        text-align: right;\n",
       "    }\n",
       "</style>\n",
       "<table border=\"1\" class=\"dataframe\">\n",
       "  <thead>\n",
       "    <tr style=\"text-align: right;\">\n",
       "      <th></th>\n",
       "      <th>InvoiceDate_fecha</th>\n",
       "      <th>InvoiceDate_hora</th>\n",
       "      <th>FH_id</th>\n",
       "    </tr>\n",
       "  </thead>\n",
       "  <tbody>\n",
       "    <tr>\n",
       "      <th>0</th>\n",
       "      <td>2010-12-01</td>\n",
       "      <td>08:26:00</td>\n",
       "      <td>1</td>\n",
       "    </tr>\n",
       "    <tr>\n",
       "      <th>1</th>\n",
       "      <td>2010-12-01</td>\n",
       "      <td>08:28:00</td>\n",
       "      <td>2</td>\n",
       "    </tr>\n",
       "  </tbody>\n",
       "</table>\n",
       "</div>"
      ],
      "text/plain": [
       "  InvoiceDate_fecha InvoiceDate_hora  FH_id\n",
       "0        2010-12-01         08:26:00      1\n",
       "1        2010-12-01         08:28:00      2"
      ]
     },
     "execution_count": 109,
     "metadata": {},
     "output_type": "execute_result"
    }
   ],
   "source": [
    "entFH.head(2)"
   ]
  },
  {
   "cell_type": "code",
   "execution_count": 110,
   "id": "62f0cb87",
   "metadata": {},
   "outputs": [
    {
     "data": {
      "text/plain": [
       "20434"
      ]
     },
     "execution_count": 110,
     "metadata": {},
     "output_type": "execute_result"
    }
   ],
   "source": [
    "entFH.to_sql(con=cnx,\n",
    "             name='Fecha-hora',\n",
    "             if_exists='replace',\n",
    "             index=False,\n",
    "             chunksize=10000,\n",
    "             dtype={'InvoiceDate_fecha':DATE,\n",
    "                    'InvoiceDate_hora':TIME,\n",
    "                    'FH_id':INTEGER})"
   ]
  },
  {
   "cell_type": "markdown",
   "id": "august-backup",
   "metadata": {},
   "source": [
    "### Entidad Transaction"
   ]
  },
  {
   "cell_type": "code",
   "execution_count": 139,
   "id": "15de2eff",
   "metadata": {
    "ExecuteTime": {
     "end_time": "2022-03-17T01:29:24.293036Z",
     "start_time": "2022-03-17T01:29:07.003147Z"
    }
   },
   "outputs": [
    {
     "data": {
      "text/html": [
       "<div>\n",
       "<style scoped>\n",
       "    .dataframe tbody tr th:only-of-type {\n",
       "        vertical-align: middle;\n",
       "    }\n",
       "\n",
       "    .dataframe tbody tr th {\n",
       "        vertical-align: top;\n",
       "    }\n",
       "\n",
       "    .dataframe thead th {\n",
       "        text-align: right;\n",
       "    }\n",
       "</style>\n",
       "<table border=\"1\" class=\"dataframe\">\n",
       "  <thead>\n",
       "    <tr style=\"text-align: right;\">\n",
       "      <th></th>\n",
       "      <th>TxnID</th>\n",
       "      <th>InvoiceNo</th>\n",
       "      <th>StockCode</th>\n",
       "      <th>Quantity</th>\n",
       "      <th>UnitPrice</th>\n",
       "      <th>Country</th>\n",
       "    </tr>\n",
       "  </thead>\n",
       "  <tbody>\n",
       "    <tr>\n",
       "      <th>0</th>\n",
       "      <td>1</td>\n",
       "      <td>536365</td>\n",
       "      <td>85123A</td>\n",
       "      <td>6</td>\n",
       "      <td>2.55</td>\n",
       "      <td>United Kingdom</td>\n",
       "    </tr>\n",
       "    <tr>\n",
       "      <th>1</th>\n",
       "      <td>2</td>\n",
       "      <td>536365</td>\n",
       "      <td>71053</td>\n",
       "      <td>6</td>\n",
       "      <td>3.39</td>\n",
       "      <td>United Kingdom</td>\n",
       "    </tr>\n",
       "    <tr>\n",
       "      <th>2</th>\n",
       "      <td>3</td>\n",
       "      <td>536365</td>\n",
       "      <td>84406B</td>\n",
       "      <td>8</td>\n",
       "      <td>2.75</td>\n",
       "      <td>United Kingdom</td>\n",
       "    </tr>\n",
       "    <tr>\n",
       "      <th>3</th>\n",
       "      <td>4</td>\n",
       "      <td>536365</td>\n",
       "      <td>84029G</td>\n",
       "      <td>6</td>\n",
       "      <td>3.39</td>\n",
       "      <td>United Kingdom</td>\n",
       "    </tr>\n",
       "    <tr>\n",
       "      <th>4</th>\n",
       "      <td>5</td>\n",
       "      <td>536365</td>\n",
       "      <td>84029E</td>\n",
       "      <td>6</td>\n",
       "      <td>3.39</td>\n",
       "      <td>United Kingdom</td>\n",
       "    </tr>\n",
       "    <tr>\n",
       "      <th>...</th>\n",
       "      <td>...</td>\n",
       "      <td>...</td>\n",
       "      <td>...</td>\n",
       "      <td>...</td>\n",
       "      <td>...</td>\n",
       "      <td>...</td>\n",
       "    </tr>\n",
       "    <tr>\n",
       "      <th>541904</th>\n",
       "      <td>541905</td>\n",
       "      <td>581587</td>\n",
       "      <td>22613</td>\n",
       "      <td>12</td>\n",
       "      <td>0.85</td>\n",
       "      <td>France</td>\n",
       "    </tr>\n",
       "    <tr>\n",
       "      <th>541905</th>\n",
       "      <td>541906</td>\n",
       "      <td>581587</td>\n",
       "      <td>22899</td>\n",
       "      <td>6</td>\n",
       "      <td>2.10</td>\n",
       "      <td>France</td>\n",
       "    </tr>\n",
       "    <tr>\n",
       "      <th>541906</th>\n",
       "      <td>541907</td>\n",
       "      <td>581587</td>\n",
       "      <td>23254</td>\n",
       "      <td>4</td>\n",
       "      <td>4.15</td>\n",
       "      <td>France</td>\n",
       "    </tr>\n",
       "    <tr>\n",
       "      <th>541907</th>\n",
       "      <td>541908</td>\n",
       "      <td>581587</td>\n",
       "      <td>23255</td>\n",
       "      <td>4</td>\n",
       "      <td>4.15</td>\n",
       "      <td>France</td>\n",
       "    </tr>\n",
       "    <tr>\n",
       "      <th>541908</th>\n",
       "      <td>541909</td>\n",
       "      <td>581587</td>\n",
       "      <td>22138</td>\n",
       "      <td>3</td>\n",
       "      <td>4.95</td>\n",
       "      <td>France</td>\n",
       "    </tr>\n",
       "  </tbody>\n",
       "</table>\n",
       "<p>541909 rows × 6 columns</p>\n",
       "</div>"
      ],
      "text/plain": [
       "         TxnID InvoiceNo StockCode  Quantity  UnitPrice         Country\n",
       "0            1    536365    85123A         6       2.55  United Kingdom\n",
       "1            2    536365     71053         6       3.39  United Kingdom\n",
       "2            3    536365    84406B         8       2.75  United Kingdom\n",
       "3            4    536365    84029G         6       3.39  United Kingdom\n",
       "4            5    536365    84029E         6       3.39  United Kingdom\n",
       "...        ...       ...       ...       ...        ...             ...\n",
       "541904  541905    581587     22613        12       0.85          France\n",
       "541905  541906    581587     22899         6       2.10          France\n",
       "541906  541907    581587     23254         4       4.15          France\n",
       "541907  541908    581587     23255         4       4.15          France\n",
       "541908  541909    581587     22138         3       4.95          France\n",
       "\n",
       "[541909 rows x 6 columns]"
      ]
     },
     "execution_count": 139,
     "metadata": {},
     "output_type": "execute_result"
    }
   ],
   "source": [
    "entTxn = datos[['InvoiceNo','StockCode','Quantity','UnitPrice','Country']].copy().dropna().reset_index(drop=True)\n",
    "entTxn.insert(0,'TxnID', entTxn.index+1) \n",
    "entTxn"
   ]
  },
  {
   "cell_type": "code",
   "execution_count": 140,
   "id": "fee7bcbf",
   "metadata": {
    "ExecuteTime": {
     "end_time": "2022-03-17T01:29:24.293036Z",
     "start_time": "2022-03-17T01:29:07.003147Z"
    }
   },
   "outputs": [
    {
     "name": "stdout",
     "output_type": "stream",
     "text": [
      "(406829, 8)\n",
      "(406829, 9)\n"
     ]
    }
   ],
   "source": [
    "entTxn['StockCode'] = entTxn['StockCode'].map(str).map(str.upper)\n",
    "entTxn = entTxn.merge(entInvoice,on='InvoiceNo',how='inner')\n",
    "print(entTxn.shape)\n",
    "entTxn = entTxn.merge(entProducto,on='StockCode',how='inner')\n",
    "print(entTxn.shape)\n",
    "entTxn = entTxn.drop(['CustomerID','Description', 'FH_id'], axis=1)"
   ]
  },
  {
   "cell_type": "code",
   "execution_count": 141,
   "id": "bd4d0743",
   "metadata": {},
   "outputs": [
    {
     "data": {
      "text/html": [
       "<div>\n",
       "<style scoped>\n",
       "    .dataframe tbody tr th:only-of-type {\n",
       "        vertical-align: middle;\n",
       "    }\n",
       "\n",
       "    .dataframe tbody tr th {\n",
       "        vertical-align: top;\n",
       "    }\n",
       "\n",
       "    .dataframe thead th {\n",
       "        text-align: right;\n",
       "    }\n",
       "</style>\n",
       "<table border=\"1\" class=\"dataframe\">\n",
       "  <thead>\n",
       "    <tr style=\"text-align: right;\">\n",
       "      <th></th>\n",
       "      <th>TxnID</th>\n",
       "      <th>InvoiceNo</th>\n",
       "      <th>StockCode</th>\n",
       "      <th>Quantity</th>\n",
       "      <th>UnitPrice</th>\n",
       "      <th>Country</th>\n",
       "    </tr>\n",
       "  </thead>\n",
       "  <tbody>\n",
       "    <tr>\n",
       "      <th>0</th>\n",
       "      <td>1</td>\n",
       "      <td>536365</td>\n",
       "      <td>85123A</td>\n",
       "      <td>6</td>\n",
       "      <td>2.55</td>\n",
       "      <td>United Kingdom</td>\n",
       "    </tr>\n",
       "    <tr>\n",
       "      <th>1</th>\n",
       "      <td>50</td>\n",
       "      <td>536373</td>\n",
       "      <td>85123A</td>\n",
       "      <td>6</td>\n",
       "      <td>2.55</td>\n",
       "      <td>United Kingdom</td>\n",
       "    </tr>\n",
       "    <tr>\n",
       "      <th>2</th>\n",
       "      <td>67</td>\n",
       "      <td>536375</td>\n",
       "      <td>85123A</td>\n",
       "      <td>6</td>\n",
       "      <td>2.55</td>\n",
       "      <td>United Kingdom</td>\n",
       "    </tr>\n",
       "    <tr>\n",
       "      <th>3</th>\n",
       "      <td>221</td>\n",
       "      <td>536390</td>\n",
       "      <td>85123A</td>\n",
       "      <td>64</td>\n",
       "      <td>2.55</td>\n",
       "      <td>United Kingdom</td>\n",
       "    </tr>\n",
       "    <tr>\n",
       "      <th>4</th>\n",
       "      <td>263</td>\n",
       "      <td>536394</td>\n",
       "      <td>85123A</td>\n",
       "      <td>32</td>\n",
       "      <td>2.55</td>\n",
       "      <td>United Kingdom</td>\n",
       "    </tr>\n",
       "    <tr>\n",
       "      <th>...</th>\n",
       "      <td>...</td>\n",
       "      <td>...</td>\n",
       "      <td>...</td>\n",
       "      <td>...</td>\n",
       "      <td>...</td>\n",
       "      <td>...</td>\n",
       "    </tr>\n",
       "    <tr>\n",
       "      <th>406824</th>\n",
       "      <td>530383</td>\n",
       "      <td>580865</td>\n",
       "      <td>90089</td>\n",
       "      <td>12</td>\n",
       "      <td>0.19</td>\n",
       "      <td>United Kingdom</td>\n",
       "    </tr>\n",
       "    <tr>\n",
       "      <th>406825</th>\n",
       "      <td>530393</td>\n",
       "      <td>580865</td>\n",
       "      <td>90089</td>\n",
       "      <td>12</td>\n",
       "      <td>0.19</td>\n",
       "      <td>United Kingdom</td>\n",
       "    </tr>\n",
       "    <tr>\n",
       "      <th>406826</th>\n",
       "      <td>538996</td>\n",
       "      <td>581425</td>\n",
       "      <td>90089</td>\n",
       "      <td>1</td>\n",
       "      <td>0.19</td>\n",
       "      <td>United Kingdom</td>\n",
       "    </tr>\n",
       "    <tr>\n",
       "      <th>406827</th>\n",
       "      <td>540422</td>\n",
       "      <td>581483</td>\n",
       "      <td>23843</td>\n",
       "      <td>80995</td>\n",
       "      <td>2.08</td>\n",
       "      <td>United Kingdom</td>\n",
       "    </tr>\n",
       "    <tr>\n",
       "      <th>406828</th>\n",
       "      <td>540423</td>\n",
       "      <td>C581484</td>\n",
       "      <td>23843</td>\n",
       "      <td>-80995</td>\n",
       "      <td>2.08</td>\n",
       "      <td>United Kingdom</td>\n",
       "    </tr>\n",
       "  </tbody>\n",
       "</table>\n",
       "<p>406829 rows × 6 columns</p>\n",
       "</div>"
      ],
      "text/plain": [
       "         TxnID InvoiceNo StockCode  Quantity  UnitPrice         Country\n",
       "0            1    536365    85123A         6       2.55  United Kingdom\n",
       "1           50    536373    85123A         6       2.55  United Kingdom\n",
       "2           67    536375    85123A         6       2.55  United Kingdom\n",
       "3          221    536390    85123A        64       2.55  United Kingdom\n",
       "4          263    536394    85123A        32       2.55  United Kingdom\n",
       "...        ...       ...       ...       ...        ...             ...\n",
       "406824  530383    580865     90089        12       0.19  United Kingdom\n",
       "406825  530393    580865     90089        12       0.19  United Kingdom\n",
       "406826  538996    581425     90089         1       0.19  United Kingdom\n",
       "406827  540422    581483     23843     80995       2.08  United Kingdom\n",
       "406828  540423   C581484     23843    -80995       2.08  United Kingdom\n",
       "\n",
       "[406829 rows x 6 columns]"
      ]
     },
     "execution_count": 141,
     "metadata": {},
     "output_type": "execute_result"
    }
   ],
   "source": [
    "entTxn"
   ]
  },
  {
   "cell_type": "code",
   "execution_count": 142,
   "id": "3db47acd",
   "metadata": {},
   "outputs": [
    {
     "data": {
      "text/plain": [
       "37"
      ]
     },
     "execution_count": 142,
     "metadata": {},
     "output_type": "execute_result"
    }
   ],
   "source": [
    "len(entTxn['Country'].unique())"
   ]
  },
  {
   "cell_type": "code",
   "execution_count": 143,
   "id": "842b6c73",
   "metadata": {},
   "outputs": [
    {
     "data": {
      "text/html": [
       "<div>\n",
       "<style scoped>\n",
       "    .dataframe tbody tr th:only-of-type {\n",
       "        vertical-align: middle;\n",
       "    }\n",
       "\n",
       "    .dataframe tbody tr th {\n",
       "        vertical-align: top;\n",
       "    }\n",
       "\n",
       "    .dataframe thead th {\n",
       "        text-align: right;\n",
       "    }\n",
       "</style>\n",
       "<table border=\"1\" class=\"dataframe\">\n",
       "  <thead>\n",
       "    <tr style=\"text-align: right;\">\n",
       "      <th></th>\n",
       "      <th>Country</th>\n",
       "      <th>CountID</th>\n",
       "    </tr>\n",
       "  </thead>\n",
       "  <tbody>\n",
       "    <tr>\n",
       "      <th>0</th>\n",
       "      <td>United Kingdom</td>\n",
       "      <td>1</td>\n",
       "    </tr>\n",
       "    <tr>\n",
       "      <th>1</th>\n",
       "      <td>Spain</td>\n",
       "      <td>2</td>\n",
       "    </tr>\n",
       "  </tbody>\n",
       "</table>\n",
       "</div>"
      ],
      "text/plain": [
       "          Country  CountID\n",
       "0  United Kingdom        1\n",
       "1           Spain        2"
      ]
     },
     "execution_count": 143,
     "metadata": {},
     "output_type": "execute_result"
    }
   ],
   "source": [
    "entCountry = entTxn[['Country']].copy().drop_duplicates().reset_index(drop=True)\n",
    "entCountry['CountID']=entCountry.index + 1\n",
    "entCountry.head(2)"
   ]
  },
  {
   "cell_type": "code",
   "execution_count": 144,
   "id": "900a2fd1",
   "metadata": {},
   "outputs": [
    {
     "data": {
      "text/html": [
       "<div>\n",
       "<style scoped>\n",
       "    .dataframe tbody tr th:only-of-type {\n",
       "        vertical-align: middle;\n",
       "    }\n",
       "\n",
       "    .dataframe tbody tr th {\n",
       "        vertical-align: top;\n",
       "    }\n",
       "\n",
       "    .dataframe thead th {\n",
       "        text-align: right;\n",
       "    }\n",
       "</style>\n",
       "<table border=\"1\" class=\"dataframe\">\n",
       "  <thead>\n",
       "    <tr style=\"text-align: right;\">\n",
       "      <th></th>\n",
       "      <th>TxnID</th>\n",
       "      <th>InvoiceNo</th>\n",
       "      <th>StockCode</th>\n",
       "      <th>Quantity</th>\n",
       "      <th>UnitPrice</th>\n",
       "      <th>CountID</th>\n",
       "    </tr>\n",
       "  </thead>\n",
       "  <tbody>\n",
       "    <tr>\n",
       "      <th>0</th>\n",
       "      <td>1</td>\n",
       "      <td>536365</td>\n",
       "      <td>85123A</td>\n",
       "      <td>6</td>\n",
       "      <td>2.55</td>\n",
       "      <td>1</td>\n",
       "    </tr>\n",
       "    <tr>\n",
       "      <th>1</th>\n",
       "      <td>50</td>\n",
       "      <td>536373</td>\n",
       "      <td>85123A</td>\n",
       "      <td>6</td>\n",
       "      <td>2.55</td>\n",
       "      <td>1</td>\n",
       "    </tr>\n",
       "    <tr>\n",
       "      <th>2</th>\n",
       "      <td>67</td>\n",
       "      <td>536375</td>\n",
       "      <td>85123A</td>\n",
       "      <td>6</td>\n",
       "      <td>2.55</td>\n",
       "      <td>1</td>\n",
       "    </tr>\n",
       "    <tr>\n",
       "      <th>3</th>\n",
       "      <td>221</td>\n",
       "      <td>536390</td>\n",
       "      <td>85123A</td>\n",
       "      <td>64</td>\n",
       "      <td>2.55</td>\n",
       "      <td>1</td>\n",
       "    </tr>\n",
       "    <tr>\n",
       "      <th>4</th>\n",
       "      <td>263</td>\n",
       "      <td>536394</td>\n",
       "      <td>85123A</td>\n",
       "      <td>32</td>\n",
       "      <td>2.55</td>\n",
       "      <td>1</td>\n",
       "    </tr>\n",
       "    <tr>\n",
       "      <th>...</th>\n",
       "      <td>...</td>\n",
       "      <td>...</td>\n",
       "      <td>...</td>\n",
       "      <td>...</td>\n",
       "      <td>...</td>\n",
       "      <td>...</td>\n",
       "    </tr>\n",
       "    <tr>\n",
       "      <th>406824</th>\n",
       "      <td>530383</td>\n",
       "      <td>580865</td>\n",
       "      <td>90089</td>\n",
       "      <td>12</td>\n",
       "      <td>0.19</td>\n",
       "      <td>1</td>\n",
       "    </tr>\n",
       "    <tr>\n",
       "      <th>406825</th>\n",
       "      <td>530393</td>\n",
       "      <td>580865</td>\n",
       "      <td>90089</td>\n",
       "      <td>12</td>\n",
       "      <td>0.19</td>\n",
       "      <td>1</td>\n",
       "    </tr>\n",
       "    <tr>\n",
       "      <th>406826</th>\n",
       "      <td>538996</td>\n",
       "      <td>581425</td>\n",
       "      <td>90089</td>\n",
       "      <td>1</td>\n",
       "      <td>0.19</td>\n",
       "      <td>1</td>\n",
       "    </tr>\n",
       "    <tr>\n",
       "      <th>406827</th>\n",
       "      <td>540422</td>\n",
       "      <td>581483</td>\n",
       "      <td>23843</td>\n",
       "      <td>80995</td>\n",
       "      <td>2.08</td>\n",
       "      <td>1</td>\n",
       "    </tr>\n",
       "    <tr>\n",
       "      <th>406828</th>\n",
       "      <td>540423</td>\n",
       "      <td>C581484</td>\n",
       "      <td>23843</td>\n",
       "      <td>-80995</td>\n",
       "      <td>2.08</td>\n",
       "      <td>1</td>\n",
       "    </tr>\n",
       "  </tbody>\n",
       "</table>\n",
       "<p>406829 rows × 6 columns</p>\n",
       "</div>"
      ],
      "text/plain": [
       "         TxnID InvoiceNo StockCode  Quantity  UnitPrice  CountID\n",
       "0            1    536365    85123A         6       2.55        1\n",
       "1           50    536373    85123A         6       2.55        1\n",
       "2           67    536375    85123A         6       2.55        1\n",
       "3          221    536390    85123A        64       2.55        1\n",
       "4          263    536394    85123A        32       2.55        1\n",
       "...        ...       ...       ...       ...        ...      ...\n",
       "406824  530383    580865     90089        12       0.19        1\n",
       "406825  530393    580865     90089        12       0.19        1\n",
       "406826  538996    581425     90089         1       0.19        1\n",
       "406827  540422    581483     23843     80995       2.08        1\n",
       "406828  540423   C581484     23843    -80995       2.08        1\n",
       "\n",
       "[406829 rows x 6 columns]"
      ]
     },
     "execution_count": 144,
     "metadata": {},
     "output_type": "execute_result"
    }
   ],
   "source": [
    "entTxn = pd.merge(entTxn, entCountry, how='left', on='Country')\n",
    "entTxn = entTxn.drop(['Country'], axis=1)\n",
    "entTxn"
   ]
  },
  {
   "cell_type": "code",
   "execution_count": 145,
   "id": "b22030a9",
   "metadata": {},
   "outputs": [
    {
     "data": {
      "text/plain": [
       "406829"
      ]
     },
     "execution_count": 145,
     "metadata": {},
     "output_type": "execute_result"
    }
   ],
   "source": [
    "entTxn.dropna().to_sql(con=cnx,\n",
    "                   name='Transaction',\n",
    "                   if_exists='replace',\n",
    "                   index=False,\n",
    "                   chunksize=10000,\n",
    "                   dtype={'TxnID':INTEGER,\n",
    "                          'InvoiceNo':CHAR(7),\n",
    "                          'StockCode':VARCHAR(12),\n",
    "                          'Quantity':INTEGER,\n",
    "                          'CountID':INTEGER,\n",
    "                          'UnitPrice':FLOAT})"
   ]
  },
  {
   "cell_type": "code",
   "execution_count": 146,
   "id": "126b04e6",
   "metadata": {},
   "outputs": [
    {
     "data": {
      "text/plain": [
       "20"
      ]
     },
     "execution_count": 146,
     "metadata": {},
     "output_type": "execute_result"
    }
   ],
   "source": [
    "max(entCountry['Country'].apply(len))"
   ]
  },
  {
   "cell_type": "code",
   "execution_count": 147,
   "id": "1c81e300",
   "metadata": {},
   "outputs": [
    {
     "data": {
      "text/plain": [
       "37"
      ]
     },
     "execution_count": 147,
     "metadata": {},
     "output_type": "execute_result"
    }
   ],
   "source": [
    "len(entTxn['CountID'].unique())"
   ]
  },
  {
   "cell_type": "markdown",
   "id": "37ceef87",
   "metadata": {},
   "source": [
    "### Entidad pais"
   ]
  },
  {
   "cell_type": "code",
   "execution_count": 148,
   "id": "490c3bbd",
   "metadata": {},
   "outputs": [
    {
     "data": {
      "text/html": [
       "<div>\n",
       "<style scoped>\n",
       "    .dataframe tbody tr th:only-of-type {\n",
       "        vertical-align: middle;\n",
       "    }\n",
       "\n",
       "    .dataframe tbody tr th {\n",
       "        vertical-align: top;\n",
       "    }\n",
       "\n",
       "    .dataframe thead th {\n",
       "        text-align: right;\n",
       "    }\n",
       "</style>\n",
       "<table border=\"1\" class=\"dataframe\">\n",
       "  <thead>\n",
       "    <tr style=\"text-align: right;\">\n",
       "      <th></th>\n",
       "      <th>Country</th>\n",
       "      <th>CountID</th>\n",
       "    </tr>\n",
       "  </thead>\n",
       "  <tbody>\n",
       "    <tr>\n",
       "      <th>0</th>\n",
       "      <td>United Kingdom</td>\n",
       "      <td>1</td>\n",
       "    </tr>\n",
       "    <tr>\n",
       "      <th>1</th>\n",
       "      <td>Spain</td>\n",
       "      <td>2</td>\n",
       "    </tr>\n",
       "  </tbody>\n",
       "</table>\n",
       "</div>"
      ],
      "text/plain": [
       "          Country  CountID\n",
       "0  United Kingdom        1\n",
       "1           Spain        2"
      ]
     },
     "execution_count": 148,
     "metadata": {},
     "output_type": "execute_result"
    }
   ],
   "source": [
    "entCountry.head(2)"
   ]
  },
  {
   "cell_type": "code",
   "execution_count": 149,
   "id": "ef57c99e",
   "metadata": {},
   "outputs": [
    {
     "data": {
      "text/plain": [
       "37"
      ]
     },
     "execution_count": 149,
     "metadata": {},
     "output_type": "execute_result"
    }
   ],
   "source": [
    "entCountry.dropna().to_sql(con=cnx,\n",
    "                   name='Country',\n",
    "                   if_exists='replace',\n",
    "                   index=False,\n",
    "                   chunksize=10000,\n",
    "                   dtype={'Country':VARCHAR(20),\n",
    "                          'CountID':INTEGER})"
   ]
  },
  {
   "cell_type": "code",
   "execution_count": null,
   "id": "bf857044",
   "metadata": {},
   "outputs": [],
   "source": []
  },
  {
   "cell_type": "code",
   "execution_count": null,
   "id": "e029d94e",
   "metadata": {},
   "outputs": [],
   "source": []
  },
  {
   "cell_type": "code",
   "execution_count": null,
   "id": "31433354",
   "metadata": {},
   "outputs": [],
   "source": []
  },
  {
   "cell_type": "code",
   "execution_count": null,
   "id": "31066906",
   "metadata": {},
   "outputs": [],
   "source": []
  },
  {
   "cell_type": "code",
   "execution_count": null,
   "id": "bc822126",
   "metadata": {},
   "outputs": [],
   "source": []
  }
 ],
 "metadata": {
  "kernelspec": {
   "display_name": "Python 3 (ipykernel)",
   "language": "python",
   "name": "python3"
  },
  "language_info": {
   "codemirror_mode": {
    "name": "ipython",
    "version": 3
   },
   "file_extension": ".py",
   "mimetype": "text/x-python",
   "name": "python",
   "nbconvert_exporter": "python",
   "pygments_lexer": "ipython3",
   "version": "3.8.10"
  },
  "toc": {
   "base_numbering": 1,
   "nav_menu": {},
   "number_sections": true,
   "sideBar": true,
   "skip_h1_title": false,
   "title_cell": "Table of Contents",
   "title_sidebar": "Contents",
   "toc_cell": false,
   "toc_position": {
    "height": "calc(100% - 180px)",
    "left": "10px",
    "top": "150px",
    "width": "288px"
   },
   "toc_section_display": true,
   "toc_window_display": true
  }
 },
 "nbformat": 4,
 "nbformat_minor": 5
}
